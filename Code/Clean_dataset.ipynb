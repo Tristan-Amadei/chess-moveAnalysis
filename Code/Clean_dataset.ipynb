{
 "cells": [
  {
   "cell_type": "code",
   "execution_count": 1,
   "id": "c1017773",
   "metadata": {},
   "outputs": [],
   "source": [
    "%matplotlib inline\n",
    "import numpy as np\n",
    "import matplotlib.pyplot as plt\n",
    "import pandas as pd"
   ]
  },
  {
   "cell_type": "markdown",
   "id": "695c912a",
   "metadata": {},
   "source": [
    "## Read file and stock into DataFrame"
   ]
  },
  {
   "cell_type": "code",
   "execution_count": 28,
   "id": "b238c534",
   "metadata": {},
   "outputs": [],
   "source": [
    "df = pd.read_csv(\"../Data/chessDB.txt\", sep = \"###\", skiprows = [0, 1, 2, 3, 4], header=None, \n",
    "                 engine='python')"
   ]
  },
  {
   "cell_type": "code",
   "execution_count": 29,
   "id": "f89db2b7",
   "metadata": {},
   "outputs": [
    {
     "name": "stdout",
     "output_type": "stream",
     "text": [
      "(3561470, 2)\n",
      "7122940\n"
     ]
    },
    {
     "data": {
      "text/html": [
       "<div>\n",
       "<style scoped>\n",
       "    .dataframe tbody tr th:only-of-type {\n",
       "        vertical-align: middle;\n",
       "    }\n",
       "\n",
       "    .dataframe tbody tr th {\n",
       "        vertical-align: top;\n",
       "    }\n",
       "\n",
       "    .dataframe thead th {\n",
       "        text-align: right;\n",
       "    }\n",
       "</style>\n",
       "<table border=\"1\" class=\"dataframe\">\n",
       "  <thead>\n",
       "    <tr style=\"text-align: right;\">\n",
       "      <th></th>\n",
       "      <th>0</th>\n",
       "      <th>1</th>\n",
       "    </tr>\n",
       "  </thead>\n",
       "  <tbody>\n",
       "    <tr>\n",
       "      <th>0</th>\n",
       "      <td>1 2000.03.14 1-0 2851 None 67 date_false resul...</td>\n",
       "      <td>W1.d4 B1.d5 W2.c4 B2.e6 W3.Nc3 B3.Nf6 W4.cxd5...</td>\n",
       "    </tr>\n",
       "    <tr>\n",
       "      <th>1</th>\n",
       "      <td>2 2000.03.14 1-0 2851 None 53 date_false resul...</td>\n",
       "      <td>W1.e4 B1.d5 W2.exd5 B2.Qxd5 W3.Nc3 B3.Qa5 W4....</td>\n",
       "    </tr>\n",
       "    <tr>\n",
       "      <th>2</th>\n",
       "      <td>3 1999.11.20 1-0 2851 None 57 date_false resul...</td>\n",
       "      <td>W1.e4 B1.e5 W2.Nf3 B2.Nc6 W3.Bc4 B3.Bc5 W4.c3...</td>\n",
       "    </tr>\n",
       "    <tr>\n",
       "      <th>3</th>\n",
       "      <td>4 1999.11.20 1-0 2851 None 49 date_false resul...</td>\n",
       "      <td>W1.e4 B1.d5 W2.exd5 B2.Qxd5 W3.Nc3 B3.Qa5 W4....</td>\n",
       "    </tr>\n",
       "    <tr>\n",
       "      <th>4</th>\n",
       "      <td>5 2000.02.20 1/2-1/2 2851 2633 97 date_false r...</td>\n",
       "      <td>W1.e4 B1.e5 W2.Nf3 B2.Nc6 W3.Bb5 B3.a6 W4.Ba4...</td>\n",
       "    </tr>\n",
       "  </tbody>\n",
       "</table>\n",
       "</div>"
      ],
      "text/plain": [
       "                                                   0  \\\n",
       "0  1 2000.03.14 1-0 2851 None 67 date_false resul...   \n",
       "1  2 2000.03.14 1-0 2851 None 53 date_false resul...   \n",
       "2  3 1999.11.20 1-0 2851 None 57 date_false resul...   \n",
       "3  4 1999.11.20 1-0 2851 None 49 date_false resul...   \n",
       "4  5 2000.02.20 1/2-1/2 2851 2633 97 date_false r...   \n",
       "\n",
       "                                                   1  \n",
       "0   W1.d4 B1.d5 W2.c4 B2.e6 W3.Nc3 B3.Nf6 W4.cxd5...  \n",
       "1   W1.e4 B1.d5 W2.exd5 B2.Qxd5 W3.Nc3 B3.Qa5 W4....  \n",
       "2   W1.e4 B1.e5 W2.Nf3 B2.Nc6 W3.Bc4 B3.Bc5 W4.c3...  \n",
       "3   W1.e4 B1.d5 W2.exd5 B2.Qxd5 W3.Nc3 B3.Qa5 W4....  \n",
       "4   W1.e4 B1.e5 W2.Nf3 B2.Nc6 W3.Bb5 B3.a6 W4.Ba4...  "
      ]
     },
     "execution_count": 29,
     "metadata": {},
     "output_type": "execute_result"
    }
   ],
   "source": [
    "print(df.shape)\n",
    "print(df.size)\n",
    "df.head()"
   ]
  },
  {
   "cell_type": "markdown",
   "id": "32acfde8",
   "metadata": {},
   "source": [
    "##### We need to split the df, to keep the moves as 1 field and split the field 0 into several fields"
   ]
  },
  {
   "cell_type": "code",
   "execution_count": 30,
   "id": "ee7d9415",
   "metadata": {},
   "outputs": [],
   "source": [
    "moves_df = df[[1]]"
   ]
  },
  {
   "cell_type": "code",
   "execution_count": 31,
   "id": "6401ef84",
   "metadata": {},
   "outputs": [],
   "source": [
    "games_df = df[[0]]"
   ]
  },
  {
   "cell_type": "code",
   "execution_count": 32,
   "id": "9c5a1e44",
   "metadata": {},
   "outputs": [],
   "source": [
    "games_df = games_df[0].str.split(\" \", expand=True)"
   ]
  },
  {
   "cell_type": "code",
   "execution_count": 33,
   "id": "00d335fb",
   "metadata": {},
   "outputs": [],
   "source": [
    "games_df = games_df.drop(columns=0)"
   ]
  },
  {
   "cell_type": "code",
   "execution_count": 34,
   "id": "66e884e7",
   "metadata": {},
   "outputs": [],
   "source": [
    "moves_df.columns = ['moves']"
   ]
  },
  {
   "cell_type": "code",
   "execution_count": 35,
   "id": "f3d390d4",
   "metadata": {},
   "outputs": [],
   "source": [
    "games_df['moves'] = moves_df['moves']"
   ]
  },
  {
   "cell_type": "code",
   "execution_count": 36,
   "id": "247c2739",
   "metadata": {},
   "outputs": [],
   "source": [
    "df = games_df"
   ]
  },
  {
   "cell_type": "markdown",
   "id": "bfafeeb4",
   "metadata": {},
   "source": [
    "##### Let's name the columns to make it easier to work with the data"
   ]
  },
  {
   "cell_type": "code",
   "execution_count": 37,
   "id": "43c6bf4d",
   "metadata": {},
   "outputs": [],
   "source": [
    "df = df.drop(columns = 16) #empty row"
   ]
  },
  {
   "cell_type": "code",
   "execution_count": 38,
   "id": "551aa5a3",
   "metadata": {},
   "outputs": [],
   "source": [
    "columns = ['date', 'result', 'white_elo', 'black_elo', '# moves', 'date_corrupt', 'result_corrupt',\n",
    "           'Welo_corrupt', 'Belo_corrupt', 'eventDate_corrupt', 'setup_corrupt', 'fen_corrupt', \n",
    "           'result2_corrupt', 'out_of_year range', 'game_length_corrupt', 'moves']"
   ]
  },
  {
   "cell_type": "code",
   "execution_count": 39,
   "id": "17e679af",
   "metadata": {},
   "outputs": [],
   "source": [
    "df.columns = columns"
   ]
  },
  {
   "cell_type": "code",
   "execution_count": 40,
   "id": "0a2a2d8b",
   "metadata": {},
   "outputs": [
    {
     "data": {
      "text/html": [
       "<div>\n",
       "<style scoped>\n",
       "    .dataframe tbody tr th:only-of-type {\n",
       "        vertical-align: middle;\n",
       "    }\n",
       "\n",
       "    .dataframe tbody tr th {\n",
       "        vertical-align: top;\n",
       "    }\n",
       "\n",
       "    .dataframe thead th {\n",
       "        text-align: right;\n",
       "    }\n",
       "</style>\n",
       "<table border=\"1\" class=\"dataframe\">\n",
       "  <thead>\n",
       "    <tr style=\"text-align: right;\">\n",
       "      <th></th>\n",
       "      <th>date</th>\n",
       "      <th>result</th>\n",
       "      <th>white_elo</th>\n",
       "      <th>black_elo</th>\n",
       "      <th># moves</th>\n",
       "      <th>date_corrupt</th>\n",
       "      <th>result_corrupt</th>\n",
       "      <th>Welo_corrupt</th>\n",
       "      <th>Belo_corrupt</th>\n",
       "      <th>eventDate_corrupt</th>\n",
       "      <th>setup_corrupt</th>\n",
       "      <th>fen_corrupt</th>\n",
       "      <th>result2_corrupt</th>\n",
       "      <th>out_of_year range</th>\n",
       "      <th>game_length_corrupt</th>\n",
       "      <th>moves</th>\n",
       "    </tr>\n",
       "  </thead>\n",
       "  <tbody>\n",
       "    <tr>\n",
       "      <th>0</th>\n",
       "      <td>2000.03.14</td>\n",
       "      <td>1-0</td>\n",
       "      <td>2851</td>\n",
       "      <td>None</td>\n",
       "      <td>67</td>\n",
       "      <td>date_false</td>\n",
       "      <td>result_false</td>\n",
       "      <td>welo_false</td>\n",
       "      <td>belo_true</td>\n",
       "      <td>edate_true</td>\n",
       "      <td>setup_false</td>\n",
       "      <td>fen_false</td>\n",
       "      <td>result2_false</td>\n",
       "      <td>oyrange_false</td>\n",
       "      <td>blen_false</td>\n",
       "      <td>W1.d4 B1.d5 W2.c4 B2.e6 W3.Nc3 B3.Nf6 W4.cxd5...</td>\n",
       "    </tr>\n",
       "    <tr>\n",
       "      <th>1</th>\n",
       "      <td>2000.03.14</td>\n",
       "      <td>1-0</td>\n",
       "      <td>2851</td>\n",
       "      <td>None</td>\n",
       "      <td>53</td>\n",
       "      <td>date_false</td>\n",
       "      <td>result_false</td>\n",
       "      <td>welo_false</td>\n",
       "      <td>belo_true</td>\n",
       "      <td>edate_true</td>\n",
       "      <td>setup_false</td>\n",
       "      <td>fen_false</td>\n",
       "      <td>result2_false</td>\n",
       "      <td>oyrange_false</td>\n",
       "      <td>blen_false</td>\n",
       "      <td>W1.e4 B1.d5 W2.exd5 B2.Qxd5 W3.Nc3 B3.Qa5 W4....</td>\n",
       "    </tr>\n",
       "  </tbody>\n",
       "</table>\n",
       "</div>"
      ],
      "text/plain": [
       "         date result white_elo black_elo # moves date_corrupt result_corrupt  \\\n",
       "0  2000.03.14    1-0      2851      None      67   date_false   result_false   \n",
       "1  2000.03.14    1-0      2851      None      53   date_false   result_false   \n",
       "\n",
       "  Welo_corrupt Belo_corrupt eventDate_corrupt setup_corrupt fen_corrupt  \\\n",
       "0   welo_false    belo_true        edate_true   setup_false   fen_false   \n",
       "1   welo_false    belo_true        edate_true   setup_false   fen_false   \n",
       "\n",
       "  result2_corrupt out_of_year range game_length_corrupt  \\\n",
       "0   result2_false     oyrange_false          blen_false   \n",
       "1   result2_false     oyrange_false          blen_false   \n",
       "\n",
       "                                               moves  \n",
       "0   W1.d4 B1.d5 W2.c4 B2.e6 W3.Nc3 B3.Nf6 W4.cxd5...  \n",
       "1   W1.e4 B1.d5 W2.exd5 B2.Qxd5 W3.Nc3 B3.Qa5 W4....  "
      ]
     },
     "execution_count": 40,
     "metadata": {},
     "output_type": "execute_result"
    }
   ],
   "source": [
    "df.head(2)"
   ]
  },
  {
   "cell_type": "markdown",
   "id": "df2f40c4",
   "metadata": {},
   "source": [
    "• date: date of the game <br> <br>\n",
    "• result: 1-0 if white won, 0-1 if black won, 1/2-1/2 if draw and * if missing <br> <br>\n",
    "• white_elo: the elo (strength) of the white player; the higher, the better the player <br> <br>\n",
    "• black_elo: the elo (strength) of the black player; the higher, the better the player <br> <br>\n",
    "• # moves: number of moves in the game <br> <br>\n",
    "• date_corrupt: date_true if the date is corrupted in some way, date_false otherwise <br> <br>\n",
    "• result_corrupt: result_true if the result of the game is somehow corrupted, result_false otherwise <br> <br>\n",
    "• Welo_corrupt: welo_true if the white elo is corrupted, welo_false if not <br> <br>\n",
    "• Belo_corrupt: belo_true if the black elo is corrupted, belo_false if not <br> <br>\n",
    "• evenDate_corrupt: edate_true if the date of the event where the game was held id corrupted or not, edate_false otherwise <br> <br>\n",
    "• setup_corrupt: setup_true if the game played was a Fischer Random Chess or the initial setup is somehow corrupted, setup_false otherwise <br> <br>\n",
    "• fen_corrupt: fen_true or fen_false <br> <br>\n",
    "• result2_corrupt: In the original file the result is provided in two places. At the end of each sequence of moves and in the attributes part. This flag indicates if the result is (is not) properly provided after the sequence of moves (just for checking consistency in the PGN file). <br> <br>\n",
    "• out_of_year range: oyrange_false if the game was held in the range [1998, 2007].  <br> <br>\n",
    "• game_length_corrupt: blen_true if the length of the game is not good, blen_false otherwise <br> <br>"
   ]
  },
  {
   "cell_type": "markdown",
   "id": "708862bc",
   "metadata": {},
   "source": [
    "## Remove irrelevant rows and columns"
   ]
  },
  {
   "cell_type": "code",
   "execution_count": 41,
   "id": "b75049e4",
   "metadata": {},
   "outputs": [],
   "source": [
    "clean_df = df.copy(deep=True)"
   ]
  },
  {
   "cell_type": "code",
   "execution_count": 42,
   "id": "1b874685",
   "metadata": {},
   "outputs": [
    {
     "name": "stdout",
     "output_type": "stream",
     "text": [
      "[nan]\n"
     ]
    }
   ],
   "source": [
    "print(df[df.game_length_corrupt == 'blen_true']['moves'].unique())\n",
    "clean_df = clean_df[clean_df.game_length_corrupt == 'blen_false']\n",
    "# nothing but incorrect games, we remove them\n",
    "# we also remove the row 'game_length_corrupt' as it is now irrelevant\n",
    "clean_df = clean_df.drop(columns = 'game_length_corrupt')"
   ]
  },
  {
   "cell_type": "code",
   "execution_count": 43,
   "id": "2f42e561",
   "metadata": {},
   "outputs": [],
   "source": [
    "# we don't care about the date of the game\n",
    "clean_df = clean_df.drop(columns = ['date', 'date_corrupt', 'eventDate_corrupt', 'out_of_year range'])"
   ]
  },
  {
   "cell_type": "code",
   "execution_count": 44,
   "id": "10995797",
   "metadata": {},
   "outputs": [
    {
     "data": {
      "text/plain": [
       "817"
      ]
     },
     "execution_count": 44,
     "metadata": {},
     "output_type": "execute_result"
    }
   ],
   "source": [
    "len(clean_df[clean_df.fen_corrupt == 'fen_true'])"
   ]
  },
  {
   "cell_type": "code",
   "execution_count": 45,
   "id": "b49e04da",
   "metadata": {},
   "outputs": [],
   "source": [
    "# the games where fen_corrupt is true do not correspond to possible games, the moves registered have errors\n",
    "# thus we remove theses games (there are only 817 of them)\n",
    "clean_df = clean_df[clean_df.fen_corrupt == 'fen_false']\n",
    "# we may now remove the column 'fen_corrupt' as it is now always equal to fen_true\n",
    "clean_df = clean_df.drop(columns = 'fen_corrupt')"
   ]
  },
  {
   "cell_type": "code",
   "execution_count": 46,
   "id": "361992cc",
   "metadata": {},
   "outputs": [
    {
     "name": "stdout",
     "output_type": "stream",
     "text": [
      "['result2_true']\n",
      "There are 10 games where the result is corrupted\n"
     ]
    }
   ],
   "source": [
    "# we check that when result_corrupt is true, result2_corrupt is also true\n",
    "# thus we can only analyse one of the two\n",
    "print(clean_df[clean_df.result_corrupt == 'result_true'].result2_corrupt.unique())\n",
    "\n",
    "# we can also see that there are only 13 games where the result is corrupted\n",
    "nb = len(clean_df[clean_df.result_corrupt == 'result_true'])\n",
    "print(f\"There are {nb} games where the result is corrupted\")\n",
    "# hence, we just get rid of them\n",
    "clean_df = clean_df[clean_df.result_corrupt == 'result_false']\n",
    "clean_df = clean_df.drop(columns = ['result_corrupt', 'result2_corrupt'])"
   ]
  },
  {
   "cell_type": "code",
   "execution_count": 47,
   "id": "34fd184c",
   "metadata": {},
   "outputs": [],
   "source": [
    "# we don't really care whether the elo of either player is missing or not\n",
    "clean_df = clean_df.drop(columns = ['Welo_corrupt', 'Belo_corrupt'])"
   ]
  },
  {
   "cell_type": "code",
   "execution_count": 48,
   "id": "03520de9",
   "metadata": {},
   "outputs": [
    {
     "data": {
      "text/plain": [
       "Index(['result', 'white_elo', 'black_elo', '# moves', 'setup_corrupt',\n",
       "       'moves'],\n",
       "      dtype='object')"
      ]
     },
     "execution_count": 48,
     "metadata": {},
     "output_type": "execute_result"
    }
   ],
   "source": [
    "clean_df.columns"
   ]
  },
  {
   "cell_type": "code",
   "execution_count": 49,
   "id": "3a569e75",
   "metadata": {},
   "outputs": [],
   "source": [
    "clean_df['# moves'] = clean_df['# moves'].astype('int')"
   ]
  },
  {
   "cell_type": "code",
   "execution_count": 50,
   "id": "632f412d",
   "metadata": {},
   "outputs": [
    {
     "name": "stdout",
     "output_type": "stream",
     "text": [
      "['setup_false']\n"
     ]
    }
   ],
   "source": [
    "print(clean_df.setup_corrupt.unique())\n",
    "#turns out that, after cleaning our dataset, there no row in clean_df where\n",
    "#setup_corrupt is True, thus we can remove this field\n",
    "clean_df = clean_df.drop(columns = 'setup_corrupt')"
   ]
  },
  {
   "cell_type": "code",
   "execution_count": 51,
   "id": "5fc73c63",
   "metadata": {},
   "outputs": [],
   "source": [
    "#we used to have a mixed type for the elos, with intergers and string if missing\n",
    "#we fix it, and put an negative elo (-1) if the elo happens to be missing\n",
    "clean_df['white_elo'] = clean_df['white_elo'].replace('None', -1)\n",
    "clean_df['black_elo'] = clean_df['black_elo'].replace('None', -1)"
   ]
  },
  {
   "cell_type": "code",
   "execution_count": 52,
   "id": "4fed009d",
   "metadata": {},
   "outputs": [],
   "source": [
    "# let's also remove the games where the numbher of moves is quite low\n",
    "# there aren't too many games like that\n",
    "len(clean_df[clean_df[\"# moves\"] <= 10])\n",
    "clean_df = clean_df.loc[clean_df[\"# moves\"] > 10]"
   ]
  },
  {
   "cell_type": "code",
   "execution_count": 53,
   "id": "711c9bfc",
   "metadata": {},
   "outputs": [
    {
     "data": {
      "text/html": [
       "<div>\n",
       "<style scoped>\n",
       "    .dataframe tbody tr th:only-of-type {\n",
       "        vertical-align: middle;\n",
       "    }\n",
       "\n",
       "    .dataframe tbody tr th {\n",
       "        vertical-align: top;\n",
       "    }\n",
       "\n",
       "    .dataframe thead th {\n",
       "        text-align: right;\n",
       "    }\n",
       "</style>\n",
       "<table border=\"1\" class=\"dataframe\">\n",
       "  <thead>\n",
       "    <tr style=\"text-align: right;\">\n",
       "      <th></th>\n",
       "      <th>result</th>\n",
       "      <th>white_elo</th>\n",
       "      <th>black_elo</th>\n",
       "      <th># moves</th>\n",
       "      <th>moves</th>\n",
       "    </tr>\n",
       "  </thead>\n",
       "  <tbody>\n",
       "    <tr>\n",
       "      <th>0</th>\n",
       "      <td>1-0</td>\n",
       "      <td>2851</td>\n",
       "      <td>-1</td>\n",
       "      <td>67</td>\n",
       "      <td>W1.d4 B1.d5 W2.c4 B2.e6 W3.Nc3 B3.Nf6 W4.cxd5...</td>\n",
       "    </tr>\n",
       "    <tr>\n",
       "      <th>1</th>\n",
       "      <td>1-0</td>\n",
       "      <td>2851</td>\n",
       "      <td>-1</td>\n",
       "      <td>53</td>\n",
       "      <td>W1.e4 B1.d5 W2.exd5 B2.Qxd5 W3.Nc3 B3.Qa5 W4....</td>\n",
       "    </tr>\n",
       "    <tr>\n",
       "      <th>2</th>\n",
       "      <td>1-0</td>\n",
       "      <td>2851</td>\n",
       "      <td>-1</td>\n",
       "      <td>57</td>\n",
       "      <td>W1.e4 B1.e5 W2.Nf3 B2.Nc6 W3.Bc4 B3.Bc5 W4.c3...</td>\n",
       "    </tr>\n",
       "    <tr>\n",
       "      <th>3</th>\n",
       "      <td>1-0</td>\n",
       "      <td>2851</td>\n",
       "      <td>-1</td>\n",
       "      <td>49</td>\n",
       "      <td>W1.e4 B1.d5 W2.exd5 B2.Qxd5 W3.Nc3 B3.Qa5 W4....</td>\n",
       "    </tr>\n",
       "    <tr>\n",
       "      <th>4</th>\n",
       "      <td>1/2-1/2</td>\n",
       "      <td>2851</td>\n",
       "      <td>2633</td>\n",
       "      <td>97</td>\n",
       "      <td>W1.e4 B1.e5 W2.Nf3 B2.Nc6 W3.Bb5 B3.a6 W4.Ba4...</td>\n",
       "    </tr>\n",
       "    <tr>\n",
       "      <th>...</th>\n",
       "      <td>...</td>\n",
       "      <td>...</td>\n",
       "      <td>...</td>\n",
       "      <td>...</td>\n",
       "      <td>...</td>\n",
       "    </tr>\n",
       "    <tr>\n",
       "      <th>3561465</th>\n",
       "      <td>1-0</td>\n",
       "      <td>-1</td>\n",
       "      <td>-1</td>\n",
       "      <td>57</td>\n",
       "      <td>W1.e4 B1.e6 W2.d4 B2.d5 W3.e5 B3.c5 W4.dxc5 B...</td>\n",
       "    </tr>\n",
       "    <tr>\n",
       "      <th>3561466</th>\n",
       "      <td>1/2-1/2</td>\n",
       "      <td>-1</td>\n",
       "      <td>-1</td>\n",
       "      <td>80</td>\n",
       "      <td>W1.d4 B1.Nf6 W2.Nc3 B2.g6 W3.Bg5 B3.Bg7 W4.Nf...</td>\n",
       "    </tr>\n",
       "    <tr>\n",
       "      <th>3561467</th>\n",
       "      <td>1-0</td>\n",
       "      <td>-1</td>\n",
       "      <td>-1</td>\n",
       "      <td>57</td>\n",
       "      <td>W1.c4 B1.Nf6 W2.Nc3 B2.g6 W3.e4 B3.d6 W4.d4 B...</td>\n",
       "    </tr>\n",
       "    <tr>\n",
       "      <th>3561468</th>\n",
       "      <td>1-0</td>\n",
       "      <td>-1</td>\n",
       "      <td>-1</td>\n",
       "      <td>80</td>\n",
       "      <td>W1.g3 B1.d5 W2.Bg2 B2.c5 W3.d3 B3.Nf6 W4.Nf3 ...</td>\n",
       "    </tr>\n",
       "    <tr>\n",
       "      <th>3561469</th>\n",
       "      <td>0-1</td>\n",
       "      <td>-1</td>\n",
       "      <td>-1</td>\n",
       "      <td>80</td>\n",
       "      <td>W1.d4 B1.Nf6 W2.c4 B2.g6 W3.Nc3 B3.Bg7 W4.Nf3...</td>\n",
       "    </tr>\n",
       "  </tbody>\n",
       "</table>\n",
       "<p>3509233 rows × 5 columns</p>\n",
       "</div>"
      ],
      "text/plain": [
       "          result white_elo black_elo  # moves  \\\n",
       "0            1-0      2851        -1       67   \n",
       "1            1-0      2851        -1       53   \n",
       "2            1-0      2851        -1       57   \n",
       "3            1-0      2851        -1       49   \n",
       "4        1/2-1/2      2851      2633       97   \n",
       "...          ...       ...       ...      ...   \n",
       "3561465      1-0        -1        -1       57   \n",
       "3561466  1/2-1/2        -1        -1       80   \n",
       "3561467      1-0        -1        -1       57   \n",
       "3561468      1-0        -1        -1       80   \n",
       "3561469      0-1        -1        -1       80   \n",
       "\n",
       "                                                     moves  \n",
       "0         W1.d4 B1.d5 W2.c4 B2.e6 W3.Nc3 B3.Nf6 W4.cxd5...  \n",
       "1         W1.e4 B1.d5 W2.exd5 B2.Qxd5 W3.Nc3 B3.Qa5 W4....  \n",
       "2         W1.e4 B1.e5 W2.Nf3 B2.Nc6 W3.Bc4 B3.Bc5 W4.c3...  \n",
       "3         W1.e4 B1.d5 W2.exd5 B2.Qxd5 W3.Nc3 B3.Qa5 W4....  \n",
       "4         W1.e4 B1.e5 W2.Nf3 B2.Nc6 W3.Bb5 B3.a6 W4.Ba4...  \n",
       "...                                                    ...  \n",
       "3561465   W1.e4 B1.e6 W2.d4 B2.d5 W3.e5 B3.c5 W4.dxc5 B...  \n",
       "3561466   W1.d4 B1.Nf6 W2.Nc3 B2.g6 W3.Bg5 B3.Bg7 W4.Nf...  \n",
       "3561467   W1.c4 B1.Nf6 W2.Nc3 B2.g6 W3.e4 B3.d6 W4.d4 B...  \n",
       "3561468   W1.g3 B1.d5 W2.Bg2 B2.c5 W3.d3 B3.Nf6 W4.Nf3 ...  \n",
       "3561469   W1.d4 B1.Nf6 W2.c4 B2.g6 W3.Nc3 B3.Bg7 W4.Nf3...  \n",
       "\n",
       "[3509233 rows x 5 columns]"
      ]
     },
     "execution_count": 53,
     "metadata": {},
     "output_type": "execute_result"
    }
   ],
   "source": [
    "clean_df"
   ]
  },
  {
   "cell_type": "code",
   "execution_count": 29,
   "id": "5ec347d9",
   "metadata": {},
   "outputs": [],
   "source": [
    "clean_df.to_csv(\"../Data/clean_df.csv\", index=False)"
   ]
  },
  {
   "cell_type": "code",
   "execution_count": null,
   "id": "e6fd709e",
   "metadata": {},
   "outputs": [],
   "source": []
  }
 ],
 "metadata": {
  "kernelspec": {
   "display_name": "Python 3",
   "language": "python",
   "name": "python3"
  },
  "language_info": {
   "codemirror_mode": {
    "name": "ipython",
    "version": 3
   },
   "file_extension": ".py",
   "mimetype": "text/x-python",
   "name": "python",
   "nbconvert_exporter": "python",
   "pygments_lexer": "ipython3",
   "version": "3.9.6"
  }
 },
 "nbformat": 4,
 "nbformat_minor": 5
}
