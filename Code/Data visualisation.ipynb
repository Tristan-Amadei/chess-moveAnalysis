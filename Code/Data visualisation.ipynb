{
 "cells": [
  {
   "cell_type": "code",
   "execution_count": null,
   "id": "0b82c2f7-5568-47f0-87fc-599e564439ef",
   "metadata": {
    "tags": []
   },
   "outputs": [],
   "source": [
    "#test git partie data visualisation"
   ]
  },
  {
   "cell_type": "code",
   "execution_count": 4,
   "id": "ca854d63-9a33-40f0-b12e-a3a4ff533670",
   "metadata": {},
   "outputs": [],
   "source": [
    "import matplotlib.pyplot as plt\n",
    "\n",
    "import seaborn as sns\n",
    "\n",
    "import pandas as pd\n",
    "\n",
    "import numpy as np"
   ]
  },
  {
   "cell_type": "code",
   "execution_count": null,
   "id": "19dd2311-778c-4db3-9fdb-8187fb68fe58",
   "metadata": {},
   "outputs": [],
   "source": [
    "moves_df = pd.read_csv(r'C:\\Python\\Pythondatabasechess\\moves_df.csv')"
   ]
  },
  {
   "cell_type": "code",
   "execution_count": null,
   "id": "744da762-e371-49e7-b772-32496e360d96",
   "metadata": {},
   "outputs": [],
   "source": [
    "moves_df_reduc = moves_df[['game_index', 'moves', 'fen']]\n",
    "#display(moves_df_reduc[['fen']])\n",
    "#display(moves_df_reduc)"
   ]
  },
  {
   "cell_type": "code",
   "execution_count": null,
   "id": "665d07e5-d9aa-4ea1-8ed8-786887f869bf",
   "metadata": {},
   "outputs": [],
   "source": [
    "L = ['T', 'C', 'F', 'K', 'Q', 'F', 'C', 'T', 'P', 'P', 'P', 'P', 'P', 'P', 'P', 'P', 'a', 'a', 'a', 'a', 'a', 'a', 'a', 'a', 'a', 'a', 'a', 'a', 'a', 'a', 'a', 'a', 'a', 'a', 'a', 'a', 'a', 'a', 'a', 'a', 'a', 'a', 'a', 'a', 'a', 'a', 'a', 'a', 'p', 'p','p', 'p', 'p', 'p', 'p', 'p', 't', 'c', 'f', 'q', 'k', 'f', 'c', 't']\n",
    "#print(len(L))\n",
    "CapturedWhite = []\n",
    "CapturedBlack = []\n",
    "ListeWhite = ['P', 'T', 'C', 'F', 'K', 'Q', 'F', 'C', 'T']\n",
    "ListeBlack = ['p', 't', 'c', 'f', 'k', 'q', 'f', 'c', 't']\n",
    "dict_moves = {\"a1\" : 1, \"b1\" : 2, \"c1\" : 3, \"d1\" : 4, \"e1\" : 5, \"f1\" : 6, \"g1\" : 7, \"h1\" : 8, \"a2\" : 9, \"b2\" : 10, \"c2\" : 11, \"d2\" : 12, \"e2\" : 13, \"f2\" : 14, \"g2\" : 15, \"h2\" : 16, \"a3\" : 17, \"b3\": 18, \"c3\" : 19, \"d3\" : 20, \"e3\" : 21, \"f3\" : 22, \"g3\" : 23, \"h3\" : 24, \"a4\" : 25, \"b4\" : 26, \"c4\" : 27, \"d4\" : 28, \"e4\" : 29, \"f4\" : 30, \"g4\" : 31, \"h4\" : 32, \"a5\" : 33, \"b5\" : 34, \"c5\" : 35, \"d5\" : 36, \"e5\" : 37, \"f5\" : 38, \"g5\" : 39, \"h5\" : 40, \"a6\" : 41, \"b6\" : 42, \"c6\" : 43, \"d6\" :44, \"e6\" : 45, \"f6\" : 46, \"g6\" : 47, \"h6\" : 48, \"a7\" : 49, \"b7\" : 50, \"c7\" : 51, \"d7\" : 52, \"e7\" : 53, \"f7\" : 54, \"g7\" : 55, \"h7\" : 56, \"a8\" : 57, \"b8\" : 58, \"c8\" : 59, \"d8\" : 60, \"e8\" : 61, \"f8\" : 62, \"g8\" : 63, \"h8\" : 64}\n",
    "\n",
    "\n",
    "#print(moves_df_reduc.loc[0:10, 'moves'])\n",
    "\n",
    "#p = []\n",
    "#for i in range(11):\n",
    " #   p.append(moves_df_reduc.loc[i, 'moves'])\n",
    " "
   ]
  },
  {
   "cell_type": "code",
   "execution_count": 2,
   "id": "5d8b910d-fa63-42c3-8ddb-85ab7256790f",
   "metadata": {},
   "outputs": [
    {
     "ename": "NameError",
     "evalue": "name 'moves_df_reduc' is not defined",
     "output_type": "error",
     "traceback": [
      "\u001b[0;31m---------------------------------------------------------------------------\u001b[0m",
      "\u001b[0;31mNameError\u001b[0m                                 Traceback (most recent call last)",
      "Cell \u001b[0;32mIn [2], line 5\u001b[0m\n\u001b[1;32m      3\u001b[0m L \u001b[38;5;241m=\u001b[39m [\u001b[38;5;124m'\u001b[39m\u001b[38;5;124mT\u001b[39m\u001b[38;5;124m'\u001b[39m, \u001b[38;5;124m'\u001b[39m\u001b[38;5;124mC\u001b[39m\u001b[38;5;124m'\u001b[39m, \u001b[38;5;124m'\u001b[39m\u001b[38;5;124mF\u001b[39m\u001b[38;5;124m'\u001b[39m, \u001b[38;5;124m'\u001b[39m\u001b[38;5;124mK\u001b[39m\u001b[38;5;124m'\u001b[39m, \u001b[38;5;124m'\u001b[39m\u001b[38;5;124mQ\u001b[39m\u001b[38;5;124m'\u001b[39m, \u001b[38;5;124m'\u001b[39m\u001b[38;5;124mF\u001b[39m\u001b[38;5;124m'\u001b[39m, \u001b[38;5;124m'\u001b[39m\u001b[38;5;124mC\u001b[39m\u001b[38;5;124m'\u001b[39m, \u001b[38;5;124m'\u001b[39m\u001b[38;5;124mT\u001b[39m\u001b[38;5;124m'\u001b[39m, \u001b[38;5;124m'\u001b[39m\u001b[38;5;124mP\u001b[39m\u001b[38;5;124m'\u001b[39m, \u001b[38;5;124m'\u001b[39m\u001b[38;5;124mP\u001b[39m\u001b[38;5;124m'\u001b[39m, \u001b[38;5;124m'\u001b[39m\u001b[38;5;124mP\u001b[39m\u001b[38;5;124m'\u001b[39m, \u001b[38;5;124m'\u001b[39m\u001b[38;5;124mP\u001b[39m\u001b[38;5;124m'\u001b[39m, \u001b[38;5;124m'\u001b[39m\u001b[38;5;124mP\u001b[39m\u001b[38;5;124m'\u001b[39m, \u001b[38;5;124m'\u001b[39m\u001b[38;5;124mP\u001b[39m\u001b[38;5;124m'\u001b[39m, \u001b[38;5;124m'\u001b[39m\u001b[38;5;124mP\u001b[39m\u001b[38;5;124m'\u001b[39m, \u001b[38;5;124m'\u001b[39m\u001b[38;5;124mP\u001b[39m\u001b[38;5;124m'\u001b[39m, \u001b[38;5;124m'\u001b[39m\u001b[38;5;124ma\u001b[39m\u001b[38;5;124m'\u001b[39m, \u001b[38;5;124m'\u001b[39m\u001b[38;5;124ma\u001b[39m\u001b[38;5;124m'\u001b[39m, \u001b[38;5;124m'\u001b[39m\u001b[38;5;124ma\u001b[39m\u001b[38;5;124m'\u001b[39m, \u001b[38;5;124m'\u001b[39m\u001b[38;5;124ma\u001b[39m\u001b[38;5;124m'\u001b[39m, \u001b[38;5;124m'\u001b[39m\u001b[38;5;124ma\u001b[39m\u001b[38;5;124m'\u001b[39m, \u001b[38;5;124m'\u001b[39m\u001b[38;5;124ma\u001b[39m\u001b[38;5;124m'\u001b[39m, \u001b[38;5;124m'\u001b[39m\u001b[38;5;124ma\u001b[39m\u001b[38;5;124m'\u001b[39m, \u001b[38;5;124m'\u001b[39m\u001b[38;5;124ma\u001b[39m\u001b[38;5;124m'\u001b[39m, \u001b[38;5;124m'\u001b[39m\u001b[38;5;124ma\u001b[39m\u001b[38;5;124m'\u001b[39m, \u001b[38;5;124m'\u001b[39m\u001b[38;5;124ma\u001b[39m\u001b[38;5;124m'\u001b[39m, \u001b[38;5;124m'\u001b[39m\u001b[38;5;124ma\u001b[39m\u001b[38;5;124m'\u001b[39m, \u001b[38;5;124m'\u001b[39m\u001b[38;5;124ma\u001b[39m\u001b[38;5;124m'\u001b[39m, \u001b[38;5;124m'\u001b[39m\u001b[38;5;124ma\u001b[39m\u001b[38;5;124m'\u001b[39m, \u001b[38;5;124m'\u001b[39m\u001b[38;5;124ma\u001b[39m\u001b[38;5;124m'\u001b[39m, \u001b[38;5;124m'\u001b[39m\u001b[38;5;124ma\u001b[39m\u001b[38;5;124m'\u001b[39m, \u001b[38;5;124m'\u001b[39m\u001b[38;5;124ma\u001b[39m\u001b[38;5;124m'\u001b[39m, \u001b[38;5;124m'\u001b[39m\u001b[38;5;124ma\u001b[39m\u001b[38;5;124m'\u001b[39m, \u001b[38;5;124m'\u001b[39m\u001b[38;5;124ma\u001b[39m\u001b[38;5;124m'\u001b[39m, \u001b[38;5;124m'\u001b[39m\u001b[38;5;124ma\u001b[39m\u001b[38;5;124m'\u001b[39m, \u001b[38;5;124m'\u001b[39m\u001b[38;5;124ma\u001b[39m\u001b[38;5;124m'\u001b[39m, \u001b[38;5;124m'\u001b[39m\u001b[38;5;124ma\u001b[39m\u001b[38;5;124m'\u001b[39m, \u001b[38;5;124m'\u001b[39m\u001b[38;5;124ma\u001b[39m\u001b[38;5;124m'\u001b[39m, \u001b[38;5;124m'\u001b[39m\u001b[38;5;124ma\u001b[39m\u001b[38;5;124m'\u001b[39m, \u001b[38;5;124m'\u001b[39m\u001b[38;5;124ma\u001b[39m\u001b[38;5;124m'\u001b[39m, \u001b[38;5;124m'\u001b[39m\u001b[38;5;124ma\u001b[39m\u001b[38;5;124m'\u001b[39m, \u001b[38;5;124m'\u001b[39m\u001b[38;5;124ma\u001b[39m\u001b[38;5;124m'\u001b[39m, \u001b[38;5;124m'\u001b[39m\u001b[38;5;124ma\u001b[39m\u001b[38;5;124m'\u001b[39m, \u001b[38;5;124m'\u001b[39m\u001b[38;5;124ma\u001b[39m\u001b[38;5;124m'\u001b[39m, \u001b[38;5;124m'\u001b[39m\u001b[38;5;124ma\u001b[39m\u001b[38;5;124m'\u001b[39m, \u001b[38;5;124m'\u001b[39m\u001b[38;5;124ma\u001b[39m\u001b[38;5;124m'\u001b[39m, \u001b[38;5;124m'\u001b[39m\u001b[38;5;124ma\u001b[39m\u001b[38;5;124m'\u001b[39m, \u001b[38;5;124m'\u001b[39m\u001b[38;5;124ma\u001b[39m\u001b[38;5;124m'\u001b[39m, \u001b[38;5;124m'\u001b[39m\u001b[38;5;124mp\u001b[39m\u001b[38;5;124m'\u001b[39m, \u001b[38;5;124m'\u001b[39m\u001b[38;5;124mp\u001b[39m\u001b[38;5;124m'\u001b[39m,\u001b[38;5;124m'\u001b[39m\u001b[38;5;124mp\u001b[39m\u001b[38;5;124m'\u001b[39m, \u001b[38;5;124m'\u001b[39m\u001b[38;5;124mp\u001b[39m\u001b[38;5;124m'\u001b[39m, \u001b[38;5;124m'\u001b[39m\u001b[38;5;124mp\u001b[39m\u001b[38;5;124m'\u001b[39m, \u001b[38;5;124m'\u001b[39m\u001b[38;5;124mp\u001b[39m\u001b[38;5;124m'\u001b[39m, \u001b[38;5;124m'\u001b[39m\u001b[38;5;124mp\u001b[39m\u001b[38;5;124m'\u001b[39m, \u001b[38;5;124m'\u001b[39m\u001b[38;5;124mp\u001b[39m\u001b[38;5;124m'\u001b[39m, \u001b[38;5;124m'\u001b[39m\u001b[38;5;124mt\u001b[39m\u001b[38;5;124m'\u001b[39m, \u001b[38;5;124m'\u001b[39m\u001b[38;5;124mc\u001b[39m\u001b[38;5;124m'\u001b[39m, \u001b[38;5;124m'\u001b[39m\u001b[38;5;124mf\u001b[39m\u001b[38;5;124m'\u001b[39m, \u001b[38;5;124m'\u001b[39m\u001b[38;5;124mq\u001b[39m\u001b[38;5;124m'\u001b[39m, \u001b[38;5;124m'\u001b[39m\u001b[38;5;124mk\u001b[39m\u001b[38;5;124m'\u001b[39m, \u001b[38;5;124m'\u001b[39m\u001b[38;5;124mf\u001b[39m\u001b[38;5;124m'\u001b[39m, \u001b[38;5;124m'\u001b[39m\u001b[38;5;124mc\u001b[39m\u001b[38;5;124m'\u001b[39m, \u001b[38;5;124m'\u001b[39m\u001b[38;5;124mt\u001b[39m\u001b[38;5;124m'\u001b[39m]\n\u001b[1;32m      4\u001b[0m moves \u001b[38;5;241m=\u001b[39m [] \u001b[38;5;66;03m#p est la liste de tous les coups de la partie j\u001b[39;00m\n\u001b[0;32m----> 5\u001b[0m \u001b[38;5;28;01mfor\u001b[39;00m k \u001b[38;5;129;01min\u001b[39;00m \u001b[38;5;28mrange\u001b[39m(\u001b[38;5;28mlen\u001b[39m(\u001b[43mmoves_df_reduc\u001b[49m)):\n\u001b[1;32m      6\u001b[0m     \u001b[38;5;28;01mif\u001b[39;00m moves_df_reduc\u001b[38;5;241m.\u001b[39mloc[k, \u001b[38;5;124m'\u001b[39m\u001b[38;5;124mgame_index\u001b[39m\u001b[38;5;124m'\u001b[39m] \u001b[38;5;241m==\u001b[39m j:\n\u001b[1;32m      7\u001b[0m         moves\u001b[38;5;241m.\u001b[39mappend(moves_df_reduc\u001b[38;5;241m.\u001b[39mloc[k,\u001b[38;5;124m'\u001b[39m\u001b[38;5;124mmoves\u001b[39m\u001b[38;5;124m'\u001b[39m])\n",
      "\u001b[0;31mNameError\u001b[0m: name 'moves_df_reduc' is not defined"
     ]
    }
   ],
   "source": [
    "for j in range(1):\n",
    "    try:\n",
    "        L = ['T', 'C', 'F', 'K', 'Q', 'F', 'C', 'T', 'P', 'P', 'P', 'P', 'P', 'P', 'P', 'P', 'a', 'a', 'a', 'a', 'a', 'a', 'a', 'a', 'a', 'a', 'a', 'a', 'a', 'a', 'a', 'a', 'a', 'a', 'a', 'a', 'a', 'a', 'a', 'a', 'a', 'a', 'a', 'a', 'a', 'a', 'a', 'a', 'p', 'p','p', 'p', 'p', 'p', 'p', 'p', 't', 'c', 'f', 'q', 'k', 'f', 'c', 't']\n",
    "        moves = [] #p est la liste de tous les coups de la partie j\n",
    "        for k in range(len(moves_df_reduc)):\n",
    "            if moves_df_reduc.loc[k, 'game_index'] == j:\n",
    "                moves.append(moves_df_reduc.loc[k,'moves'])\n",
    "        \n",
    "        \n",
    "\n",
    "        for i in range(len(moves)):\n",
    "            if L[dict_moves[moves[i][2:]]] in ListeWhite:\n",
    "                CapturedWhite.append([j, moves[i][2:], L[dict_moves[moves[i][2:]]], L[dict_moves[moves[i][:2]]]])\n",
    "            if L[dict_moves[moves[i][2:]]] in ListeBlack:\n",
    "                CapturedBlack.append([j, moves[i][2:], L[dict_moves[moves[i][2:]]], L[dict_moves[moves[i][:2]]]])\n",
    "            L[dict_moves[moves[i][2:]]] = L[dict_moves[moves[i][:2]]]\n",
    "            L[dict_moves[moves[i][:2]]] = 'a'\n",
    "    except IndexError:\n",
    "        pass\n",
    "        \n",
    "\n",
    "#print(CapturedWhite)\n",
    "#print(CapturedBlack)"
   ]
  },
  {
   "cell_type": "code",
   "execution_count": 3,
   "id": "606e5090-4d35-4e87-9605-7e662019c19f",
   "metadata": {},
   "outputs": [
    {
     "ename": "NameError",
     "evalue": "name 'pd' is not defined",
     "output_type": "error",
     "traceback": [
      "\u001b[0;31m---------------------------------------------------------------------------\u001b[0m",
      "\u001b[0;31mNameError\u001b[0m                                 Traceback (most recent call last)",
      "Cell \u001b[0;32mIn [3], line 2\u001b[0m\n\u001b[1;32m      1\u001b[0m \u001b[38;5;66;03m#représentation de capture white sous forme dataframe et groupby\u001b[39;00m\n\u001b[0;32m----> 2\u001b[0m df_White \u001b[38;5;241m=\u001b[39m \u001b[43mpd\u001b[49m\u001b[38;5;241m.\u001b[39mDataFrame\u001b[38;5;241m.\u001b[39mfrom_records(CapturedWhite)\n\u001b[1;32m      3\u001b[0m df_capturedWhite \u001b[38;5;241m=\u001b[39m df_White[[\u001b[38;5;241m2\u001b[39m, \u001b[38;5;241m3\u001b[39m]]\n\u001b[1;32m      4\u001b[0m df_capturedWhite \u001b[38;5;241m=\u001b[39m df_capturedWhite\u001b[38;5;241m.\u001b[39mrename(columns \u001b[38;5;241m=\u001b[39m { \u001b[38;5;241m2\u001b[39m : \u001b[38;5;124m'\u001b[39m\u001b[38;5;124mWhite captured\u001b[39m\u001b[38;5;124m'\u001b[39m, \u001b[38;5;241m3\u001b[39m : \u001b[38;5;124m'\u001b[39m\u001b[38;5;124mBlack capturing\u001b[39m\u001b[38;5;124m'\u001b[39m})\n",
      "\u001b[0;31mNameError\u001b[0m: name 'pd' is not defined"
     ]
    }
   ],
   "source": [
    "#représentation de capture white sous forme dataframe et groupby\n",
    "df_White = pd.DataFrame.from_records(CapturedWhite)\n",
    "df_capturedWhite = df_White[[2, 3]]\n",
    "df_capturedWhite = df_capturedWhite.rename(columns = { 2 : 'White captured', 3 : 'Black capturing'})"
   ]
  },
  {
   "cell_type": "code",
   "execution_count": null,
   "id": "244c55a7-a3c1-44f6-8d3f-b94e973dc808",
   "metadata": {},
   "outputs": [],
   "source": [
    "#représentation de capture black sous forme dataframe et groupby\n",
    "df_Black = pd.DataFrame.from_records(CapturedBlack)\n",
    "df_capturedBlack = df_Black[[2, 3]]\n",
    "df_capturedBlack = df_capturedBlack.rename(columns = { 2 : 'Black captured', 3 : 'White capturing'})\n"
   ]
  },
  {
   "cell_type": "code",
   "execution_count": null,
   "id": "0e4b1851-9001-4a95-8411-b5deb5f9a96f",
   "metadata": {},
   "outputs": [],
   "source": [
    "#heatmap du nombre de fois qu'une pièce blanche est capturée par une pièce noire\n",
    "\n",
    "df_capturedWhite = df_capturedWhite.groupby(['White captured', 'Black capturing']).size().reset_index(name='count')\n",
    "heatmapWhitecaptured = sns.heatmap(df_capturedWhite.pivot(index='Black capturing',columns='White captured',values='count'),annot=True,cbar=False,cmap='Blues')\n",
    "heatmapWhitecaptured.set_title(\"Nombre de fois qu'une pièce Blanche est capturée par une pièce Noire\")\n",
    "heatmapWhitecaptured.set_ylabel('Pièce qui capture (Noir)')\n",
    "heatmapWhitecaptured.set_xlabel('Pièce capturée(Blanc)')"
   ]
  },
  {
   "cell_type": "code",
   "execution_count": null,
   "id": "b1fa1618-9888-49b8-97f3-bff9c274631c",
   "metadata": {},
   "outputs": [],
   "source": [
    "#heatmap du nombre de fois qu'une pièce noire est capturée par une pièce blanche\n",
    "df_capturedBlack = df_capturedBlack.groupby(['Black captured', 'White capturing']).size().reset_index(name='count')\n",
    "heatmapBlackcaptured = sns.heatmap(df_capturedBlack.pivot(index='White capturing',columns='Black captured',values='count'),annot=True,cbar=False,cmap='Blues')\n",
    "heatmapBlackcaptured.set_title(\"Nombre de fois qu'une pièce Noire est capturée par une pièce Blanche\")\n",
    "heatmapBlackcaptured.set_ylabel('Pièce qui capture (Blanc)')\n",
    "heatmapBlackcaptured.set_xlabel('Pièce capturée (Noir)')\n"
   ]
  }
 ],
 "metadata": {
  "kernelspec": {
   "display_name": "Python 3 (ipykernel)",
   "language": "python",
   "name": "python3"
  },
  "language_info": {
   "codemirror_mode": {
    "name": "ipython",
    "version": 3
   },
   "file_extension": ".py",
   "mimetype": "text/x-python",
   "name": "python",
   "nbconvert_exporter": "python",
   "pygments_lexer": "ipython3",
   "version": "3.10.4"
  }
 },
 "nbformat": 4,
 "nbformat_minor": 5
}
