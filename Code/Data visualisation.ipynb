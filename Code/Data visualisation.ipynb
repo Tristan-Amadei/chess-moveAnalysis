{
 "cells": [
  {
   "cell_type": "code",
   "execution_count": null,
   "id": "0b82c2f7-5568-47f0-87fc-599e564439ef",
   "metadata": {
    "tags": []
   },
   "outputs": [],
   "source": [
    "#test git partie data visualisation"
   ]
  },
  {
   "cell_type": "code",
   "execution_count": 4,
   "id": "ca854d63-9a33-40f0-b12e-a3a4ff533670",
   "metadata": {},
   "outputs": [],
   "source": [
    "import pandas as pd"
   ]
  },
  {
   "cell_type": "code",
   "execution_count": null,
   "id": "19dd2311-778c-4db3-9fdb-8187fb68fe58",
   "metadata": {},
   "outputs": [],
   "source": []
  }
 ],
 "metadata": {
  "kernelspec": {
   "display_name": "Python 3 (ipykernel)",
   "language": "python",
   "name": "python3"
  },
  "language_info": {
   "codemirror_mode": {
    "name": "ipython",
    "version": 3
   },
   "file_extension": ".py",
   "mimetype": "text/x-python",
   "name": "python",
   "nbconvert_exporter": "python",
   "pygments_lexer": "ipython3",
   "version": "3.10.4"
  }
 },
 "nbformat": 4,
 "nbformat_minor": 5
}
