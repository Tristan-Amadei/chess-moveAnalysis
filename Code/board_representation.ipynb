{
 "cells": [
  {
   "cell_type": "code",
   "execution_count": 6,
   "id": "8df3e9c3-927b-4483-8102-948ff802d742",
   "metadata": {},
   "outputs": [],
   "source": [
    "NB_OHE = 12"
   ]
  },
  {
   "cell_type": "code",
   "execution_count": 7,
   "id": "c803f335-9bd2-404f-8c57-78b79f67db46",
   "metadata": {},
   "outputs": [],
   "source": [
    "def ohe_piece_index(piece):\n",
    "    #lowercase = black pieces\n",
    "    #uppercase = white pieces\n",
    "    if piece == \"P\":\n",
    "        return 0\n",
    "    if piece == \"N\":\n",
    "        return 1\n",
    "    if piece == \"B\":\n",
    "        return 2\n",
    "    if piece == \"R\":\n",
    "        return 3\n",
    "    if piece == \"Q\":\n",
    "        return 4\n",
    "    if piece == \"K\":\n",
    "        return 5\n",
    "\n",
    "    #is black_piece\n",
    "    return 6 + ohe_piece_index(piece.upper())\n",
    "\n",
    "def ohe_piece(piece):\n",
    "    ohe = [0]*12\n",
    "    index = ohe_piece_index(piece)\n",
    "    ohe[index] = 1\n",
    "    return ohe"
   ]
  },
  {
   "cell_type": "code",
   "execution_count": 8,
   "id": "88962e9d-988f-42a4-af0c-c84d526211ea",
   "metadata": {},
   "outputs": [],
   "source": [
    "def get_coord(square):\n",
    "    row = 7 - square // 8\n",
    "    col = square % 8\n",
    "    return row, col\n",
    "\n",
    "def fen_to_matrix(fen):\n",
    "    matrix = np.zeros((8, 8, NB_OHE), dtype=np.uint8)\n",
    "    pieces = chess.Board(fen).piece_map()\n",
    "    for square in pieces.keys():\n",
    "        row, col = get_coord(square)\n",
    "        piece = pieces[square]\n",
    "        piece_symbol = piece.symbol()\n",
    "        matrix[row, col] = ohe_piece(piece_symbol)\n",
    "    return matrix"
   ]
  }
 ],
 "metadata": {
  "kernelspec": {
   "display_name": "Python 3 (ipykernel)",
   "language": "python",
   "name": "python3"
  },
  "language_info": {
   "codemirror_mode": {
    "name": "ipython",
    "version": 3
   },
   "file_extension": ".py",
   "mimetype": "text/x-python",
   "name": "python",
   "nbconvert_exporter": "python",
   "pygments_lexer": "ipython3",
   "version": "3.10.9"
  }
 },
 "nbformat": 4,
 "nbformat_minor": 5
}
