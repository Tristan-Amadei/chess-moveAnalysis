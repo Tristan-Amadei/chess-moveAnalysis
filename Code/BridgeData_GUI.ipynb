{
 "cells": [
  {
   "cell_type": "code",
   "execution_count": 35,
   "id": "e8ee7f63",
   "metadata": {},
   "outputs": [],
   "source": [
    "import pandas as pd\n",
    "moves_df = pd.read_csv(\"../Data/moves_df.csv\", dtype={\"fen\": str, 'zobrist_key': str})\n",
    "moves_df.fillna('', inplace=True)"
   ]
  },
  {
   "cell_type": "code",
   "execution_count": 150,
   "id": "b9913f3b",
   "metadata": {},
   "outputs": [
    {
     "data": {
      "text/html": [
       "<div>\n",
       "<style scoped>\n",
       "    .dataframe tbody tr th:only-of-type {\n",
       "        vertical-align: middle;\n",
       "    }\n",
       "\n",
       "    .dataframe tbody tr th {\n",
       "        vertical-align: top;\n",
       "    }\n",
       "\n",
       "    .dataframe thead th {\n",
       "        text-align: right;\n",
       "    }\n",
       "</style>\n",
       "<table border=\"1\" class=\"dataframe\">\n",
       "  <thead>\n",
       "    <tr style=\"text-align: right;\">\n",
       "      <th></th>\n",
       "      <th>game_index</th>\n",
       "      <th>moves</th>\n",
       "      <th>evaluation</th>\n",
       "      <th>fen</th>\n",
       "      <th>zobrist_key</th>\n",
       "    </tr>\n",
       "  </thead>\n",
       "  <tbody>\n",
       "    <tr>\n",
       "      <th>0</th>\n",
       "      <td>0</td>\n",
       "      <td>e2e4</td>\n",
       "      <td>35</td>\n",
       "      <td>rnbqkbnr/pppppppp/8/8/4P3/8/PPPP1PPP/RNBQKBNR ...</td>\n",
       "      <td>9384546495678726550</td>\n",
       "    </tr>\n",
       "    <tr>\n",
       "      <th>1</th>\n",
       "      <td>0</td>\n",
       "      <td>e7e5</td>\n",
       "      <td>48</td>\n",
       "      <td>rnbqkbnr/pppp1ppp/8/4p3/4P3/8/PPPP1PPP/RNBQKBN...</td>\n",
       "      <td>595762792459712928</td>\n",
       "    </tr>\n",
       "    <tr>\n",
       "      <th>2</th>\n",
       "      <td>0</td>\n",
       "      <td>g1f3</td>\n",
       "      <td>111</td>\n",
       "      <td>rnbqkbnr/pppp1ppp/8/4p3/4P3/5N2/PPPP1PPP/RNBQK...</td>\n",
       "      <td>15213300192948443293</td>\n",
       "    </tr>\n",
       "    <tr>\n",
       "      <th>3</th>\n",
       "      <td>0</td>\n",
       "      <td>b8c6</td>\n",
       "      <td>47</td>\n",
       "      <td>r1bqkbnr/pppp1ppp/2n5/4p3/4P3/5N2/PPPP1PPP/RNB...</td>\n",
       "      <td>8704797333742910878</td>\n",
       "    </tr>\n",
       "    <tr>\n",
       "      <th>4</th>\n",
       "      <td>0</td>\n",
       "      <td>f1b5</td>\n",
       "      <td>52</td>\n",
       "      <td>r1bqkbnr/pppp1ppp/2n5/1B2p3/4P3/5N2/PPPP1PPP/R...</td>\n",
       "      <td>5409798013178080797</td>\n",
       "    </tr>\n",
       "    <tr>\n",
       "      <th>...</th>\n",
       "      <td>...</td>\n",
       "      <td>...</td>\n",
       "      <td>...</td>\n",
       "      <td>...</td>\n",
       "      <td>...</td>\n",
       "    </tr>\n",
       "    <tr>\n",
       "      <th>9023518</th>\n",
       "      <td>118318</td>\n",
       "      <td>a8c8</td>\n",
       "      <td>-6</td>\n",
       "      <td>2rq1rk1/pp2bppp/2n1pn2/3p4/8/P1NP1BP1/1P1BPP1P...</td>\n",
       "      <td>13935396515866781493</td>\n",
       "    </tr>\n",
       "    <tr>\n",
       "      <th>9023519</th>\n",
       "      <td>118318</td>\n",
       "      <td>f3g2</td>\n",
       "      <td>-2</td>\n",
       "      <td>2rq1rk1/pp2bppp/2n1pn2/3p4/8/P1NP2P1/1P1BPPBP/...</td>\n",
       "      <td>18028698229637126573</td>\n",
       "    </tr>\n",
       "    <tr>\n",
       "      <th>9023520</th>\n",
       "      <td>118318</td>\n",
       "      <td>a7a6</td>\n",
       "      <td>12</td>\n",
       "      <td>2rq1rk1/1p2bppp/p1n1pn2/3p4/8/P1NP2P1/1P1BPPBP...</td>\n",
       "      <td>2937820813377462641</td>\n",
       "    </tr>\n",
       "    <tr>\n",
       "      <th>9023521</th>\n",
       "      <td>118318</td>\n",
       "      <td>a1c1</td>\n",
       "      <td>25</td>\n",
       "      <td>2rq1rk1/1p2bppp/p1n1pn2/3p4/8/P1NP2P1/1P1BPPBP...</td>\n",
       "      <td>11978245410268853311</td>\n",
       "    </tr>\n",
       "    <tr>\n",
       "      <th>9023522</th>\n",
       "      <td>118318</td>\n",
       "      <td>b7b5</td>\n",
       "      <td>5</td>\n",
       "      <td>2rq1rk1/4bppp/p1n1pn2/1p1p4/8/P1NP2P1/1P1BPPBP...</td>\n",
       "      <td>14285185648144582914</td>\n",
       "    </tr>\n",
       "  </tbody>\n",
       "</table>\n",
       "<p>9023523 rows × 5 columns</p>\n",
       "</div>"
      ],
      "text/plain": [
       "         game_index moves  evaluation  \\\n",
       "0                 0  e2e4          35   \n",
       "1                 0  e7e5          48   \n",
       "2                 0  g1f3         111   \n",
       "3                 0  b8c6          47   \n",
       "4                 0  f1b5          52   \n",
       "...             ...   ...         ...   \n",
       "9023518      118318  a8c8          -6   \n",
       "9023519      118318  f3g2          -2   \n",
       "9023520      118318  a7a6          12   \n",
       "9023521      118318  a1c1          25   \n",
       "9023522      118318  b7b5           5   \n",
       "\n",
       "                                                       fen  \\\n",
       "0        rnbqkbnr/pppppppp/8/8/4P3/8/PPPP1PPP/RNBQKBNR ...   \n",
       "1        rnbqkbnr/pppp1ppp/8/4p3/4P3/8/PPPP1PPP/RNBQKBN...   \n",
       "2        rnbqkbnr/pppp1ppp/8/4p3/4P3/5N2/PPPP1PPP/RNBQK...   \n",
       "3        r1bqkbnr/pppp1ppp/2n5/4p3/4P3/5N2/PPPP1PPP/RNB...   \n",
       "4        r1bqkbnr/pppp1ppp/2n5/1B2p3/4P3/5N2/PPPP1PPP/R...   \n",
       "...                                                    ...   \n",
       "9023518  2rq1rk1/pp2bppp/2n1pn2/3p4/8/P1NP1BP1/1P1BPP1P...   \n",
       "9023519  2rq1rk1/pp2bppp/2n1pn2/3p4/8/P1NP2P1/1P1BPPBP/...   \n",
       "9023520  2rq1rk1/1p2bppp/p1n1pn2/3p4/8/P1NP2P1/1P1BPPBP...   \n",
       "9023521  2rq1rk1/1p2bppp/p1n1pn2/3p4/8/P1NP2P1/1P1BPPBP...   \n",
       "9023522  2rq1rk1/4bppp/p1n1pn2/1p1p4/8/P1NP2P1/1P1BPPBP...   \n",
       "\n",
       "                  zobrist_key  \n",
       "0         9384546495678726550  \n",
       "1          595762792459712928  \n",
       "2        15213300192948443293  \n",
       "3         8704797333742910878  \n",
       "4         5409798013178080797  \n",
       "...                       ...  \n",
       "9023518  13935396515866781493  \n",
       "9023519  18028698229637126573  \n",
       "9023520   2937820813377462641  \n",
       "9023521  11978245410268853311  \n",
       "9023522  14285185648144582914  \n",
       "\n",
       "[9023523 rows x 5 columns]"
      ]
     },
     "execution_count": 150,
     "metadata": {},
     "output_type": "execute_result"
    }
   ],
   "source": [
    "moves_df"
   ]
  },
  {
   "cell_type": "code",
   "execution_count": 46,
   "id": "b7b93bbc",
   "metadata": {},
   "outputs": [],
   "source": [
    "from tqdm import tqdm\n",
    "import chess.engine"
   ]
  },
  {
   "cell_type": "code",
   "execution_count": 135,
   "id": "a420e5ad",
   "metadata": {},
   "outputs": [],
   "source": [
    "import chess\n",
    "from chess import *"
   ]
  },
  {
   "cell_type": "code",
   "execution_count": 143,
   "id": "d463898c",
   "metadata": {},
   "outputs": [
    {
     "name": "stderr",
     "output_type": "stream",
     "text": [
      "100%|██████████████████████████████████████████████████████████████████████████████████| 30/30 [01:24<00:00,  2.82s/it]\n"
     ]
    }
   ],
   "source": [
    "best_move_evals = []\n",
    "move_evals = []\n",
    "b = chess.Board()\n",
    "engine = chess.engine.SimpleEngine.popen_uci(\"../Stockfish/stockfish_15_x64_avx2\")\n",
    "\n",
    "for i in tqdm(range(30)):\n",
    "    move = moves_df.iloc[i]['moves']\n",
    "    move_to_play_on_board = getMove(move)\n",
    "    \n",
    "    result = engine.analyse(b, chess.engine.Limit(time=0.5))\n",
    "    \n",
    "    best_move = result['pv'][0]\n",
    "    from_ = best_move.from_square\n",
    "    to = best_move.to_square\n",
    "    \n",
    "    b.push(best_move)\n",
    "    best_move_eval = position_eval(engine, b, time_limit=0.5)\n",
    "    best_move_evals.append(best_move_eval)\n",
    "    b.pop()\n",
    "    \n",
    "    b.push(move_to_play_on_board)\n",
    "    if move_to_play_on_board.from_square == from_ and move_to_play_on_board.to_square == to:\n",
    "        eval_ = best_move_eval\n",
    "    else:\n",
    "        eval_ = position_eval(engine, b, time_limit=0.5)\n",
    "    move_evals.append(eval_)\n",
    "    \n",
    "    \n",
    "    im_svg = chess.svg.board(b, lastmove=move_to_play_on_board, arrows=[chess.svg.Arrow(from_, to, color=\"#cc0000cc\")])\n",
    "    outputfile = open('board' + str(i) + '.svg', \"w\")\n",
    "    outputfile.write(im_svg)\n",
    "    outputfile.close()\n",
    "    \n",
    "    drawing = svg2rlg('board' + str(i) + '.svg')\n",
    "    renderPDF.drawToFile(drawing, \"file\" + str(i) + \".pdf\")\n",
    "    \n",
    "    inputpath = \"./file\" + str(i) + \".pdf\"\n",
    "    outputpath = \"./\"\n",
    "    # To convert single page\n",
    "    #result = pdf2jpg.convert_pdf2jpg(inputpath, outputpath, pages=\"1\")\n",
    "    result = pdf2jpg.convert_pdf2jpg(inputpath, outputpath, dpi=300, pages=\"ALL\")\n",
    "    \n",
    "engine.close()"
   ]
  },
  {
   "cell_type": "code",
   "execution_count": 144,
   "id": "17f052dd",
   "metadata": {},
   "outputs": [],
   "source": [
    "diff = np.array(best_move_evals) - np.array(move_evals)"
   ]
  },
  {
   "cell_type": "code",
   "execution_count": 152,
   "id": "a8d15e6d",
   "metadata": {},
   "outputs": [
    {
     "data": {
      "text/plain": [
       "-15"
      ]
     },
     "execution_count": 152,
     "metadata": {},
     "output_type": "execute_result"
    }
   ],
   "source": [
    "diff[13]"
   ]
  },
  {
   "cell_type": "code",
   "execution_count": 154,
   "id": "be9c3d7f",
   "metadata": {},
   "outputs": [
    {
     "data": {
      "text/plain": [
       "[<matplotlib.lines.Line2D at 0x286145766a0>]"
      ]
     },
     "execution_count": 154,
     "metadata": {},
     "output_type": "execute_result"
    },
    {
     "data": {
      "image/png": "[encoded data removed]",
      "text/plain": [
       "<Figure size 432x288 with 1 Axes>"
      ]
     },
     "metadata": {
      "needs_background": "light"
     },
     "output_type": "display_data"
    }
   ],
   "source": [
    "plt.scatter(list(range(30)), diff)\n",
    "plt.plot([0]*30)"
   ]
  },
  {
   "cell_type": "code",
   "execution_count": 77,
   "id": "be4f45b6",
   "metadata": {
    "scrolled": true
   },
   "outputs": [
    {
     "name": "stdout",
     "output_type": "stream",
     "text": [
      "Reset css and font defaults in:\n",
      "C:\\Users\\trist\\.jupyter\\custom &\n",
      "C:\\Users\\trist\\AppData\\Roaming\\jupyter\\nbextensions\n"
     ]
    }
   ],
   "source": [
    "!jt -r"
   ]
  },
  {
   "cell_type": "code",
   "execution_count": null,
   "id": "59771169",
   "metadata": {},
   "outputs": [],
   "source": []
  },
  {
   "cell_type": "code",
   "execution_count": 1,
   "id": "0c8dc56a",
   "metadata": {},
   "outputs": [],
   "source": [
    "import chess\n",
    "import chess.svg"
   ]
  },
  {
   "cell_type": "code",
   "execution_count": 16,
   "id": "ddb7e7b6",
   "metadata": {},
   "outputs": [],
   "source": [
    "b = chess.Board()"
   ]
  },
  {
   "cell_type": "code",
   "execution_count": 17,
   "id": "8ab2c764",
   "metadata": {},
   "outputs": [],
   "source": [
    "im_svg = chess.svg.board(b)"
   ]
  },
  {
   "cell_type": "code",
   "execution_count": 18,
   "id": "59caa4d8",
   "metadata": {},
   "outputs": [],
   "source": [
    "outputfile = open('board.svg', \"w\")\n",
    "outputfile.write(im_svg)\n",
    "outputfile.close()"
   ]
  },
  {
   "cell_type": "code",
   "execution_count": 19,
   "id": "be273922",
   "metadata": {},
   "outputs": [],
   "source": [
    "import svglib"
   ]
  },
  {
   "cell_type": "code",
   "execution_count": 25,
   "id": "417cb135",
   "metadata": {},
   "outputs": [],
   "source": [
    "from svglib.svglib import svg2rlg\n",
    "from reportlab.graphics import renderPDF, renderPM\n",
    "\n",
    "drawing = svg2rlg(\"board.svg\")\n",
    "renderPDF.drawToFile(drawing, \"file.pdf\")"
   ]
  },
  {
   "cell_type": "code",
   "execution_count": 9,
   "id": "e2a9fd80",
   "metadata": {},
   "outputs": [],
   "source": [
    "from pdf2jpg import pdf2jpg"
   ]
  },
  {
   "cell_type": "code",
   "execution_count": 30,
   "id": "389c17b4",
   "metadata": {},
   "outputs": [
    {
     "name": "stdout",
     "output_type": "stream",
     "text": [
      "[{'cmd': 'java -jar \"C:\\\\Users\\\\trist\\\\anaconda3\\\\envs\\\\tf2.6\\\\Lib\\\\site-packages\\\\pdf2jpg\\\\pdf2jpg.jar\" -i \"./file.pdf\" -o \"./\" -d 300 -p ALL', 'input_path': './file.pdf', 'output_pdfpath': '.\\\\file.pdf_dir', 'output_jpgfiles': ['.\\\\file.pdf_dir\\\\0_file.pdf.jpg']}]\n"
     ]
    }
   ],
   "source": [
    "inputpath = \"./file.pdf\"\n",
    "outputpath = \"./\"\n",
    "# To convert single page\n",
    "#result = pdf2jpg.convert_pdf2jpg(inputpath, outputpath, pages=\"1\")\n",
    "result = pdf2jpg.convert_pdf2jpg(inputpath, outputpath, dpi=300, pages=\"ALL\")\n",
    "print(result)"
   ]
  },
  {
   "cell_type": "code",
   "execution_count": 114,
   "id": "35cb8a64",
   "metadata": {},
   "outputs": [],
   "source": [
    "# functions to evaluate a given chess position\n",
    "\n",
    "def stockfish_evaluation(engine, board, time_limit = 0.01):\n",
    "    result = engine.analyse(board, chess.engine.Limit(time=time_limit))\n",
    "    return result['score'].white()\n",
    "\n",
    "def position_eval(engine, board, time_limit = 0.01):\n",
    "    score = stockfish_evaluation(engine, board, time_limit)\n",
    "    if not score.is_mate():\n",
    "        return score.score()\n",
    "    #the engine has found a way to mate in a certain number of moves\n",
    "    return mateScore(score)\n",
    "\n",
    "def findNumberOfMovesBeforeMate(score):\n",
    "    str_nb_moves_before_mate = ''\n",
    "    s = str(score)\n",
    "    i = len(s)-1\n",
    "    while i >= 0 and s[i].isnumeric():\n",
    "        str_nb_moves_before_mate = s[i] + str_nb_moves_before_mate\n",
    "        i -= 1\n",
    "    return int(str_nb_moves_before_mate)\n",
    "\n",
    "def mateScore(score):\n",
    "    nb_moves_before_mate = findNumberOfMovesBeforeMate(score)\n",
    "    white_is_winning = (str(score.wdl())[9] == '1')\n",
    "    # a.wdl() gives the probability of winning for white\n",
    "    # if the 9th character is equal to 1, then white will deliver mate shortly\n",
    "    # otherwise, white will lose soon and black is winning\n",
    "    score_for_mate = 10000 - nb_moves_before_mate*100\n",
    "    if not white_is_winning:\n",
    "        score_for_mate = (-1)*score_for_mate\n",
    "    return score_for_mate"
   ]
  },
  {
   "cell_type": "code",
   "execution_count": null,
   "id": "40d16ac5",
   "metadata": {},
   "outputs": [],
   "source": []
  }
 ],
 "metadata": {
  "kernelspec": {
   "display_name": "Python 3 (ipykernel)",
   "language": "python",
   "name": "python3"
  },
  "language_info": {
   "codemirror_mode": {
    "name": "ipython",
    "version": 3
   },
   "file_extension": ".py",
   "mimetype": "text/x-python",
   "name": "python",
   "nbconvert_exporter": "python",
   "pygments_lexer": "ipython3",
   "version": "3.9.0"
  }
 },
 "nbformat": 4,
 "nbformat_minor": 5
}
