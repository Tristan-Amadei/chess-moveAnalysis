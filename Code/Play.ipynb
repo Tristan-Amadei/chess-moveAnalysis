{
 "cells": [
  {
   "cell_type": "code",
   "execution_count": 1,
   "id": "460a61a6-0024-4a89-90f4-f2807a8e8226",
   "metadata": {},
   "outputs": [],
   "source": [
    "%%capture capt\n",
    "!pip install matplotlib\n",
    "!pip install pandas\n",
    "!pip install seaborn\n",
    "!pip install scikit-learn\n",
    "!pip install chess\n",
    "!pip install tensorflow\n",
    "!pip install tensorflow_addons"
   ]
  },
  {
   "cell_type": "code",
   "execution_count": 2,
   "id": "14288d74-ff96-40c2-be20-583260acd647",
   "metadata": {},
   "outputs": [
    {
     "name": "stderr",
     "output_type": "stream",
     "text": [
      "2023-07-02 09:55:46.787024: I tensorflow/tsl/cuda/cudart_stub.cc:28] Could not find cuda drivers on your machine, GPU will not be used.\n",
      "2023-07-02 09:55:46.832109: I tensorflow/tsl/cuda/cudart_stub.cc:28] Could not find cuda drivers on your machine, GPU will not be used.\n",
      "2023-07-02 09:55:46.833262: I tensorflow/core/platform/cpu_feature_guard.cc:182] This TensorFlow binary is optimized to use available CPU instructions in performance-critical operations.\n",
      "To enable the following instructions: AVX2 AVX512F FMA, in other operations, rebuild TensorFlow with the appropriate compiler flags.\n",
      "2023-07-02 09:55:47.616823: W tensorflow/compiler/tf2tensorrt/utils/py_utils.cc:38] TF-TRT Warning: Could not find TensorRT\n"
     ]
    },
    {
     "name": "stdout",
     "output_type": "stream",
     "text": [
      "Version:  2.12.0\n",
      "Eager mode:  True\n",
      "GPU is NOT AVAILABLE\n"
     ]
    }
   ],
   "source": [
    "%matplotlib inline\n",
    "import numpy as np\n",
    "import matplotlib.pyplot as plt\n",
    "from tqdm import tqdm\n",
    "import time\n",
    "\n",
    "import warnings\n",
    "warnings.filterwarnings(\"ignore\")\n",
    "\n",
    "import chess\n",
    "\n",
    "import tensorflow as tf\n",
    "from tensorflow.keras.callbacks import EarlyStopping, ModelCheckpoint\n",
    "from tensorflow.keras import datasets, layers, models\n",
    "from tensorflow_addons.metrics import RSquare\n",
    "from tensorflow.keras import regularizers\n",
    "\n",
    "print(\"Version: \", tf.__version__)\n",
    "print(\"Eager mode: \", tf.executing_eagerly())\n",
    "print(\"GPU is\", \"available\" if tf.config.list_physical_devices(\"GPU\") else \"NOT AVAILABLE\")"
   ]
  },
  {
   "cell_type": "markdown",
   "id": "af77a0a8-578b-42f0-9ef2-29b5288c530e",
   "metadata": {},
   "source": [
    "# Functions to represent boards by matrices"
   ]
  },
  {
   "cell_type": "code",
   "execution_count": 3,
   "id": "29be57d2-1f6b-490b-b290-30d7f767616a",
   "metadata": {},
   "outputs": [],
   "source": [
    "%run board_representation.ipynb"
   ]
  },
  {
   "cell_type": "markdown",
   "id": "985ccea8-8f3d-4102-9254-035451ddecdc",
   "metadata": {},
   "source": [
    "# Text-based play"
   ]
  },
  {
   "cell_type": "markdown",
   "id": "00f89b6d-8fea-495e-8782-4a514bc78115",
   "metadata": {},
   "source": [
    "### Functions"
   ]
  },
  {
   "cell_type": "code",
   "execution_count": 4,
   "id": "7c36aefb-7212-4186-8591-1566f916ddbb",
   "metadata": {},
   "outputs": [],
   "source": [
    "def board_to_matrix(board):\n",
    "    fen = board.fen()\n",
    "    return fen_to_matrix(fen)\n",
    "\n",
    "def evaluate_position(board, model):\n",
    "    board_matrix = board_to_matrix(board)\n",
    "    evaluation = model.predict(np.array([board_matrix]), verbose=0)\n",
    "    return evaluation[0, 0]\n",
    "\n",
    "def get_all_attainable_positions(board, model):\n",
    "    legal_moves = list(board.legal_moves)\n",
    "    matrices = {}\n",
    "    \n",
    "    for move in legal_moves:\n",
    "        board.push(move)\n",
    "        matrices[move] = board_to_matrix(board)\n",
    "        board.pop()\n",
    "    return matrices\n",
    "\n",
    "def evaluate_attainable_positions(board, model):\n",
    "    matrices = get_all_attainable_positions(board, model)\n",
    "    X = np.array(list(matrices.values()))\n",
    "    evaluations = model.predict(X, verbose=0)\n",
    "    dict_eval = {}\n",
    "    for i, key in enumerate(matrices.keys()):\n",
    "        dict_eval[key] = evaluations[i, 0]\n",
    "    return dict_eval\n",
    "\n",
    "def find_best_move(board, model):\n",
    "    dict_evals = evaluate_attainable_positions(board, model)\n",
    "    if board.turn:\n",
    "        # white to play\n",
    "        best_move = max(dict_evals, key=dict_evals.get)\n",
    "        return best_move, dict_evals[best_move]\n",
    "    # black to play\n",
    "    best_move = min(dict_evals, key=dict_evals.get)\n",
    "    return best_move, dict_evals[best_move]\n",
    "\n",
    "def play_best_move(board, model, return_eval=True):\n",
    "    best_move, best_eval = find_best_move(board, model)\n",
    "    board.push(best_move)\n",
    "    return best_eval"
   ]
  },
  {
   "cell_type": "markdown",
   "id": "3f7c771a-c533-4c2f-a199-cf15c03618fc",
   "metadata": {},
   "source": [
    "### Play"
   ]
  },
  {
   "cell_type": "code",
   "execution_count": 5,
   "id": "70f60029-900d-4407-8898-ec2491d7fd58",
   "metadata": {},
   "outputs": [],
   "source": [
    "model_path = 'model.h5'\n",
    "model = tf.keras.models.load_model('model.h5')"
   ]
  },
  {
   "cell_type": "code",
   "execution_count": 6,
   "id": "26ee52ab-fbe8-44c9-a7c3-ec0103387579",
   "metadata": {},
   "outputs": [],
   "source": [
    "def play(board, model=model):\n",
    "    eval = play_best_move(board, model)\n",
    "    print(f\"Evaluation = {round(eval, 1)}\")\n",
    "    display(board)"
   ]
  },
  {
   "cell_type": "markdown",
   "id": "189aff60-2dff-461e-967a-d62c8d425864",
   "metadata": {},
   "source": [
    "##### Game"
   ]
  },
  {
   "cell_type": "code",
   "execution_count": 8,
   "id": "52f04645-6977-4de4-b50f-05b4ce024f67",
   "metadata": {},
   "outputs": [],
   "source": [
    "board = chess.Board()"
   ]
  },
  {
   "cell_type": "code",
   "execution_count": null,
   "id": "a892804e-df98-4c4a-8e17-ea47f0bb4524",
   "metadata": {},
   "outputs": [],
   "source": []
  }
 ],
 "metadata": {
  "kernelspec": {
   "display_name": "Python 3 (ipykernel)",
   "language": "python",
   "name": "python3"
  },
  "language_info": {
   "codemirror_mode": {
    "name": "ipython",
    "version": 3
   },
   "file_extension": ".py",
   "mimetype": "text/x-python",
   "name": "python",
   "nbconvert_exporter": "python",
   "pygments_lexer": "ipython3",
   "version": "3.10.9"
  }
 },
 "nbformat": 4,
 "nbformat_minor": 5
}
