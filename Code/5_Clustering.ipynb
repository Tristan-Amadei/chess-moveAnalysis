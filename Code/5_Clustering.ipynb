{
 "cells": [
  {
   "cell_type": "code",
   "execution_count": 2,
   "id": "ce7ed979",
   "metadata": {},
   "outputs": [],
   "source": [
    "%matplotlib inline\n",
    "import numpy as np\n",
    "import matplotlib.pyplot as plt\n",
    "from matplotlib.ticker import PercentFormatter\n",
    "import pandas as pd\n",
    "from tqdm import tqdm\n",
    "import pickle\n",
    "import copy\n",
    "\n",
    "from sklearn.cluster import KMeans "
   ]
  },
  {
   "cell_type": "markdown",
   "id": "7b83b8e0",
   "metadata": {},
   "source": [
    "### Load the dataset"
   ]
  },
  {
   "cell_type": "code",
   "execution_count": 3,
   "id": "2f903c32",
   "metadata": {},
   "outputs": [],
   "source": [
    "moves_df = pd.read_csv(\"../Data/moves_df.csv\", dtype={\"fen\": str})"
   ]
  },
  {
   "cell_type": "code",
   "execution_count": 4,
   "id": "94a9d1a7",
   "metadata": {},
   "outputs": [
    {
     "data": {
      "text/html": [
       "<div>\n",
       "<style scoped>\n",
       "    .dataframe tbody tr th:only-of-type {\n",
       "        vertical-align: middle;\n",
       "    }\n",
       "\n",
       "    .dataframe tbody tr th {\n",
       "        vertical-align: top;\n",
       "    }\n",
       "\n",
       "    .dataframe thead th {\n",
       "        text-align: right;\n",
       "    }\n",
       "</style>\n",
       "<table border=\"1\" class=\"dataframe\">\n",
       "  <thead>\n",
       "    <tr style=\"text-align: right;\">\n",
       "      <th></th>\n",
       "      <th>game_index</th>\n",
       "      <th>moves</th>\n",
       "      <th>evaluation</th>\n",
       "      <th>fen</th>\n",
       "      <th>zobrist_key</th>\n",
       "    </tr>\n",
       "  </thead>\n",
       "  <tbody>\n",
       "    <tr>\n",
       "      <th>0</th>\n",
       "      <td>0</td>\n",
       "      <td>e2e4</td>\n",
       "      <td>35</td>\n",
       "      <td>rnbqkbnr/pppppppp/8/8/4P3/8/PPPP1PPP/RNBQKBNR ...</td>\n",
       "      <td>9384546495678726550</td>\n",
       "    </tr>\n",
       "    <tr>\n",
       "      <th>1</th>\n",
       "      <td>0</td>\n",
       "      <td>e7e5</td>\n",
       "      <td>48</td>\n",
       "      <td>rnbqkbnr/pppp1ppp/8/4p3/4P3/8/PPPP1PPP/RNBQKBN...</td>\n",
       "      <td>595762792459712928</td>\n",
       "    </tr>\n",
       "    <tr>\n",
       "      <th>2</th>\n",
       "      <td>0</td>\n",
       "      <td>g1f3</td>\n",
       "      <td>111</td>\n",
       "      <td>rnbqkbnr/pppp1ppp/8/4p3/4P3/5N2/PPPP1PPP/RNBQK...</td>\n",
       "      <td>15213300192948443293</td>\n",
       "    </tr>\n",
       "    <tr>\n",
       "      <th>3</th>\n",
       "      <td>0</td>\n",
       "      <td>b8c6</td>\n",
       "      <td>47</td>\n",
       "      <td>r1bqkbnr/pppp1ppp/2n5/4p3/4P3/5N2/PPPP1PPP/RNB...</td>\n",
       "      <td>8704797333742910878</td>\n",
       "    </tr>\n",
       "    <tr>\n",
       "      <th>4</th>\n",
       "      <td>0</td>\n",
       "      <td>f1b5</td>\n",
       "      <td>52</td>\n",
       "      <td>r1bqkbnr/pppp1ppp/2n5/1B2p3/4P3/5N2/PPPP1PPP/R...</td>\n",
       "      <td>5409798013178080797</td>\n",
       "    </tr>\n",
       "    <tr>\n",
       "      <th>...</th>\n",
       "      <td>...</td>\n",
       "      <td>...</td>\n",
       "      <td>...</td>\n",
       "      <td>...</td>\n",
       "      <td>...</td>\n",
       "    </tr>\n",
       "    <tr>\n",
       "      <th>9023518</th>\n",
       "      <td>118318</td>\n",
       "      <td>a8c8</td>\n",
       "      <td>-6</td>\n",
       "      <td>2rq1rk1/pp2bppp/2n1pn2/3p4/8/P1NP1BP1/1P1BPP1P...</td>\n",
       "      <td>13935396515866781493</td>\n",
       "    </tr>\n",
       "    <tr>\n",
       "      <th>9023519</th>\n",
       "      <td>118318</td>\n",
       "      <td>f3g2</td>\n",
       "      <td>-2</td>\n",
       "      <td>2rq1rk1/pp2bppp/2n1pn2/3p4/8/P1NP2P1/1P1BPPBP/...</td>\n",
       "      <td>18028698229637126573</td>\n",
       "    </tr>\n",
       "    <tr>\n",
       "      <th>9023520</th>\n",
       "      <td>118318</td>\n",
       "      <td>a7a6</td>\n",
       "      <td>12</td>\n",
       "      <td>2rq1rk1/1p2bppp/p1n1pn2/3p4/8/P1NP2P1/1P1BPPBP...</td>\n",
       "      <td>2937820813377462641</td>\n",
       "    </tr>\n",
       "    <tr>\n",
       "      <th>9023521</th>\n",
       "      <td>118318</td>\n",
       "      <td>a1c1</td>\n",
       "      <td>25</td>\n",
       "      <td>2rq1rk1/1p2bppp/p1n1pn2/3p4/8/P1NP2P1/1P1BPPBP...</td>\n",
       "      <td>11978245410268853311</td>\n",
       "    </tr>\n",
       "    <tr>\n",
       "      <th>9023522</th>\n",
       "      <td>118318</td>\n",
       "      <td>b7b5</td>\n",
       "      <td>5</td>\n",
       "      <td>2rq1rk1/4bppp/p1n1pn2/1p1p4/8/P1NP2P1/1P1BPPBP...</td>\n",
       "      <td>14285185648144582914</td>\n",
       "    </tr>\n",
       "  </tbody>\n",
       "</table>\n",
       "<p>9023523 rows × 5 columns</p>\n",
       "</div>"
      ],
      "text/plain": [
       "         game_index moves  evaluation  \\\n",
       "0                 0  e2e4          35   \n",
       "1                 0  e7e5          48   \n",
       "2                 0  g1f3         111   \n",
       "3                 0  b8c6          47   \n",
       "4                 0  f1b5          52   \n",
       "...             ...   ...         ...   \n",
       "9023518      118318  a8c8          -6   \n",
       "9023519      118318  f3g2          -2   \n",
       "9023520      118318  a7a6          12   \n",
       "9023521      118318  a1c1          25   \n",
       "9023522      118318  b7b5           5   \n",
       "\n",
       "                                                       fen  \\\n",
       "0        rnbqkbnr/pppppppp/8/8/4P3/8/PPPP1PPP/RNBQKBNR ...   \n",
       "1        rnbqkbnr/pppp1ppp/8/4p3/4P3/8/PPPP1PPP/RNBQKBN...   \n",
       "2        rnbqkbnr/pppp1ppp/8/4p3/4P3/5N2/PPPP1PPP/RNBQK...   \n",
       "3        r1bqkbnr/pppp1ppp/2n5/4p3/4P3/5N2/PPPP1PPP/RNB...   \n",
       "4        r1bqkbnr/pppp1ppp/2n5/1B2p3/4P3/5N2/PPPP1PPP/R...   \n",
       "...                                                    ...   \n",
       "9023518  2rq1rk1/pp2bppp/2n1pn2/3p4/8/P1NP1BP1/1P1BPP1P...   \n",
       "9023519  2rq1rk1/pp2bppp/2n1pn2/3p4/8/P1NP2P1/1P1BPPBP/...   \n",
       "9023520  2rq1rk1/1p2bppp/p1n1pn2/3p4/8/P1NP2P1/1P1BPPBP...   \n",
       "9023521  2rq1rk1/1p2bppp/p1n1pn2/3p4/8/P1NP2P1/1P1BPPBP...   \n",
       "9023522  2rq1rk1/4bppp/p1n1pn2/1p1p4/8/P1NP2P1/1P1BPPBP...   \n",
       "\n",
       "                  zobrist_key  \n",
       "0         9384546495678726550  \n",
       "1          595762792459712928  \n",
       "2        15213300192948443293  \n",
       "3         8704797333742910878  \n",
       "4         5409798013178080797  \n",
       "...                       ...  \n",
       "9023518  13935396515866781493  \n",
       "9023519  18028698229637126573  \n",
       "9023520   2937820813377462641  \n",
       "9023521  11978245410268853311  \n",
       "9023522  14285185648144582914  \n",
       "\n",
       "[9023523 rows x 5 columns]"
      ]
     },
     "execution_count": 4,
     "metadata": {},
     "output_type": "execute_result"
    }
   ],
   "source": [
    "moves_df"
   ]
  },
  {
   "cell_type": "markdown",
   "id": "fcfc0716-1b0e-43a8-b518-552c663e2f3c",
   "metadata": {},
   "source": [
    "### Calculate the difference between the metric for each move"
   ]
  },
  {
   "cell_type": "code",
   "execution_count": 5,
   "id": "b0a471bd-48e9-4eed-a918-cf6e687c8c11",
   "metadata": {},
   "outputs": [],
   "source": [
    "# same function thatwas used previously, we just check that the dictionary does exist\n",
    "\n",
    "def dictCorrespondanceIndex_gameIndex(moves_df):\n",
    "    dict_corres = {}\n",
    "    index = 0\n",
    "    for index in tqdm(range(len(moves_df))):\n",
    "        game_index = moves_df.iloc[index]['game_index']\n",
    "        if dict_corres.get(game_index) == None:\n",
    "            dict_corres[game_index] = index\n",
    "    return dict_corres\n",
    "\n",
    "# we first check whether the dictionary has already been calculated\n",
    "try:\n",
    "    with open('../Data/Metric_creation/dict_correspondance.pkl', 'rb') as f:\n",
    "        dict_corres = pickle.load(f)\n",
    "except:\n",
    "    dict_corres = dictCorrespondanceIndex_gameIndex(moves_df)"
   ]
  },
  {
   "cell_type": "code",
   "execution_count": 5,
   "id": "6358ca94-a7b5-48c7-a8b9-41c4a7914918",
   "metadata": {},
   "outputs": [],
   "source": [
    "#for each game, this functions returns a list containing the differences between the metric of following moves\n",
    "#the idea is to determine whether a move is good or not, thus we consider how the game evolves after the move is played\n",
    "\n",
    "def difference_game(game_index):\n",
    "    i = dict_corres[game_index]\n",
    "    diff = [moves_df.iloc[i].evaluation]\n",
    "    i += 1\n",
    "    while i < len(moves_df) and moves_df.iloc[i].game_index == game_index:\n",
    "        eval_i = moves_df.iloc[i].evaluation\n",
    "        eval_prev = moves_df.iloc[i-1].evaluation\n",
    "        diff.append(eval_i - eval_prev)\n",
    "        i += 1\n",
    "    return diff"
   ]
  },
  {
   "cell_type": "code",
   "execution_count": 6,
   "id": "34bde588-1d5c-443b-b1af-225d9c0b0abd",
   "metadata": {},
   "outputs": [],
   "source": [
    "#we calculate the differences for each game\n",
    "\n",
    "differences = []\n",
    "total_games = moves_df.iloc[-1].game_index\n",
    "game_index = 0\n",
    "for game_index in tqdm(range(total_games+1)):\n",
    "    differences += difference_game(game_index)"
   ]
  },
  {
   "cell_type": "markdown",
   "id": "6ae9ab31",
   "metadata": {},
   "source": [
    "# Elbow method for K-Means"
   ]
  },
  {
   "cell_type": "markdown",
   "id": "07b60f64",
   "metadata": {},
   "source": [
    "We want to train a model to recognize good moves from bad moves, so as to be able to play a game of chess on its own. To do that, we must first create the classes of moves, that our model will then predict. To really distinguish between the moves, we use K-Means to differentiate the moves and place them in the same cluster when they are similar. This will be our classes, that we will try tro predict using supervised learning later on. "
   ]
  },
  {
   "cell_type": "markdown",
   "id": "3daa3569",
   "metadata": {},
   "source": [
    "### Elbow method for K-Means"
   ]
  },
  {
   "cell_type": "markdown",
   "id": "a86ce2dc",
   "metadata": {},
   "source": [
    "The elbow method is a way to determine how many clusters to use with our K-Means. </br> We calculate the inertia of the K-Means for different number of clusters, plot the evolution of the inertia and determine (visually) where the \"elbow\" is. </br>\n",
    "The inertia is also known as the \"winthing-cluter sum-o-squares criterion\", as is calculated vit the formula:"
   ]
  },
  {
   "cell_type": "markdown",
   "id": "275aeee9",
   "metadata": {},
   "source": [
    "$$\n",
    "\\text{Inertia = } \\sum_{k=1}^n \\sum_{x_i \\in A_k} ||x - c_k||^2\n",
    "$$\n",
    "$\\newline \\text{where n represents the number of clusters, } A_k \\text{ are the clusters, and the } c_k \\text{ are their centers.}$"
   ]
  },
  {
   "cell_type": "code",
   "execution_count": 10,
   "id": "33903243",
   "metadata": {},
   "outputs": [],
   "source": [
    "X = np.array(differences).reshape(-1, 1)"
   ]
  },
  {
   "cell_type": "code",
   "execution_count": 26,
   "id": "b310aabc-5887-4b71-a343-1244a60dacc0",
   "metadata": {},
   "outputs": [
    {
     "name": "stderr",
     "output_type": "stream",
     "text": [
      "100%|██████████| 24/24 [35:18<00:00, 88.28s/it] \n"
     ]
    }
   ],
   "source": [
    "inertia=[]\n",
    "\n",
    "for n_clusters in tqdm(range(2, 26)):\n",
    "    kmeans = KMeans(n_clusters = n_clusters)\n",
    "    kmeans.fit(X)\n",
    "    \n",
    "    inertia.append(kmeans.inertia_)"
   ]
  },
  {
   "cell_type": "code",
   "execution_count": 27,
   "id": "09e8d399",
   "metadata": {},
   "outputs": [
    {
     "data": {
      "image/png": "[encoded data removed]",
      "text/plain": [
       "<Figure size 700x500 with 1 Axes>"
      ]
     },
     "metadata": {},
     "output_type": "display_data"
    }
   ],
   "source": [
    "fig, ax = plt.subplots(1, 1, figsize=(7, 5))\n",
    "ax.plot(range(2, len(inertia)+2), inertia, c = 'r', label = 'inertie', marker='o')\n",
    "ax.legend(loc='best')\n",
    "ax.grid('on')\n",
    "ax.set_xlabel('Nombre de clusters')\n",
    "ax.set_ylabel('Coût du modèle (Inertie)')\n",
    "ax.set_title('Inertie en fonction du nombre de clusters')\n",
    "plt.show()"
   ]
  },
  {
   "cell_type": "markdown",
   "id": "a3adebb9-2850-44a7-9111-6ffebed83f9d",
   "metadata": {},
   "source": [
    "According to the elbow method, 5 clusters seems to be the optimal number to select."
   ]
  },
  {
   "cell_type": "markdown",
   "id": "675a19f6-71ea-48f3-88bf-3094a2629c5a",
   "metadata": {},
   "source": [
    "### K-Means with 5 clusters"
   ]
  },
  {
   "cell_type": "code",
   "execution_count": 11,
   "id": "e9014ce1-4dac-4897-b26a-c434c0811364",
   "metadata": {},
   "outputs": [],
   "source": [
    "kmeans = KMeans(n_clusters = 5)\n",
    "kmeans.fit(X)\n",
    "y = kmeans.predict(X)"
   ]
  },
  {
   "cell_type": "code",
   "execution_count": 12,
   "id": "711adb0f-848f-4793-92b6-9131abb8b121",
   "metadata": {},
   "outputs": [
    {
     "name": "stdout",
     "output_type": "stream",
     "text": [
      "[ 583929    4727    3977  691822 7739068]\n"
     ]
    },
    {
     "data": {
      "image/png": "[encoded data removed]",
      "text/plain": [
       "<Figure size 700x500 with 1 Axes>"
      ]
     },
     "metadata": {},
     "output_type": "display_data"
    }
   ],
   "source": [
    "plt.figure(figsize=(7,5))\n",
    "labels, counts = np.unique(y, return_counts=True)\n",
    "counts_pct = counts / len(y)\n",
    "print(counts)\n",
    "plt.bar(labels, counts_pct, align='center', color = 'black')\n",
    "plt.gca().set_xticks(labels)\n",
    "plt.gca().yaxis.set_major_formatter(PercentFormatter(1))\n",
    "plt.title('Clusters breakdown\\n')\n",
    "plt.ylabel('Percentage')\n",
    "plt.xlabel('Cluster')\n",
    "plt.show()"
   ]
  },
  {
   "cell_type": "markdown",
   "id": "04bd64dc-8500-464c-86de-9d40601a4c37",
   "metadata": {},
   "source": [
    "##### Calculate the mean difference by cluster"
   ]
  },
  {
   "cell_type": "markdown",
   "id": "01a085c5",
   "metadata": {},
   "source": [
    "We calculate the mean value of each cluster, to understand better what the clusters represent. "
   ]
  },
  {
   "cell_type": "code",
   "execution_count": 13,
   "id": "6b7ddc15-4a64-4944-ad29-1ff0a7e35649",
   "metadata": {},
   "outputs": [
    {
     "name": "stderr",
     "output_type": "stream",
     "text": [
      "100%|██████████| 9023523/9023523 [14:43<00:00, 10210.87it/s]\n"
     ]
    }
   ],
   "source": [
    "metric_mean_by_cluster = [0]*len(labels)\n",
    "for i in tqdm(range(len(y))):\n",
    "    cluster = y[i]\n",
    "    metric_mean_by_cluster[cluster] += moves_df.iloc[i].evaluation"
   ]
  },
  {
   "cell_type": "code",
   "execution_count": 14,
   "id": "2c08bf8d-47c4-4d17-be2e-5e759dd5a923",
   "metadata": {},
   "outputs": [],
   "source": [
    "for i in range(len(metric_mean_by_cluster)):\n",
    "    metric_mean_by_cluster[i] /= counts[i]"
   ]
  },
  {
   "cell_type": "code",
   "execution_count": 15,
   "id": "c7c2b566-f0d0-45ba-b49d-399362143221",
   "metadata": {},
   "outputs": [
    {
     "name": "stdout",
     "output_type": "stream",
     "text": [
      "[252.9706933548428, 7643.363444044849, -5971.394015589641, -89.73411947003709, 43.327128537958316]\n"
     ]
    }
   ],
   "source": [
    "print(metric_mean_by_cluster)"
   ]
  },
  {
   "cell_type": "code",
   "execution_count": 16,
   "id": "c380dcb6-1501-4df7-9321-6890051f0919",
   "metadata": {},
   "outputs": [
    {
     "data": {
      "image/png": "[encoded data removed]",
      "text/plain": [
       "<Figure size 700x500 with 1 Axes>"
      ]
     },
     "metadata": {},
     "output_type": "display_data"
    }
   ],
   "source": [
    "plt.figure(figsize=(7,5))\n",
    "plt.bar(labels, metric_mean_by_cluster, align='center', color = 'black')\n",
    "plt.gca().set_xticks(labels)\n",
    "plt.title('Clusters breakdown\\n')\n",
    "plt.ylabel('Percentage')\n",
    "plt.xlabel('Cluster')\n",
    "plt.show()"
   ]
  },
  {
   "cell_type": "markdown",
   "id": "c849d9fd",
   "metadata": {},
   "source": [
    "It is intersting to see how our K-Means has divided the moves. Basically, and without to much surprise, we can the creation of 5 classes: </br> • class 0: represents the moves that give the white player an advantage\n",
    "</br> • class 1: represents the moves that give the white player a huge advantage, making this player very likely to win the game\n",
    "</br> • class 2: same as class 1, but giving the huge advantage to the black player\n",
    "</br> • class 3: same as class 0, but giving the advantage to the black player\n",
    "</br> • class 4: giving neither player any real advantage"
   ]
  },
  {
   "cell_type": "code",
   "execution_count": 17,
   "id": "83119e8d-c671-4d80-bdee-49e9da3d046b",
   "metadata": {},
   "outputs": [],
   "source": [
    "ordered_means = copy.deepcopy(metric_mean_by_cluster)\n",
    "ordered_means.sort()\n",
    "\n",
    "def get_order_of_cluster(i):\n",
    "    cluster = y[i]\n",
    "    cluster_mean = metric_mean_by_cluster[cluster]\n",
    "    for j in range(len(ordered_means)):\n",
    "        if cluster_mean == ordered_means[j]:\n",
    "            return j"
   ]
  },
  {
   "cell_type": "code",
   "execution_count": 18,
   "id": "fdb7a3dd-a1e6-4375-af2d-46565fed15c8",
   "metadata": {},
   "outputs": [
    {
     "name": "stderr",
     "output_type": "stream",
     "text": [
      "100%|██████████| 9023523/9023523 [00:09<00:00, 964492.63it/s] \n"
     ]
    }
   ],
   "source": [
    "# we sort the clusters by ascending mean to make it easier for us to understand and distinguish the classes\n",
    "# going towards index 0 favors the black player, while going towards the last index favors the white player\n",
    "\n",
    "clusters_sorted = []\n",
    "for i in tqdm(range(len(y))):\n",
    "    cluster_when_sorted = get_order_of_cluster(i)\n",
    "    clusters_sorted.append(cluster_when_sorted)"
   ]
  },
  {
   "cell_type": "markdown",
   "id": "44d1c208-62a6-483a-ae97-e7560489e18e",
   "metadata": {},
   "source": [
    "### Save the results in the dataset"
   ]
  },
  {
   "cell_type": "code",
   "execution_count": 19,
   "id": "6f629440-38e8-486b-8120-ca23aeed84c1",
   "metadata": {},
   "outputs": [],
   "source": [
    "moves_df['differences'] = differences\n",
    "moves_df['class'] = clusters_sorted"
   ]
  },
  {
   "cell_type": "code",
   "execution_count": 20,
   "id": "040baef2-a246-47cb-8616-bdce8efe92e0",
   "metadata": {},
   "outputs": [],
   "source": [
    "moves_df.to_csv(\"../Data/full_moves_df.csv\", index=False)"
   ]
  },
  {
   "cell_type": "code",
   "execution_count": 21,
   "id": "f7a89443-50f5-4395-a0dc-e3fbebcc1b3b",
   "metadata": {},
   "outputs": [
    {
     "data": {
      "text/html": [
       "<div>\n",
       "<style scoped>\n",
       "    .dataframe tbody tr th:only-of-type {\n",
       "        vertical-align: middle;\n",
       "    }\n",
       "\n",
       "    .dataframe tbody tr th {\n",
       "        vertical-align: top;\n",
       "    }\n",
       "\n",
       "    .dataframe thead th {\n",
       "        text-align: right;\n",
       "    }\n",
       "</style>\n",
       "<table border=\"1\" class=\"dataframe\">\n",
       "  <thead>\n",
       "    <tr style=\"text-align: right;\">\n",
       "      <th></th>\n",
       "      <th>game_index</th>\n",
       "      <th>moves</th>\n",
       "      <th>evaluation</th>\n",
       "      <th>fen</th>\n",
       "      <th>zobrist_key</th>\n",
       "      <th>differences</th>\n",
       "      <th>class</th>\n",
       "    </tr>\n",
       "  </thead>\n",
       "  <tbody>\n",
       "    <tr>\n",
       "      <th>0</th>\n",
       "      <td>0</td>\n",
       "      <td>e2e4</td>\n",
       "      <td>35</td>\n",
       "      <td>rnbqkbnr/pppppppp/8/8/4P3/8/PPPP1PPP/RNBQKBNR ...</td>\n",
       "      <td>9384546495678726550</td>\n",
       "      <td>35</td>\n",
       "      <td>2</td>\n",
       "    </tr>\n",
       "    <tr>\n",
       "      <th>1</th>\n",
       "      <td>0</td>\n",
       "      <td>e7e5</td>\n",
       "      <td>48</td>\n",
       "      <td>rnbqkbnr/pppp1ppp/8/4p3/4P3/8/PPPP1PPP/RNBQKBN...</td>\n",
       "      <td>595762792459712928</td>\n",
       "      <td>13</td>\n",
       "      <td>2</td>\n",
       "    </tr>\n",
       "    <tr>\n",
       "      <th>2</th>\n",
       "      <td>0</td>\n",
       "      <td>g1f3</td>\n",
       "      <td>111</td>\n",
       "      <td>rnbqkbnr/pppp1ppp/8/4p3/4P3/5N2/PPPP1PPP/RNBQK...</td>\n",
       "      <td>15213300192948443293</td>\n",
       "      <td>63</td>\n",
       "      <td>2</td>\n",
       "    </tr>\n",
       "    <tr>\n",
       "      <th>3</th>\n",
       "      <td>0</td>\n",
       "      <td>b8c6</td>\n",
       "      <td>47</td>\n",
       "      <td>r1bqkbnr/pppp1ppp/2n5/4p3/4P3/5N2/PPPP1PPP/RNB...</td>\n",
       "      <td>8704797333742910878</td>\n",
       "      <td>-64</td>\n",
       "      <td>2</td>\n",
       "    </tr>\n",
       "    <tr>\n",
       "      <th>4</th>\n",
       "      <td>0</td>\n",
       "      <td>f1b5</td>\n",
       "      <td>52</td>\n",
       "      <td>r1bqkbnr/pppp1ppp/2n5/1B2p3/4P3/5N2/PPPP1PPP/R...</td>\n",
       "      <td>5409798013178080797</td>\n",
       "      <td>5</td>\n",
       "      <td>2</td>\n",
       "    </tr>\n",
       "    <tr>\n",
       "      <th>...</th>\n",
       "      <td>...</td>\n",
       "      <td>...</td>\n",
       "      <td>...</td>\n",
       "      <td>...</td>\n",
       "      <td>...</td>\n",
       "      <td>...</td>\n",
       "      <td>...</td>\n",
       "    </tr>\n",
       "    <tr>\n",
       "      <th>9023518</th>\n",
       "      <td>118318</td>\n",
       "      <td>a8c8</td>\n",
       "      <td>-6</td>\n",
       "      <td>2rq1rk1/pp2bppp/2n1pn2/3p4/8/P1NP1BP1/1P1BPP1P...</td>\n",
       "      <td>13935396515866781493</td>\n",
       "      <td>-6</td>\n",
       "      <td>2</td>\n",
       "    </tr>\n",
       "    <tr>\n",
       "      <th>9023519</th>\n",
       "      <td>118318</td>\n",
       "      <td>f3g2</td>\n",
       "      <td>-2</td>\n",
       "      <td>2rq1rk1/pp2bppp/2n1pn2/3p4/8/P1NP2P1/1P1BPPBP/...</td>\n",
       "      <td>18028698229637126573</td>\n",
       "      <td>4</td>\n",
       "      <td>2</td>\n",
       "    </tr>\n",
       "    <tr>\n",
       "      <th>9023520</th>\n",
       "      <td>118318</td>\n",
       "      <td>a7a6</td>\n",
       "      <td>12</td>\n",
       "      <td>2rq1rk1/1p2bppp/p1n1pn2/3p4/8/P1NP2P1/1P1BPPBP...</td>\n",
       "      <td>2937820813377462641</td>\n",
       "      <td>14</td>\n",
       "      <td>2</td>\n",
       "    </tr>\n",
       "    <tr>\n",
       "      <th>9023521</th>\n",
       "      <td>118318</td>\n",
       "      <td>a1c1</td>\n",
       "      <td>25</td>\n",
       "      <td>2rq1rk1/1p2bppp/p1n1pn2/3p4/8/P1NP2P1/1P1BPPBP...</td>\n",
       "      <td>11978245410268853311</td>\n",
       "      <td>13</td>\n",
       "      <td>2</td>\n",
       "    </tr>\n",
       "    <tr>\n",
       "      <th>9023522</th>\n",
       "      <td>118318</td>\n",
       "      <td>b7b5</td>\n",
       "      <td>5</td>\n",
       "      <td>2rq1rk1/4bppp/p1n1pn2/1p1p4/8/P1NP2P1/1P1BPPBP...</td>\n",
       "      <td>14285185648144582914</td>\n",
       "      <td>-20</td>\n",
       "      <td>2</td>\n",
       "    </tr>\n",
       "  </tbody>\n",
       "</table>\n",
       "<p>9023523 rows × 7 columns</p>\n",
       "</div>"
      ],
      "text/plain": [
       "         game_index moves  evaluation  \\\n",
       "0                 0  e2e4          35   \n",
       "1                 0  e7e5          48   \n",
       "2                 0  g1f3         111   \n",
       "3                 0  b8c6          47   \n",
       "4                 0  f1b5          52   \n",
       "...             ...   ...         ...   \n",
       "9023518      118318  a8c8          -6   \n",
       "9023519      118318  f3g2          -2   \n",
       "9023520      118318  a7a6          12   \n",
       "9023521      118318  a1c1          25   \n",
       "9023522      118318  b7b5           5   \n",
       "\n",
       "                                                       fen  \\\n",
       "0        rnbqkbnr/pppppppp/8/8/4P3/8/PPPP1PPP/RNBQKBNR ...   \n",
       "1        rnbqkbnr/pppp1ppp/8/4p3/4P3/8/PPPP1PPP/RNBQKBN...   \n",
       "2        rnbqkbnr/pppp1ppp/8/4p3/4P3/5N2/PPPP1PPP/RNBQK...   \n",
       "3        r1bqkbnr/pppp1ppp/2n5/4p3/4P3/5N2/PPPP1PPP/RNB...   \n",
       "4        r1bqkbnr/pppp1ppp/2n5/1B2p3/4P3/5N2/PPPP1PPP/R...   \n",
       "...                                                    ...   \n",
       "9023518  2rq1rk1/pp2bppp/2n1pn2/3p4/8/P1NP1BP1/1P1BPP1P...   \n",
       "9023519  2rq1rk1/pp2bppp/2n1pn2/3p4/8/P1NP2P1/1P1BPPBP/...   \n",
       "9023520  2rq1rk1/1p2bppp/p1n1pn2/3p4/8/P1NP2P1/1P1BPPBP...   \n",
       "9023521  2rq1rk1/1p2bppp/p1n1pn2/3p4/8/P1NP2P1/1P1BPPBP...   \n",
       "9023522  2rq1rk1/4bppp/p1n1pn2/1p1p4/8/P1NP2P1/1P1BPPBP...   \n",
       "\n",
       "                  zobrist_key  differences  class  \n",
       "0         9384546495678726550           35      2  \n",
       "1          595762792459712928           13      2  \n",
       "2        15213300192948443293           63      2  \n",
       "3         8704797333742910878          -64      2  \n",
       "4         5409798013178080797            5      2  \n",
       "...                       ...          ...    ...  \n",
       "9023518  13935396515866781493           -6      2  \n",
       "9023519  18028698229637126573            4      2  \n",
       "9023520   2937820813377462641           14      2  \n",
       "9023521  11978245410268853311           13      2  \n",
       "9023522  14285185648144582914          -20      2  \n",
       "\n",
       "[9023523 rows x 7 columns]"
      ]
     },
     "execution_count": 21,
     "metadata": {},
     "output_type": "execute_result"
    }
   ],
   "source": [
    "moves_df"
   ]
  }
 ],
 "metadata": {
  "kernelspec": {
   "display_name": "Python 3",
   "language": "python",
   "name": "python3"
  },
  "language_info": {
   "codemirror_mode": {
    "name": "ipython",
    "version": 3
   },
   "file_extension": ".py",
   "mimetype": "text/x-python",
   "name": "python",
   "nbconvert_exporter": "python",
   "pygments_lexer": "ipython3",
   "version": "3.9.6"
  }
 },
 "nbformat": 4,
 "nbformat_minor": 5
}
