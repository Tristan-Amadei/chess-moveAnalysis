{
 "cells": [
  {
   "cell_type": "code",
   "execution_count": 2,
   "id": "21b4d80c-eb06-414b-b36c-1bbccebd8651",
   "metadata": {},
   "outputs": [],
   "source": [
    "%%capture capt\n",
    "!pip install pandas"
   ]
  },
  {
   "cell_type": "code",
   "execution_count": 3,
   "id": "d9195bba-298b-4b02-bf2b-8e74a7b83115",
   "metadata": {},
   "outputs": [],
   "source": [
    "import os\n",
    "import s3fs\n",
    "import pandas\n",
    "import pickle"
   ]
  },
  {
   "cell_type": "code",
   "execution_count": 4,
   "id": "0fefea12-06a5-4a72-b74a-7c3ea7d3e21b",
   "metadata": {},
   "outputs": [],
   "source": [
    "# Create filesystem object\n",
    "S3_ENDPOINT_URL = \"https://\" + os.environ[\"AWS_S3_ENDPOINT\"]\n",
    "fs = s3fs.S3FileSystem(client_kwargs={'endpoint_url': S3_ENDPOINT_URL})"
   ]
  },
  {
   "cell_type": "code",
   "execution_count": 6,
   "id": "f59fd110-5558-4098-a24a-d5dbe0c9727b",
   "metadata": {},
   "outputs": [],
   "source": [
    "def open_csv(FILE_KEY_S3):\n",
    "    BUCKET = \"tamadei/chessDB\"\n",
    "    FILE_PATH_S3 = BUCKET + \"/\" + FILE_KEY_S3\n",
    "    \n",
    "    with fs.open(FILE_PATH_S3, mode=\"rb\") as file_in:\n",
    "        df = pd.read_csv(file_in)\n",
    "\n",
    "    return df"
   ]
  },
  {
   "cell_type": "code",
   "execution_count": null,
   "id": "15267b63-04dd-4407-9b1f-a640a34e2643",
   "metadata": {},
   "outputs": [],
   "source": [
    "def to_csv(df, FILE_KEY_OUT_S3):\n",
    "    BUCKET_OUT = \"tamadei/chessDB\"\n",
    "    FILE_PATH_OUT_S3 = BUCKET_OUT + \"/\" + FILE_KEY_OUT_S3\n",
    "    \n",
    "    with fs.open(FILE_PATH_OUT_S3, 'w') as file_out:\n",
    "        df.to_csv(file_out, index=False)"
   ]
  },
  {
   "cell_type": "code",
   "execution_count": null,
   "id": "f081c916-698e-43f5-9a4b-560928ad8df0",
   "metadata": {},
   "outputs": [],
   "source": [
    "def save_dict(dic, FILE_KEY_OUT_S3):\n",
    "    BUCKET_OUT = \"tamadei/chessDB\"\n",
    "    FILE_PATH_OUT_S3 = BUCKET_OUT + \"/\" + FILE_KEY_OUT_S3\n",
    "    \n",
    "    with fs.open(FILE_PATH_OUT_S3, 'wb') as file_out:\n",
    "        pickle.dump(dic, file_out)"
   ]
  },
  {
   "cell_type": "code",
   "execution_count": null,
   "id": "f67c4c5e-3dee-4187-9906-090ff125ea14",
   "metadata": {},
   "outputs": [],
   "source": [
    "def load_dic(FILE_KEY_S3):\n",
    "    BUCKET = \"tamadei/chessDB\"\n",
    "    FILE_PATH_S3 = BUCKET + \"/\" + FILE_KEY_S3\n",
    "\n",
    "    with fs.open(FILE_PATH_S3, 'rb') as file_in:\n",
    "        dic = pickle.load(file_in)\n",
    "\n",
    "    return dic"
   ]
  }
 ],
 "metadata": {
  "kernelspec": {
   "display_name": "Python 3 (ipykernel)",
   "language": "python",
   "name": "python3"
  },
  "language_info": {
   "codemirror_mode": {
    "name": "ipython",
    "version": 3
   },
   "file_extension": ".py",
   "mimetype": "text/x-python",
   "name": "python",
   "nbconvert_exporter": "python",
   "pygments_lexer": "ipython3",
   "version": "3.11.4"
  }
 },
 "nbformat": 4,
 "nbformat_minor": 5
}
