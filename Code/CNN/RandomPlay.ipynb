{
 "cells": [
  {
   "cell_type": "code",
   "execution_count": 1,
   "id": "d7115d75-4082-4e9a-99a8-720e021e3b83",
   "metadata": {},
   "outputs": [],
   "source": [
    "%%capture capt\n",
    "!pip install matplotlib\n",
    "!pip install seaborn\n",
    "!pip install scikit-learn\n",
    "!pip install chess"
   ]
  },
  {
   "cell_type": "code",
   "execution_count": 2,
   "id": "b9a236dc-2ae9-40c0-b9ee-36a528dc0252",
   "metadata": {},
   "outputs": [],
   "source": [
    "%matplotlib inline\n",
    "import numpy as np\n",
    "import matplotlib.pyplot as plt\n",
    "import pandas as pd\n",
    "from tqdm import tqdm\n",
    "from collections import Counter\n",
    "import time\n",
    "import seaborn as sns\n",
    "import math\n",
    "\n",
    "import warnings\n",
    "warnings.filterwarnings(\"ignore\")\n",
    "\n",
    "from sklearn.model_selection import train_test_split\n",
    "from sklearn.metrics import accuracy_score, confusion_matrix, f1_score\n",
    "\n",
    "import chess\n",
    "import chess.engine"
   ]
  },
  {
   "cell_type": "code",
   "execution_count": 3,
   "id": "12ee3d6e-323f-4f5e-83d3-da4dca777b3f",
   "metadata": {},
   "outputs": [],
   "source": [
    "def pretty_print(number):\n",
    "    formatted_number = \"{:,}\".format(number)\n",
    "    print(formatted_number)"
   ]
  },
  {
   "cell_type": "markdown",
   "id": "ef59e1b5-6866-4e22-9e0b-5493996ba939",
   "metadata": {},
   "source": [
    "# Load data"
   ]
  },
  {
   "cell_type": "code",
   "execution_count": 4,
   "id": "202e4da9-4085-4620-8c89-bac3d39cb2f0",
   "metadata": {},
   "outputs": [],
   "source": [
    "%run S3.ipynb"
   ]
  },
  {
   "cell_type": "code",
   "execution_count": 5,
   "id": "35a1f2c0-c5c0-4ed8-a5f5-0a32b4e83c95",
   "metadata": {},
   "outputs": [],
   "source": [
    "#moves_df = pd.read_csv(\"../Data/moves_df.csv\")\n",
    "moves_df = open_csv(\"moves_df_rnd.csv\")"
   ]
  },
  {
   "cell_type": "code",
   "execution_count": 6,
   "id": "9a1066e9-9cd5-44a5-ba32-bbc718125877",
   "metadata": {},
   "outputs": [
    {
     "data": {
      "text/html": [
       "<div>\n",
       "<style scoped>\n",
       "    .dataframe tbody tr th:only-of-type {\n",
       "        vertical-align: middle;\n",
       "    }\n",
       "\n",
       "    .dataframe tbody tr th {\n",
       "        vertical-align: top;\n",
       "    }\n",
       "\n",
       "    .dataframe thead th {\n",
       "        text-align: right;\n",
       "    }\n",
       "</style>\n",
       "<table border=\"1\" class=\"dataframe\">\n",
       "  <thead>\n",
       "    <tr style=\"text-align: right;\">\n",
       "      <th></th>\n",
       "      <th>evaluation</th>\n",
       "      <th>fen</th>\n",
       "    </tr>\n",
       "  </thead>\n",
       "  <tbody>\n",
       "    <tr>\n",
       "      <th>0</th>\n",
       "      <td>35</td>\n",
       "      <td>rnbqkbnr/pppppppp/8/8/4P3/8/PPPP1PPP/RNBQKBNR ...</td>\n",
       "    </tr>\n",
       "    <tr>\n",
       "      <th>1</th>\n",
       "      <td>48</td>\n",
       "      <td>rnbqkbnr/pppp1ppp/8/4p3/4P3/8/PPPP1PPP/RNBQKBN...</td>\n",
       "    </tr>\n",
       "    <tr>\n",
       "      <th>2</th>\n",
       "      <td>111</td>\n",
       "      <td>rnbqkbnr/pppp1ppp/8/4p3/4P3/5N2/PPPP1PPP/RNBQK...</td>\n",
       "    </tr>\n",
       "    <tr>\n",
       "      <th>3</th>\n",
       "      <td>47</td>\n",
       "      <td>r1bqkbnr/pppp1ppp/2n5/4p3/4P3/5N2/PPPP1PPP/RNB...</td>\n",
       "    </tr>\n",
       "    <tr>\n",
       "      <th>4</th>\n",
       "      <td>52</td>\n",
       "      <td>r1bqkbnr/pppp1ppp/2n5/1B2p3/4P3/5N2/PPPP1PPP/R...</td>\n",
       "    </tr>\n",
       "    <tr>\n",
       "      <th>...</th>\n",
       "      <td>...</td>\n",
       "      <td>...</td>\n",
       "    </tr>\n",
       "    <tr>\n",
       "      <th>9117278</th>\n",
       "      <td>366</td>\n",
       "      <td>r7/5bk1/4P2b/p1p4p/P1P1pprP/NP6/R7/1NB2K1R w -...</td>\n",
       "    </tr>\n",
       "    <tr>\n",
       "      <th>9117279</th>\n",
       "      <td>-109</td>\n",
       "      <td>r7/5bk1/4P2b/p1p4p/P1P1pprP/NP6/5R2/1NB2K1R b ...</td>\n",
       "    </tr>\n",
       "    <tr>\n",
       "      <th>9117280</th>\n",
       "      <td>396</td>\n",
       "      <td>8/5bk1/r3P2b/p1p4p/P1P1pprP/NP6/5R2/1NB2K1R w ...</td>\n",
       "    </tr>\n",
       "    <tr>\n",
       "      <th>9117281</th>\n",
       "      <td>-210</td>\n",
       "      <td>8/5bk1/r3P2b/p1p4p/P1P1pprP/NP5R/5R2/1NB2K2 b ...</td>\n",
       "    </tr>\n",
       "    <tr>\n",
       "      <th>9117282</th>\n",
       "      <td>-227</td>\n",
       "      <td>8/5bk1/4r2b/p1p4p/P1P1pprP/NP5R/5R2/1NB2K2 w -...</td>\n",
       "    </tr>\n",
       "  </tbody>\n",
       "</table>\n",
       "<p>9117283 rows × 2 columns</p>\n",
       "</div>"
      ],
      "text/plain": [
       "         evaluation                                                fen\n",
       "0                35  rnbqkbnr/pppppppp/8/8/4P3/8/PPPP1PPP/RNBQKBNR ...\n",
       "1                48  rnbqkbnr/pppp1ppp/8/4p3/4P3/8/PPPP1PPP/RNBQKBN...\n",
       "2               111  rnbqkbnr/pppp1ppp/8/4p3/4P3/5N2/PPPP1PPP/RNBQK...\n",
       "3                47  r1bqkbnr/pppp1ppp/2n5/4p3/4P3/5N2/PPPP1PPP/RNB...\n",
       "4                52  r1bqkbnr/pppp1ppp/2n5/1B2p3/4P3/5N2/PPPP1PPP/R...\n",
       "...             ...                                                ...\n",
       "9117278         366  r7/5bk1/4P2b/p1p4p/P1P1pprP/NP6/R7/1NB2K1R w -...\n",
       "9117279        -109  r7/5bk1/4P2b/p1p4p/P1P1pprP/NP6/5R2/1NB2K1R b ...\n",
       "9117280         396  8/5bk1/r3P2b/p1p4p/P1P1pprP/NP6/5R2/1NB2K1R w ...\n",
       "9117281        -210  8/5bk1/r3P2b/p1p4p/P1P1pprP/NP5R/5R2/1NB2K2 b ...\n",
       "9117282        -227  8/5bk1/4r2b/p1p4p/P1P1pprP/NP5R/5R2/1NB2K2 w -...\n",
       "\n",
       "[9117283 rows x 2 columns]"
      ]
     },
     "execution_count": 6,
     "metadata": {},
     "output_type": "execute_result"
    }
   ],
   "source": [
    "moves_df"
   ]
  },
  {
   "cell_type": "markdown",
   "id": "e4db1905-ad13-4a80-9540-10691b5fda79",
   "metadata": {},
   "source": [
    "# RandomPlay to add data"
   ]
  },
  {
   "cell_type": "raw",
   "id": "1986df8d-d3ee-410b-a746-846d6bc06ab7",
   "metadata": {},
   "source": [
    "lens = []\n",
    "cur_game_index = 0\n",
    "cur_length = 0\n",
    "for i in tqdm(range(len(moves_df))):\n",
    "    if i == len(moves_df) - 1:\n",
    "        lens.append(cur_length + 1)\n",
    "    elif cur_game_index == moves_df.iloc[i].game_index:\n",
    "        cur_length += 1\n",
    "    else:\n",
    "        lens.append(cur_length)\n",
    "        cur_game_index += 1\n",
    "        cur_length = 1"
   ]
  },
  {
   "cell_type": "code",
   "execution_count": 7,
   "id": "298cb8ef-49f9-4bb7-ae27-d02185d89516",
   "metadata": {},
   "outputs": [],
   "source": [
    "# we calculated the average length of a game before\n",
    "# as it takes a while to compute, we keep it as a constant\n",
    "mean_game_length = 76"
   ]
  },
  {
   "cell_type": "markdown",
   "id": "01cf7133-65d3-4e13-820d-02a7db857294",
   "metadata": {},
   "source": [
    "### Evaluate chess positions"
   ]
  },
  {
   "cell_type": "code",
   "execution_count": 8,
   "id": "b89a26ae-77cc-484a-a840-84e0ddd5602a",
   "metadata": {},
   "outputs": [],
   "source": [
    "# functions to evaluate a given chess position, using a chess engine named stockfish\n",
    "\n",
    "TIME_LIMIT = 0.3\n",
    "\n",
    "def stockfish_evaluation(board, engine, time_limit = TIME_LIMIT):\n",
    "    #returns the score of the position, from the perspective of the white player\n",
    "    #we will never change perspective throughout our work \n",
    "    #engine = chess.engine.SimpleEngine.popen_uci(\"../../Stockfish/linux/stockfish/stockfish-ubuntu-x86-64-avx2\")\n",
    "    result = engine.analyse(board, chess.engine.Limit(time=time_limit))\n",
    "    #engine.close()\n",
    "    return result['score'].white()\n",
    "\n",
    "def position_eval(board, engine, time_limit = TIME_LIMIT):\n",
    "    # we need to consider scores where the engine has found a way to deliver mate differently\n",
    "    # because is those cases, the score returned is a string, not an integer\n",
    "    score = stockfish_evaluation(board, engine, time_limit)\n",
    "    if not score.is_mate():\n",
    "        return score.score()\n",
    "    #the engine has found a way to mate in a certain number of moves\n",
    "    return mateScore(score)\n",
    "\n",
    "def findNumberOfMovesBeforeMate(score):\n",
    "    str_nb_moves_before_mate = ''\n",
    "    s = str(score)\n",
    "    i = len(s)-1\n",
    "    while i >= 0 and s[i].isnumeric():\n",
    "        str_nb_moves_before_mate = s[i] + str_nb_moves_before_mate\n",
    "        i -= 1\n",
    "    return int(str_nb_moves_before_mate)\n",
    "\n",
    "def mateScore(score):\n",
    "    nb_moves_before_mate = findNumberOfMovesBeforeMate(score)\n",
    "    white_is_winning = (str(score.wdl())[9] == '1')\n",
    "    # a.wdl() gives the probability of winning for white\n",
    "    # if the 9th character is equal to 1, then white will deliver mate shortly\n",
    "    # otherwise, white will lose soon and black is winning\n",
    "    score_for_mate = 10000 - nb_moves_before_mate*100\n",
    "    if not white_is_winning:\n",
    "        score_for_mate = (-1)*score_for_mate\n",
    "    return score_for_mate"
   ]
  },
  {
   "cell_type": "markdown",
   "id": "c140a38a-e330-4b18-a95e-f9744d00e7f7",
   "metadata": {},
   "source": [
    "### Random Play"
   ]
  },
  {
   "cell_type": "code",
   "execution_count": 9,
   "id": "ab44c7a1-68ec-4a6b-83fa-d2870b7ff9eb",
   "metadata": {},
   "outputs": [],
   "source": [
    "def random_move(board):\n",
    "    legal_moves = list(board.legal_moves)\n",
    "    move = np.random.choice(legal_moves)\n",
    "    return move\n",
    "\n",
    "def random_game(length=mean_game_length):\n",
    "    board = chess.Board()\n",
    "    engine = chess.engine.SimpleEngine.popen_uci(\"../../Stockfish/linux/stockfish/stockfish-ubuntu-x86-64-avx2\")\n",
    "    positions = np.empty((length, 2), dtype=object)\n",
    "    for i in range(length):\n",
    "        move = random_move(board)\n",
    "        board.push(move)\n",
    "        eval = position_eval(board, engine)\n",
    "        fen = board.fen()\n",
    "        to_insert = [eval, fen]\n",
    "        positions[i] = to_insert\n",
    "        if board.is_game_over():\n",
    "            engine.close()\n",
    "            return positions[:i+1]\n",
    "    engine.close()\n",
    "    return positions"
   ]
  },
  {
   "cell_type": "markdown",
   "id": "04f7beb4-6267-4591-8bc1-6beedd1bc9fa",
   "metadata": {},
   "source": [
    "### Multiprocessing"
   ]
  },
  {
   "cell_type": "code",
   "execution_count": 10,
   "id": "5560815a-ef8e-482d-b8de-e83b4c238ce7",
   "metadata": {},
   "outputs": [
    {
     "name": "stdout",
     "output_type": "stream",
     "text": [
      "Processes in parallel -> 104\n"
     ]
    }
   ],
   "source": [
    "import multiprocessing\n",
    "from multiprocessing import Pool\n",
    "\n",
    "processes_in_parallel = multiprocessing.cpu_count() \n",
    "print(f\"Processes in parallel -> {processes_in_parallel}\")"
   ]
  },
  {
   "cell_type": "code",
   "execution_count": 11,
   "id": "b504a4c9-5164-40c0-b66a-080927955686",
   "metadata": {},
   "outputs": [],
   "source": [
    "def save(moves_evaluations):\n",
    "    df = pd.DataFrame(moves_evaluations, columns=moves_df.columns)\n",
    "    to_csv(df, \"moves_df_rnd.csv\")\n",
    "    return"
   ]
  },
  {
   "cell_type": "code",
   "execution_count": 12,
   "id": "9d76ace6-f21f-4b19-a91b-ca09d4e1a527",
   "metadata": {},
   "outputs": [
    {
     "name": "stdout",
     "output_type": "stream",
     "text": [
      "9,117,283\n"
     ]
    }
   ],
   "source": [
    "moves_evaluations = moves_df.values\n",
    "pretty_print(len(moves_evaluations))"
   ]
  },
  {
   "cell_type": "code",
   "execution_count": 20,
   "id": "db3f24d6-cca4-413c-b34a-5f6007a78565",
   "metadata": {},
   "outputs": [],
   "source": [
    "games_added = 0\n",
    "cur_cycle_games_added = 0\n",
    "games_to_add = 1000"
   ]
  },
  {
   "cell_type": "code",
   "execution_count": 21,
   "id": "bd6e2b84-701a-4e56-b963-dab0a84ce6ab",
   "metadata": {},
   "outputs": [
    {
     "name": "stderr",
     "output_type": "stream",
     "text": [
      "1040it [11:58,  1.45it/s]                           \n"
     ]
    }
   ],
   "source": [
    "if __name__ == \"__main__\":\n",
    "    with tqdm(total=games_to_add) as pbar:\n",
    "        while games_added < games_to_add:\n",
    "            with Pool() as p:\n",
    "                async_results = [p.apply_async(random_game, args=(mean_game_length, )) for _ in range(processes_in_parallel)]\n",
    "                \n",
    "                for i in range(processes_in_parallel):\n",
    "                    random_positions = async_results[i].get()\n",
    "                    moves_evaluations = np.insert(moves_evaluations, len(moves_evaluations), random_positions, axis=0)\n",
    "                    games_added += 1\n",
    "                    cur_cycle_games_added += 1\n",
    "                    pbar.update(1)\n",
    "    \n",
    "            p.close()\n",
    "            p.join()\n",
    "            if cur_cycle_games_added >= 5000:\n",
    "                save(moves_evaluations)\n",
    "                cur_cycle_games_added = 0\n",
    "save(moves_evaluations)"
   ]
  }
 ],
 "metadata": {
  "kernelspec": {
   "display_name": "Python 3 (ipykernel)",
   "language": "python",
   "name": "python3"
  },
  "language_info": {
   "codemirror_mode": {
    "name": "ipython",
    "version": 3
   },
   "file_extension": ".py",
   "mimetype": "text/x-python",
   "name": "python",
   "nbconvert_exporter": "python",
   "pygments_lexer": "ipython3",
   "version": "3.11.4"
  }
 },
 "nbformat": 4,
 "nbformat_minor": 5
}
