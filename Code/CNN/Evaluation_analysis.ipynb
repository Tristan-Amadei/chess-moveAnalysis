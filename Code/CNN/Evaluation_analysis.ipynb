{
 "cells": [
  {
   "cell_type": "code",
   "execution_count": 1,
   "id": "c63691d6-e72f-49ea-9840-74ac8ac6cb8e",
   "metadata": {},
   "outputs": [],
   "source": [
    "%%capture capt\n",
    "!pip install matplotlib\n",
    "!pip install pandas\n",
    "!pip install seaborn\n",
    "!pip install scikit-learn\n",
    "!pip install chess\n",
    "!pip install tensorflow"
   ]
  },
  {
   "cell_type": "code",
   "execution_count": 2,
   "id": "275661f0-d82b-4989-b5a9-9b7b0bb1657f",
   "metadata": {},
   "outputs": [],
   "source": [
    "%matplotlib inline\n",
    "import numpy as np\n",
    "import matplotlib.pyplot as plt\n",
    "import pandas as pd\n",
    "from tqdm import tqdm\n",
    "from collections import Counter\n",
    "import time\n",
    "import seaborn as sns\n",
    "import math\n",
    "\n",
    "import warnings\n",
    "warnings.filterwarnings(\"ignore\")\n",
    "\n",
    "from sklearn.model_selection import train_test_split\n",
    "from sklearn.metrics import accuracy_score, confusion_matrix, f1_score\n",
    "\n",
    "import chess"
   ]
  },
  {
   "cell_type": "markdown",
   "id": "dd355cc9-fcff-428a-98dc-4fb0244048c8",
   "metadata": {},
   "source": [
    "# Load data"
   ]
  },
  {
   "cell_type": "code",
   "execution_count": 3,
   "id": "6475230d-bcf5-44bb-95fd-e3a3213b5879",
   "metadata": {},
   "outputs": [],
   "source": [
    "%run S3.ipynb"
   ]
  },
  {
   "cell_type": "code",
   "execution_count": 4,
   "id": "511d03d8-42d9-4ff7-ad96-31a49f43b10d",
   "metadata": {},
   "outputs": [],
   "source": [
    "#moves_df = pd.read_csv(\"../Data/moves_df.csv\")\n",
    "moves_df = open_csv(\"moves_df_rnd.csv\")"
   ]
  },
  {
   "cell_type": "code",
   "execution_count": 5,
   "id": "8f911d60-9dac-4ee9-b598-1bc8b7789fdb",
   "metadata": {},
   "outputs": [
    {
     "data": {
      "text/html": [
       "<div>\n",
       "<style scoped>\n",
       "    .dataframe tbody tr th:only-of-type {\n",
       "        vertical-align: middle;\n",
       "    }\n",
       "\n",
       "    .dataframe tbody tr th {\n",
       "        vertical-align: top;\n",
       "    }\n",
       "\n",
       "    .dataframe thead th {\n",
       "        text-align: right;\n",
       "    }\n",
       "</style>\n",
       "<table border=\"1\" class=\"dataframe\">\n",
       "  <thead>\n",
       "    <tr style=\"text-align: right;\">\n",
       "      <th></th>\n",
       "      <th>evaluation</th>\n",
       "      <th>fen</th>\n",
       "    </tr>\n",
       "  </thead>\n",
       "  <tbody>\n",
       "    <tr>\n",
       "      <th>0</th>\n",
       "      <td>35</td>\n",
       "      <td>rnbqkbnr/pppppppp/8/8/4P3/8/PPPP1PPP/RNBQKBNR ...</td>\n",
       "    </tr>\n",
       "    <tr>\n",
       "      <th>1</th>\n",
       "      <td>48</td>\n",
       "      <td>rnbqkbnr/pppp1ppp/8/4p3/4P3/8/PPPP1PPP/RNBQKBN...</td>\n",
       "    </tr>\n",
       "    <tr>\n",
       "      <th>2</th>\n",
       "      <td>111</td>\n",
       "      <td>rnbqkbnr/pppp1ppp/8/4p3/4P3/5N2/PPPP1PPP/RNBQK...</td>\n",
       "    </tr>\n",
       "    <tr>\n",
       "      <th>3</th>\n",
       "      <td>47</td>\n",
       "      <td>r1bqkbnr/pppp1ppp/2n5/4p3/4P3/5N2/PPPP1PPP/RNB...</td>\n",
       "    </tr>\n",
       "    <tr>\n",
       "      <th>4</th>\n",
       "      <td>52</td>\n",
       "      <td>r1bqkbnr/pppp1ppp/2n5/1B2p3/4P3/5N2/PPPP1PPP/R...</td>\n",
       "    </tr>\n",
       "    <tr>\n",
       "      <th>...</th>\n",
       "      <td>...</td>\n",
       "      <td>...</td>\n",
       "    </tr>\n",
       "    <tr>\n",
       "      <th>23664438</th>\n",
       "      <td>-209</td>\n",
       "      <td>1n1k1q2/rpp5/pN1Pp2b/PP6/2Ppp3/2B5/3P2KP/R5R1 ...</td>\n",
       "    </tr>\n",
       "    <tr>\n",
       "      <th>23664439</th>\n",
       "      <td>-9900</td>\n",
       "      <td>Nn1k1q2/rpp5/p2Pp2b/PP6/2Ppp3/2B5/3P2KP/R5R1 b...</td>\n",
       "    </tr>\n",
       "    <tr>\n",
       "      <th>23664440</th>\n",
       "      <td>-437</td>\n",
       "      <td>Nn1k1q2/rp6/p1pPp2b/PP6/2Ppp3/2B5/3P2KP/R5R1 w...</td>\n",
       "    </tr>\n",
       "    <tr>\n",
       "      <th>23664441</th>\n",
       "      <td>-9900</td>\n",
       "      <td>Nn1k1q2/rp6/p1pPp2b/PP6/2Ppp3/2B5/3P2KP/3R2R1 ...</td>\n",
       "    </tr>\n",
       "    <tr>\n",
       "      <th>23664442</th>\n",
       "      <td>-238</td>\n",
       "      <td>Nn1k1q2/rp6/p1pPp3/PP6/2Ppp3/2B5/3b2KP/3R2R1 w...</td>\n",
       "    </tr>\n",
       "  </tbody>\n",
       "</table>\n",
       "<p>23664443 rows × 2 columns</p>\n",
       "</div>"
      ],
      "text/plain": [
       "          evaluation                                                fen\n",
       "0                 35  rnbqkbnr/pppppppp/8/8/4P3/8/PPPP1PPP/RNBQKBNR ...\n",
       "1                 48  rnbqkbnr/pppp1ppp/8/4p3/4P3/8/PPPP1PPP/RNBQKBN...\n",
       "2                111  rnbqkbnr/pppp1ppp/8/4p3/4P3/5N2/PPPP1PPP/RNBQK...\n",
       "3                 47  r1bqkbnr/pppp1ppp/2n5/4p3/4P3/5N2/PPPP1PPP/RNB...\n",
       "4                 52  r1bqkbnr/pppp1ppp/2n5/1B2p3/4P3/5N2/PPPP1PPP/R...\n",
       "...              ...                                                ...\n",
       "23664438        -209  1n1k1q2/rpp5/pN1Pp2b/PP6/2Ppp3/2B5/3P2KP/R5R1 ...\n",
       "23664439       -9900  Nn1k1q2/rpp5/p2Pp2b/PP6/2Ppp3/2B5/3P2KP/R5R1 b...\n",
       "23664440        -437  Nn1k1q2/rp6/p1pPp2b/PP6/2Ppp3/2B5/3P2KP/R5R1 w...\n",
       "23664441       -9900  Nn1k1q2/rp6/p1pPp2b/PP6/2Ppp3/2B5/3P2KP/3R2R1 ...\n",
       "23664442        -238  Nn1k1q2/rp6/p1pPp3/PP6/2Ppp3/2B5/3b2KP/3R2R1 w...\n",
       "\n",
       "[23664443 rows x 2 columns]"
      ]
     },
     "execution_count": 5,
     "metadata": {},
     "output_type": "execute_result"
    }
   ],
   "source": [
    "moves_df"
   ]
  },
  {
   "cell_type": "markdown",
   "id": "205d7211-9451-4d0b-8645-813b42660038",
   "metadata": {},
   "source": [
    "# Remove duplicates"
   ]
  },
  {
   "cell_type": "code",
   "execution_count": 6,
   "id": "5f3eda2a-05d1-4f8d-b41b-591e483c2d78",
   "metadata": {},
   "outputs": [],
   "source": [
    "moves_df.drop_duplicates(subset=[\"fen\"], inplace=True)"
   ]
  },
  {
   "cell_type": "code",
   "execution_count": 7,
   "id": "1d35953a-6ae0-47e9-99f0-f923032de6b4",
   "metadata": {},
   "outputs": [
    {
     "data": {
      "text/html": [
       "<div>\n",
       "<style scoped>\n",
       "    .dataframe tbody tr th:only-of-type {\n",
       "        vertical-align: middle;\n",
       "    }\n",
       "\n",
       "    .dataframe tbody tr th {\n",
       "        vertical-align: top;\n",
       "    }\n",
       "\n",
       "    .dataframe thead th {\n",
       "        text-align: right;\n",
       "    }\n",
       "</style>\n",
       "<table border=\"1\" class=\"dataframe\">\n",
       "  <thead>\n",
       "    <tr style=\"text-align: right;\">\n",
       "      <th></th>\n",
       "      <th>evaluation</th>\n",
       "      <th>fen</th>\n",
       "    </tr>\n",
       "  </thead>\n",
       "  <tbody>\n",
       "    <tr>\n",
       "      <th>0</th>\n",
       "      <td>35</td>\n",
       "      <td>rnbqkbnr/pppppppp/8/8/4P3/8/PPPP1PPP/RNBQKBNR ...</td>\n",
       "    </tr>\n",
       "    <tr>\n",
       "      <th>1</th>\n",
       "      <td>48</td>\n",
       "      <td>rnbqkbnr/pppp1ppp/8/4p3/4P3/8/PPPP1PPP/RNBQKBN...</td>\n",
       "    </tr>\n",
       "    <tr>\n",
       "      <th>2</th>\n",
       "      <td>111</td>\n",
       "      <td>rnbqkbnr/pppp1ppp/8/4p3/4P3/5N2/PPPP1PPP/RNBQK...</td>\n",
       "    </tr>\n",
       "    <tr>\n",
       "      <th>3</th>\n",
       "      <td>47</td>\n",
       "      <td>r1bqkbnr/pppp1ppp/2n5/4p3/4P3/5N2/PPPP1PPP/RNB...</td>\n",
       "    </tr>\n",
       "    <tr>\n",
       "      <th>4</th>\n",
       "      <td>52</td>\n",
       "      <td>r1bqkbnr/pppp1ppp/2n5/1B2p3/4P3/5N2/PPPP1PPP/R...</td>\n",
       "    </tr>\n",
       "    <tr>\n",
       "      <th>...</th>\n",
       "      <td>...</td>\n",
       "      <td>...</td>\n",
       "    </tr>\n",
       "    <tr>\n",
       "      <th>19068034</th>\n",
       "      <td>-220</td>\n",
       "      <td>1n1k1q2/rpp5/pN1Pp2b/PP6/2Ppp3/2B5/3P2KP/R5R1 ...</td>\n",
       "    </tr>\n",
       "    <tr>\n",
       "      <th>19068035</th>\n",
       "      <td>-9900</td>\n",
       "      <td>Nn1k1q2/rpp5/p2Pp2b/PP6/2Ppp3/2B5/3P2KP/R5R1 b...</td>\n",
       "    </tr>\n",
       "    <tr>\n",
       "      <th>19068036</th>\n",
       "      <td>-433</td>\n",
       "      <td>Nn1k1q2/rp6/p1pPp2b/PP6/2Ppp3/2B5/3P2KP/R5R1 w...</td>\n",
       "    </tr>\n",
       "    <tr>\n",
       "      <th>19068037</th>\n",
       "      <td>-9900</td>\n",
       "      <td>Nn1k1q2/rp6/p1pPp2b/PP6/2Ppp3/2B5/3P2KP/3R2R1 ...</td>\n",
       "    </tr>\n",
       "    <tr>\n",
       "      <th>19068038</th>\n",
       "      <td>-206</td>\n",
       "      <td>Nn1k1q2/rp6/p1pPp3/PP6/2Ppp3/2B5/3b2KP/3R2R1 w...</td>\n",
       "    </tr>\n",
       "  </tbody>\n",
       "</table>\n",
       "<p>6878677 rows × 2 columns</p>\n",
       "</div>"
      ],
      "text/plain": [
       "          evaluation                                                fen\n",
       "0                 35  rnbqkbnr/pppppppp/8/8/4P3/8/PPPP1PPP/RNBQKBNR ...\n",
       "1                 48  rnbqkbnr/pppp1ppp/8/4p3/4P3/8/PPPP1PPP/RNBQKBN...\n",
       "2                111  rnbqkbnr/pppp1ppp/8/4p3/4P3/5N2/PPPP1PPP/RNBQK...\n",
       "3                 47  r1bqkbnr/pppp1ppp/2n5/4p3/4P3/5N2/PPPP1PPP/RNB...\n",
       "4                 52  r1bqkbnr/pppp1ppp/2n5/1B2p3/4P3/5N2/PPPP1PPP/R...\n",
       "...              ...                                                ...\n",
       "19068034        -220  1n1k1q2/rpp5/pN1Pp2b/PP6/2Ppp3/2B5/3P2KP/R5R1 ...\n",
       "19068035       -9900  Nn1k1q2/rpp5/p2Pp2b/PP6/2Ppp3/2B5/3P2KP/R5R1 b...\n",
       "19068036        -433  Nn1k1q2/rp6/p1pPp2b/PP6/2Ppp3/2B5/3P2KP/R5R1 w...\n",
       "19068037       -9900  Nn1k1q2/rp6/p1pPp2b/PP6/2Ppp3/2B5/3P2KP/3R2R1 ...\n",
       "19068038        -206  Nn1k1q2/rp6/p1pPp3/PP6/2Ppp3/2B5/3b2KP/3R2R1 w...\n",
       "\n",
       "[6878677 rows x 2 columns]"
      ]
     },
     "execution_count": 7,
     "metadata": {},
     "output_type": "execute_result"
    }
   ],
   "source": [
    "moves_df"
   ]
  },
  {
   "cell_type": "markdown",
   "id": "b0d03fd8-3e6b-497d-a766-82739a36a957",
   "metadata": {},
   "source": [
    "# Analyze y"
   ]
  },
  {
   "cell_type": "code",
   "execution_count": 8,
   "id": "87c40fd9-73ce-4c9c-a372-0a39ae6fce0d",
   "metadata": {},
   "outputs": [],
   "source": [
    "y = np.array(moves_df.evaluation)"
   ]
  },
  {
   "cell_type": "code",
   "execution_count": 9,
   "id": "847df256-9ab9-4a9e-81aa-3e56c2b59cd4",
   "metadata": {},
   "outputs": [
    {
     "data": {
      "image/png": "[encoded data removed]",
      "text/plain": [
       "<Figure size 640x480 with 1 Axes>"
      ]
     },
     "metadata": {},
     "output_type": "display_data"
    }
   ],
   "source": [
    "plt.hist(y, bins=10);"
   ]
  },
  {
   "cell_type": "markdown",
   "id": "899b07bb-3142-45b6-ab0f-fbd92a411593",
   "metadata": {},
   "source": [
    "## Get number of positions per evaluation range"
   ]
  },
  {
   "cell_type": "code",
   "execution_count": 10,
   "id": "e35b4a67-8dda-4228-ab10-9bb2e1411aa5",
   "metadata": {},
   "outputs": [],
   "source": [
    "y.sort()"
   ]
  },
  {
   "cell_type": "code",
   "execution_count": 11,
   "id": "6f5c1a67-557b-4d80-a0a1-dfb6f6a504dc",
   "metadata": {},
   "outputs": [],
   "source": [
    "def get_by_range(y, min_, max_, index=0):\n",
    "    # return the nb of evaluations that are such that min_ <= x < max_\n",
    "    # y has been sorted, index is the index at which the previous call has stopped, for the previous range\n",
    "    \n",
    "    nb = 0\n",
    "    for i in range(index, len(y)):\n",
    "        if min_ <= y[i] and y[i] < max_:\n",
    "            nb += 1\n",
    "        if y[i] >= max_:\n",
    "            return nb, i\n",
    "    return nb, i"
   ]
  },
  {
   "cell_type": "code",
   "execution_count": 12,
   "id": "80634c2d-443a-402b-bea0-43e42da654ca",
   "metadata": {},
   "outputs": [],
   "source": [
    "min_y, max_y = np.min(y), np.max(y)"
   ]
  },
  {
   "cell_type": "code",
   "execution_count": 13,
   "id": "5cbb3404-fb11-4f51-958c-6d246ef8aa44",
   "metadata": {},
   "outputs": [],
   "source": [
    "nb_per_range, ranges = [], []\n",
    "index = 0\n",
    "min_range, max_range = min_y, min_y+50\n",
    "\n",
    "nb, index = get_by_range(y, min_range, max_range, index=index)\n",
    "nb_per_range.append(nb)\n",
    "ranges.append(range(min_range, max_range))\n",
    "\n",
    "# we go 50 by 50\n",
    "while index < len(y)-1:\n",
    "    min_range, max_range = min_range+50, max_range+50\n",
    "    nb, index = get_by_range(y, min_range, max_range, index=index)\n",
    "    nb_per_range.append(nb)\n",
    "    ranges.append(range(min_range, max_range))"
   ]
  },
  {
   "cell_type": "code",
   "execution_count": 14,
   "id": "ceb6b5c2-c5de-4dc8-baf1-31df1370a649",
   "metadata": {},
   "outputs": [
    {
     "data": {
      "image/png": "[encoded data removed]",
      "text/plain": [
       "<Figure size 640x480 with 1 Axes>"
      ]
     },
     "metadata": {},
     "output_type": "display_data"
    }
   ],
   "source": [
    "for i in range(len(ranges)):\n",
    "    plt.plot([np.mean(ranges[i]), np.mean(ranges[i])], [0, nb_per_range[i]], linewidth=10)\n",
    "\n",
    "plt.ylim([0, 1000])\n",
    "plt.show()"
   ]
  },
  {
   "cell_type": "code",
   "execution_count": 15,
   "id": "ba565180-7872-46d9-b016-d1f6412e526e",
   "metadata": {},
   "outputs": [
    {
     "data": {
      "text/plain": [
       "(158, 0.39)"
      ]
     },
     "execution_count": 15,
     "metadata": {},
     "output_type": "execute_result"
    }
   ],
   "source": [
    "# nb ranges with null pop\n",
    "nb_per_range.count(0), round(nb_per_range.count(0)/len(nb_per_range), 2)"
   ]
  },
  {
   "cell_type": "code",
   "execution_count": 16,
   "id": "3d3d5a65-c712-447a-bf3f-cfbe460c3050",
   "metadata": {},
   "outputs": [],
   "source": [
    "nb_per_range__non_zero = list(filter(lambda x: x>0, nb_per_range))"
   ]
  },
  {
   "cell_type": "code",
   "execution_count": 17,
   "id": "8e1af9a4-e580-4b34-b92a-b1c692aa4986",
   "metadata": {},
   "outputs": [
    {
     "data": {
      "text/plain": [
       "1"
      ]
     },
     "execution_count": 17,
     "metadata": {},
     "output_type": "execute_result"
    }
   ],
   "source": [
    "np.min(nb_per_range__non_zero)"
   ]
  },
  {
   "cell_type": "code",
   "execution_count": 18,
   "id": "0e35105f-1a1b-449f-b7e9-57f77acfdf05",
   "metadata": {},
   "outputs": [],
   "source": [
    "quantiles = np.quantile(nb_per_range__non_zero, [0.1, 0.25, 0.4, 0.5, 0.6, 0.75, 0.9])"
   ]
  },
  {
   "cell_type": "code",
   "execution_count": 19,
   "id": "97287921-d995-4a02-8248-30f56e31c8cb",
   "metadata": {},
   "outputs": [
    {
     "data": {
      "text/plain": [
       "array([    1,     2,     5,    25,   101,  1059, 36024])"
      ]
     },
     "execution_count": 19,
     "metadata": {},
     "output_type": "execute_result"
    }
   ],
   "source": [
    "np.array(quantiles, dtype=np.int64)"
   ]
  },
  {
   "cell_type": "markdown",
   "id": "d01d59d4-0f5e-4637-b7af-2c0f15e5bcdf",
   "metadata": {},
   "source": [
    "## Select positions from ranges where population > quantile_0.5\n",
    "\n",
    "Let q = quantile 0.5 of the non_zero populations, we randomly pick min(2q, population_range) elements from this range"
   ]
  },
  {
   "cell_type": "code",
   "execution_count": 20,
   "id": "d1f56fd3-cda6-4f7a-bcf3-4b2a6ab0fcdf",
   "metadata": {},
   "outputs": [],
   "source": [
    "df = moves_df.sort_values(by=\"evaluation\").reset_index(drop=True)"
   ]
  },
  {
   "cell_type": "code",
   "execution_count": 37,
   "id": "cc2e127c-b4f4-4ae4-8368-eac20645afb9",
   "metadata": {},
   "outputs": [
    {
     "name": "stdout",
     "output_type": "stream",
     "text": [
      "quantile 85% -> 6632\n"
     ]
    }
   ],
   "source": [
    "pct_q = 0.85\n",
    "q = int(np.quantile(nb_per_range__non_zero, pct_q))\n",
    "print(f\"quantile {int(100*pct_q)}% -> {q}\")"
   ]
  },
  {
   "cell_type": "code",
   "execution_count": 38,
   "id": "d5e5f56a-c049-44fb-a86f-a850c38ff286",
   "metadata": {},
   "outputs": [
    {
     "data": {
      "text/html": [
       "<div>\n",
       "<style scoped>\n",
       "    .dataframe tbody tr th:only-of-type {\n",
       "        vertical-align: middle;\n",
       "    }\n",
       "\n",
       "    .dataframe tbody tr th {\n",
       "        vertical-align: top;\n",
       "    }\n",
       "\n",
       "    .dataframe thead th {\n",
       "        text-align: right;\n",
       "    }\n",
       "</style>\n",
       "<table border=\"1\" class=\"dataframe\">\n",
       "  <thead>\n",
       "    <tr style=\"text-align: right;\">\n",
       "      <th></th>\n",
       "      <th>evaluation</th>\n",
       "      <th>fen</th>\n",
       "    </tr>\n",
       "  </thead>\n",
       "  <tbody>\n",
       "    <tr>\n",
       "      <th>0</th>\n",
       "      <td>-10000</td>\n",
       "      <td>rnb1k2r/4n1pp/2p2p2/1pb5/4P1P1/pKP2P2/P3PQBP/R...</td>\n",
       "    </tr>\n",
       "    <tr>\n",
       "      <th>1</th>\n",
       "      <td>-10000</td>\n",
       "      <td>1R2r3/5p2/5kpp/3p3P/p1rN1KP1/P2RPP2/4n3/8 w - ...</td>\n",
       "    </tr>\n",
       "    <tr>\n",
       "      <th>2</th>\n",
       "      <td>-10000</td>\n",
       "      <td>4k3/3b1p1p/p7/3p4/4nP2/7r/1q4PK/2R1Q1R1 w - - ...</td>\n",
       "    </tr>\n",
       "    <tr>\n",
       "      <th>3</th>\n",
       "      <td>-10000</td>\n",
       "      <td>6k1/5pNp/1p6/8/2bP1R2/p3P1P1/3B1K2/2N2q2 w - -...</td>\n",
       "    </tr>\n",
       "    <tr>\n",
       "      <th>4</th>\n",
       "      <td>-10000</td>\n",
       "      <td>8/8/8/8/8/5b2/5k2/5n1K w - - 46 107</td>\n",
       "    </tr>\n",
       "    <tr>\n",
       "      <th>...</th>\n",
       "      <td>...</td>\n",
       "      <td>...</td>\n",
       "    </tr>\n",
       "    <tr>\n",
       "      <th>6878672</th>\n",
       "      <td>10000</td>\n",
       "      <td>3r3k/1p4pQ/1pp5/8/3q4/P2B3P/5PP1/5RK1 b - - 5 36</td>\n",
       "    </tr>\n",
       "    <tr>\n",
       "      <th>6878673</th>\n",
       "      <td>10000</td>\n",
       "      <td>8/8/4P3/5P1P/8/2K5/1Q6/1k6 b - - 14 64</td>\n",
       "    </tr>\n",
       "    <tr>\n",
       "      <th>6878674</th>\n",
       "      <td>10000</td>\n",
       "      <td>2R2k2/7R/3Np3/p2pP3/5P2/1P1P4/r4r2/2K5 b - - 1 38</td>\n",
       "    </tr>\n",
       "    <tr>\n",
       "      <th>6878675</th>\n",
       "      <td>10000</td>\n",
       "      <td>2rk4/5R2/4Nn1p/pB6/Pp6/5b2/1P3P1P/6K1 b - - 12 43</td>\n",
       "    </tr>\n",
       "    <tr>\n",
       "      <th>6878676</th>\n",
       "      <td>10000</td>\n",
       "      <td>7N/b3R3/p4pk1/Pr5R/3r2P1/2n4P/5P2/6K1 b - - 1 39</td>\n",
       "    </tr>\n",
       "  </tbody>\n",
       "</table>\n",
       "<p>6878677 rows × 2 columns</p>\n",
       "</div>"
      ],
      "text/plain": [
       "         evaluation                                                fen\n",
       "0            -10000  rnb1k2r/4n1pp/2p2p2/1pb5/4P1P1/pKP2P2/P3PQBP/R...\n",
       "1            -10000  1R2r3/5p2/5kpp/3p3P/p1rN1KP1/P2RPP2/4n3/8 w - ...\n",
       "2            -10000  4k3/3b1p1p/p7/3p4/4nP2/7r/1q4PK/2R1Q1R1 w - - ...\n",
       "3            -10000  6k1/5pNp/1p6/8/2bP1R2/p3P1P1/3B1K2/2N2q2 w - -...\n",
       "4            -10000                8/8/8/8/8/5b2/5k2/5n1K w - - 46 107\n",
       "...             ...                                                ...\n",
       "6878672       10000   3r3k/1p4pQ/1pp5/8/3q4/P2B3P/5PP1/5RK1 b - - 5 36\n",
       "6878673       10000             8/8/4P3/5P1P/8/2K5/1Q6/1k6 b - - 14 64\n",
       "6878674       10000  2R2k2/7R/3Np3/p2pP3/5P2/1P1P4/r4r2/2K5 b - - 1 38\n",
       "6878675       10000  2rk4/5R2/4Nn1p/pB6/Pp6/5b2/1P3P1P/6K1 b - - 12 43\n",
       "6878676       10000   7N/b3R3/p4pk1/Pr5R/3r2P1/2n4P/5P2/6K1 b - - 1 39\n",
       "\n",
       "[6878677 rows x 2 columns]"
      ]
     },
     "execution_count": 38,
     "metadata": {},
     "output_type": "execute_result"
    }
   ],
   "source": [
    "df"
   ]
  },
  {
   "cell_type": "code",
   "execution_count": 39,
   "id": "b46f36b8-cae3-4915-8968-b9fe94638e6c",
   "metadata": {},
   "outputs": [],
   "source": [
    "df_picked = pd.DataFrame()"
   ]
  },
  {
   "cell_type": "code",
   "execution_count": 40,
   "id": "146b98ac-90d5-4e24-9d15-cba753c2d424",
   "metadata": {},
   "outputs": [
    {
     "name": "stderr",
     "output_type": "stream",
     "text": [
      "100%|██████████| 401/401 [00:36<00:00, 10.88it/s]\n"
     ]
    }
   ],
   "source": [
    "for i in tqdm(range(len(ranges))):\n",
    "    range_ = ranges[i]\n",
    "    nb_range = nb_per_range[i]\n",
    "    nb_to_sample = min(2*q, nb_range)\n",
    "    df_range_picked = df.loc[df.evaluation.isin(range_)].sample(nb_to_sample)\n",
    "    df_picked = pd.concat([df_picked, df_range_picked])"
   ]
  },
  {
   "cell_type": "code",
   "execution_count": 41,
   "id": "76f7db80-2c97-4177-bfc9-d4298efac0d2",
   "metadata": {},
   "outputs": [
    {
     "data": {
      "text/html": [
       "<div>\n",
       "<style scoped>\n",
       "    .dataframe tbody tr th:only-of-type {\n",
       "        vertical-align: middle;\n",
       "    }\n",
       "\n",
       "    .dataframe tbody tr th {\n",
       "        vertical-align: top;\n",
       "    }\n",
       "\n",
       "    .dataframe thead th {\n",
       "        text-align: right;\n",
       "    }\n",
       "</style>\n",
       "<table border=\"1\" class=\"dataframe\">\n",
       "  <thead>\n",
       "    <tr style=\"text-align: right;\">\n",
       "      <th></th>\n",
       "      <th>evaluation</th>\n",
       "      <th>fen</th>\n",
       "    </tr>\n",
       "  </thead>\n",
       "  <tbody>\n",
       "    <tr>\n",
       "      <th>295</th>\n",
       "      <td>-10000</td>\n",
       "      <td>7R/8/7p/3b4/3k4/6B1/1N5K/7r w - - 9 56</td>\n",
       "    </tr>\n",
       "    <tr>\n",
       "      <th>201</th>\n",
       "      <td>-10000</td>\n",
       "      <td>5k1N/4p3/bp1q1pR1/p2P4/3R3p/P6P/1Q3PP1/4r1K1 w...</td>\n",
       "    </tr>\n",
       "    <tr>\n",
       "      <th>51</th>\n",
       "      <td>-10000</td>\n",
       "      <td>4k3/R4p2/5R2/2N5/Pp2P3/8/1n5r/2K1r3 w - - 6 37</td>\n",
       "    </tr>\n",
       "    <tr>\n",
       "      <th>266</th>\n",
       "      <td>-10000</td>\n",
       "      <td>7K/4nn2/5P1k/8/8/8/8/8 w - - 1 90</td>\n",
       "    </tr>\n",
       "    <tr>\n",
       "      <th>0</th>\n",
       "      <td>-10000</td>\n",
       "      <td>rnb1k2r/4n1pp/2p2p2/1pb5/4P1P1/pKP2P2/P3PQBP/R...</td>\n",
       "    </tr>\n",
       "    <tr>\n",
       "      <th>...</th>\n",
       "      <td>...</td>\n",
       "      <td>...</td>\n",
       "    </tr>\n",
       "    <tr>\n",
       "      <th>6878325</th>\n",
       "      <td>10000</td>\n",
       "      <td>2r5/7R/4pk2/np4P1/1b2BP2/1P5K/P6P/3r4 b - - 0 38</td>\n",
       "    </tr>\n",
       "    <tr>\n",
       "      <th>6878561</th>\n",
       "      <td>10000</td>\n",
       "      <td>4R3/1p2k3/2p2NP1/p1n1PK2/1r6/8/PP6/8 b - - 8 42</td>\n",
       "    </tr>\n",
       "    <tr>\n",
       "      <th>6878605</th>\n",
       "      <td>10000</td>\n",
       "      <td>8/3r4/8/p3PKp1/8/kRNn4/P4P2/8 b - - 13 62</td>\n",
       "    </tr>\n",
       "    <tr>\n",
       "      <th>6878660</th>\n",
       "      <td>10000</td>\n",
       "      <td>1rbqkbBr/2pppQ2/1pn3pp/p6n/4P2P/2N3P1/PPPP1P2/...</td>\n",
       "    </tr>\n",
       "    <tr>\n",
       "      <th>6878285</th>\n",
       "      <td>10000</td>\n",
       "      <td>k7/4K3/1Q6/Q7/8/8/8/8 b - - 4 69</td>\n",
       "    </tr>\n",
       "  </tbody>\n",
       "</table>\n",
       "<p>545122 rows × 2 columns</p>\n",
       "</div>"
      ],
      "text/plain": [
       "         evaluation                                                fen\n",
       "295          -10000             7R/8/7p/3b4/3k4/6B1/1N5K/7r w - - 9 56\n",
       "201          -10000  5k1N/4p3/bp1q1pR1/p2P4/3R3p/P6P/1Q3PP1/4r1K1 w...\n",
       "51           -10000     4k3/R4p2/5R2/2N5/Pp2P3/8/1n5r/2K1r3 w - - 6 37\n",
       "266          -10000                  7K/4nn2/5P1k/8/8/8/8/8 w - - 1 90\n",
       "0            -10000  rnb1k2r/4n1pp/2p2p2/1pb5/4P1P1/pKP2P2/P3PQBP/R...\n",
       "...             ...                                                ...\n",
       "6878325       10000   2r5/7R/4pk2/np4P1/1b2BP2/1P5K/P6P/3r4 b - - 0 38\n",
       "6878561       10000    4R3/1p2k3/2p2NP1/p1n1PK2/1r6/8/PP6/8 b - - 8 42\n",
       "6878605       10000          8/3r4/8/p3PKp1/8/kRNn4/P4P2/8 b - - 13 62\n",
       "6878660       10000  1rbqkbBr/2pppQ2/1pn3pp/p6n/4P2P/2N3P1/PPPP1P2/...\n",
       "6878285       10000                   k7/4K3/1Q6/Q7/8/8/8/8 b - - 4 69\n",
       "\n",
       "[545122 rows x 2 columns]"
      ]
     },
     "execution_count": 41,
     "metadata": {},
     "output_type": "execute_result"
    }
   ],
   "source": [
    "df_picked"
   ]
  },
  {
   "cell_type": "code",
   "execution_count": 42,
   "id": "d913770f-4933-4c11-9391-34cc6fcb18f8",
   "metadata": {},
   "outputs": [],
   "source": [
    "to_csv(df_picked, \"df_picked_85.csv\")"
   ]
  },
  {
   "cell_type": "code",
   "execution_count": null,
   "id": "582751a6-2a5e-48cf-bf5a-9f7d5b093bb9",
   "metadata": {},
   "outputs": [],
   "source": [
    "open_csv(\"df_picked_85.csv\")"
   ]
  },
  {
   "cell_type": "code",
   "execution_count": null,
   "id": "ce1e476f-b8a3-44b7-9977-34cd3d5839f7",
   "metadata": {},
   "outputs": [],
   "source": []
  }
 ],
 "metadata": {
  "kernelspec": {
   "display_name": "Python 3 (ipykernel)",
   "language": "python",
   "name": "python3"
  },
  "language_info": {
   "codemirror_mode": {
    "name": "ipython",
    "version": 3
   },
   "file_extension": ".py",
   "mimetype": "text/x-python",
   "name": "python",
   "nbconvert_exporter": "python",
   "pygments_lexer": "ipython3",
   "version": "3.11.4"
  }
 },
 "nbformat": 4,
 "nbformat_minor": 5
}
