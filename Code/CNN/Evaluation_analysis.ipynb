{
 "cells": [
  {
   "cell_type": "code",
   "execution_count": 1,
   "id": "c63691d6-e72f-49ea-9840-74ac8ac6cb8e",
   "metadata": {},
   "outputs": [],
   "source": [
    "%%capture capt\n",
    "!pip install matplotlib\n",
    "!pip install pandas\n",
    "!pip install seaborn\n",
    "!pip install scikit-learn\n",
    "!pip install chess\n",
    "!pip install tensorflow\n",
    "!pip install tensorflow_addons"
   ]
  },
  {
   "cell_type": "code",
   "execution_count": 2,
   "id": "275661f0-d82b-4989-b5a9-9b7b0bb1657f",
   "metadata": {},
   "outputs": [],
   "source": [
    "%matplotlib inline\n",
    "import numpy as np\n",
    "import matplotlib.pyplot as plt\n",
    "import pandas as pd\n",
    "from tqdm import tqdm\n",
    "from collections import Counter\n",
    "import time\n",
    "import seaborn as sns\n",
    "import math\n",
    "\n",
    "import warnings\n",
    "warnings.filterwarnings(\"ignore\")\n",
    "\n",
    "from sklearn.model_selection import train_test_split\n",
    "from sklearn.metrics import accuracy_score, confusion_matrix, f1_score\n",
    "\n",
    "import chess"
   ]
  },
  {
   "cell_type": "markdown",
   "id": "dd355cc9-fcff-428a-98dc-4fb0244048c8",
   "metadata": {},
   "source": [
    "# Load data"
   ]
  },
  {
   "cell_type": "code",
   "execution_count": 3,
   "id": "6475230d-bcf5-44bb-95fd-e3a3213b5879",
   "metadata": {},
   "outputs": [],
   "source": [
    "%run S3.ipynb"
   ]
  },
  {
   "cell_type": "code",
   "execution_count": 4,
   "id": "511d03d8-42d9-4ff7-ad96-31a49f43b10d",
   "metadata": {},
   "outputs": [],
   "source": [
    "#moves_df = pd.read_csv(\"../Data/moves_df.csv\")\n",
    "moves_df = open_csv(\"moves_df_rnd.csv\")"
   ]
  },
  {
   "cell_type": "code",
   "execution_count": 5,
   "id": "8f911d60-9dac-4ee9-b598-1bc8b7789fdb",
   "metadata": {},
   "outputs": [
    {
     "data": {
      "text/html": [
       "<div>\n",
       "<style scoped>\n",
       "    .dataframe tbody tr th:only-of-type {\n",
       "        vertical-align: middle;\n",
       "    }\n",
       "\n",
       "    .dataframe tbody tr th {\n",
       "        vertical-align: top;\n",
       "    }\n",
       "\n",
       "    .dataframe thead th {\n",
       "        text-align: right;\n",
       "    }\n",
       "</style>\n",
       "<table border=\"1\" class=\"dataframe\">\n",
       "  <thead>\n",
       "    <tr style=\"text-align: right;\">\n",
       "      <th></th>\n",
       "      <th>evaluation</th>\n",
       "      <th>fen</th>\n",
       "    </tr>\n",
       "  </thead>\n",
       "  <tbody>\n",
       "    <tr>\n",
       "      <th>0</th>\n",
       "      <td>35</td>\n",
       "      <td>rnbqkbnr/pppppppp/8/8/4P3/8/PPPP1PPP/RNBQKBNR ...</td>\n",
       "    </tr>\n",
       "    <tr>\n",
       "      <th>1</th>\n",
       "      <td>48</td>\n",
       "      <td>rnbqkbnr/pppp1ppp/8/4p3/4P3/8/PPPP1PPP/RNBQKBN...</td>\n",
       "    </tr>\n",
       "    <tr>\n",
       "      <th>2</th>\n",
       "      <td>111</td>\n",
       "      <td>rnbqkbnr/pppp1ppp/8/4p3/4P3/5N2/PPPP1PPP/RNBQK...</td>\n",
       "    </tr>\n",
       "    <tr>\n",
       "      <th>3</th>\n",
       "      <td>47</td>\n",
       "      <td>r1bqkbnr/pppp1ppp/2n5/4p3/4P3/5N2/PPPP1PPP/RNB...</td>\n",
       "    </tr>\n",
       "    <tr>\n",
       "      <th>4</th>\n",
       "      <td>52</td>\n",
       "      <td>r1bqkbnr/pppp1ppp/2n5/1B2p3/4P3/5N2/PPPP1PPP/R...</td>\n",
       "    </tr>\n",
       "    <tr>\n",
       "      <th>...</th>\n",
       "      <td>...</td>\n",
       "      <td>...</td>\n",
       "    </tr>\n",
       "    <tr>\n",
       "      <th>17152758</th>\n",
       "      <td>9600</td>\n",
       "      <td>2b2r2/3p1p2/1rNQpk2/ppp4p/2P4P/PPRPPNP1/1b2B3/...</td>\n",
       "    </tr>\n",
       "    <tr>\n",
       "      <th>17152759</th>\n",
       "      <td>1201</td>\n",
       "      <td>2b2r2/3p1p2/1rN1pk2/ppp4p/2P2Q1P/PPRPPNP1/1b2B...</td>\n",
       "    </tr>\n",
       "    <tr>\n",
       "      <th>17152760</th>\n",
       "      <td>1285</td>\n",
       "      <td>2b2r2/3p1pk1/1rN1p3/ppp4p/2P2Q1P/PPRPPNP1/1b2B...</td>\n",
       "    </tr>\n",
       "    <tr>\n",
       "      <th>17152761</th>\n",
       "      <td>688</td>\n",
       "      <td>2b2r2/3p1pk1/1rN1p3/ppp4p/2PP1Q1P/PPR1PNP1/1b2...</td>\n",
       "    </tr>\n",
       "    <tr>\n",
       "      <th>17152762</th>\n",
       "      <td>9300</td>\n",
       "      <td>2b2r2/3p1pk1/1rN1p3/ppp4p/2PP1Q1P/PPR1PNP1/4B3...</td>\n",
       "    </tr>\n",
       "  </tbody>\n",
       "</table>\n",
       "<p>17152763 rows × 2 columns</p>\n",
       "</div>"
      ],
      "text/plain": [
       "          evaluation                                                fen\n",
       "0                 35  rnbqkbnr/pppppppp/8/8/4P3/8/PPPP1PPP/RNBQKBNR ...\n",
       "1                 48  rnbqkbnr/pppp1ppp/8/4p3/4P3/8/PPPP1PPP/RNBQKBN...\n",
       "2                111  rnbqkbnr/pppp1ppp/8/4p3/4P3/5N2/PPPP1PPP/RNBQK...\n",
       "3                 47  r1bqkbnr/pppp1ppp/2n5/4p3/4P3/5N2/PPPP1PPP/RNB...\n",
       "4                 52  r1bqkbnr/pppp1ppp/2n5/1B2p3/4P3/5N2/PPPP1PPP/R...\n",
       "...              ...                                                ...\n",
       "17152758        9600  2b2r2/3p1p2/1rNQpk2/ppp4p/2P4P/PPRPPNP1/1b2B3/...\n",
       "17152759        1201  2b2r2/3p1p2/1rN1pk2/ppp4p/2P2Q1P/PPRPPNP1/1b2B...\n",
       "17152760        1285  2b2r2/3p1pk1/1rN1p3/ppp4p/2P2Q1P/PPRPPNP1/1b2B...\n",
       "17152761         688  2b2r2/3p1pk1/1rN1p3/ppp4p/2PP1Q1P/PPR1PNP1/1b2...\n",
       "17152762        9300  2b2r2/3p1pk1/1rN1p3/ppp4p/2PP1Q1P/PPR1PNP1/4B3...\n",
       "\n",
       "[17152763 rows x 2 columns]"
      ]
     },
     "execution_count": 5,
     "metadata": {},
     "output_type": "execute_result"
    }
   ],
   "source": [
    "moves_df"
   ]
  },
  {
   "cell_type": "markdown",
   "id": "205d7211-9451-4d0b-8645-813b42660038",
   "metadata": {},
   "source": [
    "# Remove duplicates"
   ]
  },
  {
   "cell_type": "code",
   "execution_count": 16,
   "id": "5f3eda2a-05d1-4f8d-b41b-591e483c2d78",
   "metadata": {},
   "outputs": [],
   "source": [
    "moves_df.drop_duplicates(subset=[\"fen\"], inplace=True)"
   ]
  },
  {
   "cell_type": "code",
   "execution_count": 17,
   "id": "1d35953a-6ae0-47e9-99f0-f923032de6b4",
   "metadata": {},
   "outputs": [
    {
     "data": {
      "text/html": [
       "<div>\n",
       "<style scoped>\n",
       "    .dataframe tbody tr th:only-of-type {\n",
       "        vertical-align: middle;\n",
       "    }\n",
       "\n",
       "    .dataframe tbody tr th {\n",
       "        vertical-align: top;\n",
       "    }\n",
       "\n",
       "    .dataframe thead th {\n",
       "        text-align: right;\n",
       "    }\n",
       "</style>\n",
       "<table border=\"1\" class=\"dataframe\">\n",
       "  <thead>\n",
       "    <tr style=\"text-align: right;\">\n",
       "      <th></th>\n",
       "      <th>evaluation</th>\n",
       "      <th>fen</th>\n",
       "    </tr>\n",
       "  </thead>\n",
       "  <tbody>\n",
       "    <tr>\n",
       "      <th>0</th>\n",
       "      <td>35</td>\n",
       "      <td>rnbqkbnr/pppppppp/8/8/4P3/8/PPPP1PPP/RNBQKBNR ...</td>\n",
       "    </tr>\n",
       "    <tr>\n",
       "      <th>1</th>\n",
       "      <td>48</td>\n",
       "      <td>rnbqkbnr/pppp1ppp/8/4p3/4P3/8/PPPP1PPP/RNBQKBN...</td>\n",
       "    </tr>\n",
       "    <tr>\n",
       "      <th>2</th>\n",
       "      <td>111</td>\n",
       "      <td>rnbqkbnr/pppp1ppp/8/4p3/4P3/5N2/PPPP1PPP/RNBQK...</td>\n",
       "    </tr>\n",
       "    <tr>\n",
       "      <th>3</th>\n",
       "      <td>47</td>\n",
       "      <td>r1bqkbnr/pppp1ppp/2n5/4p3/4P3/5N2/PPPP1PPP/RNB...</td>\n",
       "    </tr>\n",
       "    <tr>\n",
       "      <th>4</th>\n",
       "      <td>52</td>\n",
       "      <td>r1bqkbnr/pppp1ppp/2n5/1B2p3/4P3/5N2/PPPP1PPP/R...</td>\n",
       "    </tr>\n",
       "    <tr>\n",
       "      <th>...</th>\n",
       "      <td>...</td>\n",
       "      <td>...</td>\n",
       "    </tr>\n",
       "    <tr>\n",
       "      <th>13322434</th>\n",
       "      <td>9600</td>\n",
       "      <td>2b2r2/3p1p2/1rNQpk2/ppp4p/2P4P/PPRPPNP1/1b2B3/...</td>\n",
       "    </tr>\n",
       "    <tr>\n",
       "      <th>13322435</th>\n",
       "      <td>1144</td>\n",
       "      <td>2b2r2/3p1p2/1rN1pk2/ppp4p/2P2Q1P/PPRPPNP1/1b2B...</td>\n",
       "    </tr>\n",
       "    <tr>\n",
       "      <th>13322436</th>\n",
       "      <td>1207</td>\n",
       "      <td>2b2r2/3p1pk1/1rN1p3/ppp4p/2P2Q1P/PPRPPNP1/1b2B...</td>\n",
       "    </tr>\n",
       "    <tr>\n",
       "      <th>13322437</th>\n",
       "      <td>688</td>\n",
       "      <td>2b2r2/3p1pk1/1rN1p3/ppp4p/2PP1Q1P/PPR1PNP1/1b2...</td>\n",
       "    </tr>\n",
       "    <tr>\n",
       "      <th>13322438</th>\n",
       "      <td>9300</td>\n",
       "      <td>2b2r2/3p1pk1/1rN1p3/ppp4p/2PP1Q1P/PPR1PNP1/4B3...</td>\n",
       "    </tr>\n",
       "  </tbody>\n",
       "</table>\n",
       "<p>6878603 rows × 2 columns</p>\n",
       "</div>"
      ],
      "text/plain": [
       "          evaluation                                                fen\n",
       "0                 35  rnbqkbnr/pppppppp/8/8/4P3/8/PPPP1PPP/RNBQKBNR ...\n",
       "1                 48  rnbqkbnr/pppp1ppp/8/4p3/4P3/8/PPPP1PPP/RNBQKBN...\n",
       "2                111  rnbqkbnr/pppp1ppp/8/4p3/4P3/5N2/PPPP1PPP/RNBQK...\n",
       "3                 47  r1bqkbnr/pppp1ppp/2n5/4p3/4P3/5N2/PPPP1PPP/RNB...\n",
       "4                 52  r1bqkbnr/pppp1ppp/2n5/1B2p3/4P3/5N2/PPPP1PPP/R...\n",
       "...              ...                                                ...\n",
       "13322434        9600  2b2r2/3p1p2/1rNQpk2/ppp4p/2P4P/PPRPPNP1/1b2B3/...\n",
       "13322435        1144  2b2r2/3p1p2/1rN1pk2/ppp4p/2P2Q1P/PPRPPNP1/1b2B...\n",
       "13322436        1207  2b2r2/3p1pk1/1rN1p3/ppp4p/2P2Q1P/PPRPPNP1/1b2B...\n",
       "13322437         688  2b2r2/3p1pk1/1rN1p3/ppp4p/2PP1Q1P/PPR1PNP1/1b2...\n",
       "13322438        9300  2b2r2/3p1pk1/1rN1p3/ppp4p/2PP1Q1P/PPR1PNP1/4B3...\n",
       "\n",
       "[6878603 rows x 2 columns]"
      ]
     },
     "execution_count": 17,
     "metadata": {},
     "output_type": "execute_result"
    }
   ],
   "source": [
    "moves_df"
   ]
  },
  {
   "cell_type": "markdown",
   "id": "b0d03fd8-3e6b-497d-a766-82739a36a957",
   "metadata": {},
   "source": [
    "# Analyze y"
   ]
  },
  {
   "cell_type": "code",
   "execution_count": 18,
   "id": "87c40fd9-73ce-4c9c-a372-0a39ae6fce0d",
   "metadata": {},
   "outputs": [],
   "source": [
    "y = np.array(moves_df.evaluation)"
   ]
  },
  {
   "cell_type": "code",
   "execution_count": 19,
   "id": "847df256-9ab9-4a9e-81aa-3e56c2b59cd4",
   "metadata": {},
   "outputs": [
    {
     "data": {
      "image/png": "[encoded data removed]",
      "text/plain": [
       "<Figure size 640x480 with 1 Axes>"
      ]
     },
     "metadata": {},
     "output_type": "display_data"
    }
   ],
   "source": [
    "plt.hist(y, bins=10);"
   ]
  },
  {
   "cell_type": "markdown",
   "id": "899b07bb-3142-45b6-ab0f-fbd92a411593",
   "metadata": {},
   "source": [
    "## Get number of positions per evaluation range"
   ]
  },
  {
   "cell_type": "code",
   "execution_count": 20,
   "id": "e35b4a67-8dda-4228-ab10-9bb2e1411aa5",
   "metadata": {},
   "outputs": [],
   "source": [
    "y.sort()"
   ]
  },
  {
   "cell_type": "code",
   "execution_count": 21,
   "id": "6f5c1a67-557b-4d80-a0a1-dfb6f6a504dc",
   "metadata": {},
   "outputs": [],
   "source": [
    "def get_by_range(y, min_, max_, index=0):\n",
    "    # return the nb of evaluations that are such that min_ <= x < max_\n",
    "    # y has been sorted, index is the index at which the previous call has stopped, for the previous range\n",
    "    \n",
    "    nb = 0\n",
    "    for i in range(index, len(y)):\n",
    "        if min_ <= y[i] and y[i] < max_:\n",
    "            nb += 1\n",
    "        if y[i] >= max_:\n",
    "            return nb, i\n",
    "    return nb, i"
   ]
  },
  {
   "cell_type": "code",
   "execution_count": 22,
   "id": "80634c2d-443a-402b-bea0-43e42da654ca",
   "metadata": {},
   "outputs": [],
   "source": [
    "min_y, max_y = np.min(y), np.max(y)"
   ]
  },
  {
   "cell_type": "code",
   "execution_count": 23,
   "id": "5cbb3404-fb11-4f51-958c-6d246ef8aa44",
   "metadata": {},
   "outputs": [],
   "source": [
    "nb_per_range, ranges = [], []\n",
    "index = 0\n",
    "min_range, max_range = min_y, min_y+50\n",
    "\n",
    "nb, index = get_by_range(y, min_range, max_range, index=index)\n",
    "nb_per_range.append(nb)\n",
    "ranges.append(range(min_range, max_range))\n",
    "\n",
    "# we go 50 by 50\n",
    "while index < len(y)-1:\n",
    "    min_range, max_range = min_range+50, max_range+50\n",
    "    nb, index = get_by_range(y, min_range, max_range, index=index)\n",
    "    nb_per_range.append(nb)\n",
    "    ranges.append(range(min_range, max_range))"
   ]
  },
  {
   "cell_type": "code",
   "execution_count": 24,
   "id": "ceb6b5c2-c5de-4dc8-baf1-31df1370a649",
   "metadata": {},
   "outputs": [
    {
     "data": {
      "image/png": "[encoded data removed]",
      "text/plain": [
       "<Figure size 640x480 with 1 Axes>"
      ]
     },
     "metadata": {},
     "output_type": "display_data"
    }
   ],
   "source": [
    "for i in range(len(ranges)):\n",
    "    plt.plot([np.mean(ranges[i]), np.mean(ranges[i])], [0, nb_per_range[i]], linewidth=10)\n",
    "\n",
    "plt.ylim([0, 1000])\n",
    "plt.show()"
   ]
  },
  {
   "cell_type": "code",
   "execution_count": 25,
   "id": "ba565180-7872-46d9-b016-d1f6412e526e",
   "metadata": {},
   "outputs": [
    {
     "data": {
      "text/plain": [
       "(158, 0.39)"
      ]
     },
     "execution_count": 25,
     "metadata": {},
     "output_type": "execute_result"
    }
   ],
   "source": [
    "# nb ranges with null pop\n",
    "nb_per_range.count(0), round(nb_per_range.count(0)/len(nb_per_range), 2)"
   ]
  },
  {
   "cell_type": "code",
   "execution_count": 26,
   "id": "3d3d5a65-c712-447a-bf3f-cfbe460c3050",
   "metadata": {},
   "outputs": [],
   "source": [
    "nb_per_range__non_zero = list(filter(lambda x: x>0, nb_per_range))"
   ]
  },
  {
   "cell_type": "code",
   "execution_count": 27,
   "id": "8e1af9a4-e580-4b34-b92a-b1c692aa4986",
   "metadata": {},
   "outputs": [
    {
     "data": {
      "text/plain": [
       "1"
      ]
     },
     "execution_count": 27,
     "metadata": {},
     "output_type": "execute_result"
    }
   ],
   "source": [
    "np.min(nb_per_range__non_zero)"
   ]
  },
  {
   "cell_type": "code",
   "execution_count": 28,
   "id": "0e35105f-1a1b-449f-b7e9-57f77acfdf05",
   "metadata": {},
   "outputs": [],
   "source": [
    "quantiles = np.quantile(nb_per_range__non_zero, [0.1, 0.25, 0.4, 0.5, 0.6, 0.75, 0.9])"
   ]
  },
  {
   "cell_type": "code",
   "execution_count": 29,
   "id": "97287921-d995-4a02-8248-30f56e31c8cb",
   "metadata": {},
   "outputs": [
    {
     "data": {
      "text/plain": [
       "array([    1,     2,     5,    25,   101,  1058, 36023])"
      ]
     },
     "execution_count": 29,
     "metadata": {},
     "output_type": "execute_result"
    }
   ],
   "source": [
    "np.array(quantiles, dtype=np.int64)"
   ]
  },
  {
   "cell_type": "markdown",
   "id": "d01d59d4-0f5e-4637-b7af-2c0f15e5bcdf",
   "metadata": {},
   "source": [
    "## Select positions from ranges where population > quantile_0.5\n",
    "\n",
    "Let q = quantile 0.5 of the non_zero populations, we randomly pick min(2q, population_range) elements from this range"
   ]
  },
  {
   "cell_type": "code",
   "execution_count": 30,
   "id": "d1f56fd3-cda6-4f7a-bcf3-4b2a6ab0fcdf",
   "metadata": {},
   "outputs": [],
   "source": [
    "df = moves_df.sort_values(by=\"evaluation\").reset_index(drop=True)"
   ]
  },
  {
   "cell_type": "code",
   "execution_count": 36,
   "id": "cc2e127c-b4f4-4ae4-8368-eac20645afb9",
   "metadata": {},
   "outputs": [
    {
     "name": "stdout",
     "output_type": "stream",
     "text": [
      "quantile 75% -> 1058\n"
     ]
    }
   ],
   "source": [
    "pct_q = 0.75\n",
    "q = int(np.quantile(nb_per_range__non_zero, pct_q))\n",
    "print(f\"quantile {int(100*pct_q)}% -> {q}\")"
   ]
  },
  {
   "cell_type": "code",
   "execution_count": 37,
   "id": "d5e5f56a-c049-44fb-a86f-a850c38ff286",
   "metadata": {},
   "outputs": [
    {
     "data": {
      "text/html": [
       "<div>\n",
       "<style scoped>\n",
       "    .dataframe tbody tr th:only-of-type {\n",
       "        vertical-align: middle;\n",
       "    }\n",
       "\n",
       "    .dataframe tbody tr th {\n",
       "        vertical-align: top;\n",
       "    }\n",
       "\n",
       "    .dataframe thead th {\n",
       "        text-align: right;\n",
       "    }\n",
       "</style>\n",
       "<table border=\"1\" class=\"dataframe\">\n",
       "  <thead>\n",
       "    <tr style=\"text-align: right;\">\n",
       "      <th></th>\n",
       "      <th>evaluation</th>\n",
       "      <th>fen</th>\n",
       "    </tr>\n",
       "  </thead>\n",
       "  <tbody>\n",
       "    <tr>\n",
       "      <th>0</th>\n",
       "      <td>-10000</td>\n",
       "      <td>8/k1N4p/5b2/p2p1p2/P7/1P4P1/K1R2P1P/r7 w - - 3 43</td>\n",
       "    </tr>\n",
       "    <tr>\n",
       "      <th>1</th>\n",
       "      <td>-10000</td>\n",
       "      <td>6k1/1p3pp1/4p2p/1Rn1R2P/7r/P5N1/5PPK/2r5 w - -...</td>\n",
       "    </tr>\n",
       "    <tr>\n",
       "      <th>2</th>\n",
       "      <td>-10000</td>\n",
       "      <td>8/8/8/4p1Qp/p7/P6k/8/4q1K1 w - - 28 73</td>\n",
       "    </tr>\n",
       "    <tr>\n",
       "      <th>3</th>\n",
       "      <td>-10000</td>\n",
       "      <td>2r2bk1/ppr2pp1/7p/2PpR2N/P2Bb3/2P4P/5Pq1/1R1Q2...</td>\n",
       "    </tr>\n",
       "    <tr>\n",
       "      <th>4</th>\n",
       "      <td>-10000</td>\n",
       "      <td>6Q1/4r2p/3p2pk/8/8/4p3/4BnPP/6RK w - - 1 53</td>\n",
       "    </tr>\n",
       "    <tr>\n",
       "      <th>...</th>\n",
       "      <td>...</td>\n",
       "      <td>...</td>\n",
       "    </tr>\n",
       "    <tr>\n",
       "      <th>6878598</th>\n",
       "      <td>10000</td>\n",
       "      <td>3r4/1pq3p1/3pn1kr/1pPPpQ1p/P5P1/2B1PK2/6P1/RN2...</td>\n",
       "    </tr>\n",
       "    <tr>\n",
       "      <th>6878599</th>\n",
       "      <td>10000</td>\n",
       "      <td>5Q2/1R2n2p/2P2Np1/4r2k/7P/4P1Pb/5P2/q4BK1 b - ...</td>\n",
       "    </tr>\n",
       "    <tr>\n",
       "      <th>6878600</th>\n",
       "      <td>10000</td>\n",
       "      <td>8/2r4p/p4p2/1p2bp2/8/6k1/P5PQ/3B2K1 b - - 3 50</td>\n",
       "    </tr>\n",
       "    <tr>\n",
       "      <th>6878601</th>\n",
       "      <td>10000</td>\n",
       "      <td>8/5Q2/p3k1P1/2p5/2Np1b2/1P6/P6q/3K4 b - - 12 52</td>\n",
       "    </tr>\n",
       "    <tr>\n",
       "      <th>6878602</th>\n",
       "      <td>10000</td>\n",
       "      <td>1R6/6p1/p3prk1/3p3Q/3P4/P4PNP/1Pqn2PK/8 b - - ...</td>\n",
       "    </tr>\n",
       "  </tbody>\n",
       "</table>\n",
       "<p>6878603 rows × 2 columns</p>\n",
       "</div>"
      ],
      "text/plain": [
       "         evaluation                                                fen\n",
       "0            -10000  8/k1N4p/5b2/p2p1p2/P7/1P4P1/K1R2P1P/r7 w - - 3 43\n",
       "1            -10000  6k1/1p3pp1/4p2p/1Rn1R2P/7r/P5N1/5PPK/2r5 w - -...\n",
       "2            -10000             8/8/8/4p1Qp/p7/P6k/8/4q1K1 w - - 28 73\n",
       "3            -10000  2r2bk1/ppr2pp1/7p/2PpR2N/P2Bb3/2P4P/5Pq1/1R1Q2...\n",
       "4            -10000        6Q1/4r2p/3p2pk/8/8/4p3/4BnPP/6RK w - - 1 53\n",
       "...             ...                                                ...\n",
       "6878598       10000  3r4/1pq3p1/3pn1kr/1pPPpQ1p/P5P1/2B1PK2/6P1/RN2...\n",
       "6878599       10000  5Q2/1R2n2p/2P2Np1/4r2k/7P/4P1Pb/5P2/q4BK1 b - ...\n",
       "6878600       10000     8/2r4p/p4p2/1p2bp2/8/6k1/P5PQ/3B2K1 b - - 3 50\n",
       "6878601       10000    8/5Q2/p3k1P1/2p5/2Np1b2/1P6/P6q/3K4 b - - 12 52\n",
       "6878602       10000  1R6/6p1/p3prk1/3p3Q/3P4/P4PNP/1Pqn2PK/8 b - - ...\n",
       "\n",
       "[6878603 rows x 2 columns]"
      ]
     },
     "execution_count": 37,
     "metadata": {},
     "output_type": "execute_result"
    }
   ],
   "source": [
    "df"
   ]
  },
  {
   "cell_type": "code",
   "execution_count": 38,
   "id": "b46f36b8-cae3-4915-8968-b9fe94638e6c",
   "metadata": {},
   "outputs": [],
   "source": [
    "df_picked = pd.DataFrame()"
   ]
  },
  {
   "cell_type": "code",
   "execution_count": 39,
   "id": "146b98ac-90d5-4e24-9d15-cba753c2d424",
   "metadata": {},
   "outputs": [
    {
     "name": "stderr",
     "output_type": "stream",
     "text": [
      "100%|██████████| 401/401 [00:27<00:00, 14.50it/s]\n"
     ]
    }
   ],
   "source": [
    "for i in tqdm(range(len(ranges))):\n",
    "    range_ = ranges[i]\n",
    "    nb_range = nb_per_range[i]\n",
    "    nb_to_sample = min(2*q, nb_range)\n",
    "    df_range_picked = df.loc[df.evaluation.isin(range_)].sample(nb_to_sample)\n",
    "    df_picked = pd.concat([df_picked, df_range_picked])"
   ]
  },
  {
   "cell_type": "code",
   "execution_count": 40,
   "id": "76f7db80-2c97-4177-bfc9-d4298efac0d2",
   "metadata": {},
   "outputs": [
    {
     "data": {
      "text/html": [
       "<div>\n",
       "<style scoped>\n",
       "    .dataframe tbody tr th:only-of-type {\n",
       "        vertical-align: middle;\n",
       "    }\n",
       "\n",
       "    .dataframe tbody tr th {\n",
       "        vertical-align: top;\n",
       "    }\n",
       "\n",
       "    .dataframe thead th {\n",
       "        text-align: right;\n",
       "    }\n",
       "</style>\n",
       "<table border=\"1\" class=\"dataframe\">\n",
       "  <thead>\n",
       "    <tr style=\"text-align: right;\">\n",
       "      <th></th>\n",
       "      <th>evaluation</th>\n",
       "      <th>fen</th>\n",
       "    </tr>\n",
       "  </thead>\n",
       "  <tbody>\n",
       "    <tr>\n",
       "      <th>260</th>\n",
       "      <td>-10000</td>\n",
       "      <td>8/p5kp/3p2p1/8/3b2n1/2P5/PP4Bq/5R1K w - - 0 43</td>\n",
       "    </tr>\n",
       "    <tr>\n",
       "      <th>24</th>\n",
       "      <td>-10000</td>\n",
       "      <td>2r4k/6np/p2p1b2/2pP4/2P1NB2/R2Q4/1r4qP/5R1K w ...</td>\n",
       "    </tr>\n",
       "    <tr>\n",
       "      <th>123</th>\n",
       "      <td>-10000</td>\n",
       "      <td>2rr2k1/5ppp/1p1Rb3/pP6/P1P1pP2/Q1R1P2P/1N2K1n1...</td>\n",
       "    </tr>\n",
       "    <tr>\n",
       "      <th>272</th>\n",
       "      <td>-10000</td>\n",
       "      <td>7k/R3b1pp/1pb5/2p4Q/P3p3/1PN1R1P1/1B1P1r1K/5q2...</td>\n",
       "    </tr>\n",
       "    <tr>\n",
       "      <th>294</th>\n",
       "      <td>-10000</td>\n",
       "      <td>K7/2q5/3k4/P7/4b3/8/8/8 w - - 10 61</td>\n",
       "    </tr>\n",
       "    <tr>\n",
       "      <th>...</th>\n",
       "      <td>...</td>\n",
       "      <td>...</td>\n",
       "    </tr>\n",
       "    <tr>\n",
       "      <th>6878500</th>\n",
       "      <td>10000</td>\n",
       "      <td>r3rkQ1/pp1n3p/2p5/q7/2BP4/7P/P5P1/K2bR3 b - - ...</td>\n",
       "    </tr>\n",
       "    <tr>\n",
       "      <th>6878186</th>\n",
       "      <td>10000</td>\n",
       "      <td>2k2R2/8/1PP5/8/7r/1K3p2/8/8 b - - 1 49</td>\n",
       "    </tr>\n",
       "    <tr>\n",
       "      <th>6878401</th>\n",
       "      <td>10000</td>\n",
       "      <td>1r3n2/1p4Q1/p1p3pk/P7/1P2P1K1/6P1/1B3q1P/4R3 b...</td>\n",
       "    </tr>\n",
       "    <tr>\n",
       "      <th>6878493</th>\n",
       "      <td>10000</td>\n",
       "      <td>4q3/5R2/P2p1Np1/4p3/4P1kp/r7/3Q2K1/8 b - - 3 58</td>\n",
       "    </tr>\n",
       "    <tr>\n",
       "      <th>6878411</th>\n",
       "      <td>10000</td>\n",
       "      <td>5Rk1/7p/4N1p1/5p2/4n3/6P1/r3PPKP/8 b - - 9 39</td>\n",
       "    </tr>\n",
       "  </tbody>\n",
       "</table>\n",
       "<p>135639 rows × 2 columns</p>\n",
       "</div>"
      ],
      "text/plain": [
       "         evaluation                                                fen\n",
       "260          -10000     8/p5kp/3p2p1/8/3b2n1/2P5/PP4Bq/5R1K w - - 0 43\n",
       "24           -10000  2r4k/6np/p2p1b2/2pP4/2P1NB2/R2Q4/1r4qP/5R1K w ...\n",
       "123          -10000  2rr2k1/5ppp/1p1Rb3/pP6/P1P1pP2/Q1R1P2P/1N2K1n1...\n",
       "272          -10000  7k/R3b1pp/1pb5/2p4Q/P3p3/1PN1R1P1/1B1P1r1K/5q2...\n",
       "294          -10000                K7/2q5/3k4/P7/4b3/8/8/8 w - - 10 61\n",
       "...             ...                                                ...\n",
       "6878500       10000  r3rkQ1/pp1n3p/2p5/q7/2BP4/7P/P5P1/K2bR3 b - - ...\n",
       "6878186       10000             2k2R2/8/1PP5/8/7r/1K3p2/8/8 b - - 1 49\n",
       "6878401       10000  1r3n2/1p4Q1/p1p3pk/P7/1P2P1K1/6P1/1B3q1P/4R3 b...\n",
       "6878493       10000    4q3/5R2/P2p1Np1/4p3/4P1kp/r7/3Q2K1/8 b - - 3 58\n",
       "6878411       10000      5Rk1/7p/4N1p1/5p2/4n3/6P1/r3PPKP/8 b - - 9 39\n",
       "\n",
       "[135639 rows x 2 columns]"
      ]
     },
     "execution_count": 40,
     "metadata": {},
     "output_type": "execute_result"
    }
   ],
   "source": [
    "df_picked"
   ]
  },
  {
   "cell_type": "code",
   "execution_count": null,
   "id": "d913770f-4933-4c11-9391-34cc6fcb18f8",
   "metadata": {},
   "outputs": [],
   "source": [
    "to_csv(df_picked, \"\")"
   ]
  }
 ],
 "metadata": {
  "kernelspec": {
   "display_name": "Python 3 (ipykernel)",
   "language": "python",
   "name": "python3"
  },
  "language_info": {
   "codemirror_mode": {
    "name": "ipython",
    "version": 3
   },
   "file_extension": ".py",
   "mimetype": "text/x-python",
   "name": "python",
   "nbconvert_exporter": "python",
   "pygments_lexer": "ipython3",
   "version": "3.11.4"
  }
 },
 "nbformat": 4,
 "nbformat_minor": 5
}
