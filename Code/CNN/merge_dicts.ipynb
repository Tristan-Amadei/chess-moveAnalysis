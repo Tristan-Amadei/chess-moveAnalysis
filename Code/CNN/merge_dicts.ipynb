{
 "cells": [
  {
   "cell_type": "code",
   "execution_count": 1,
   "id": "110eca16-556a-4202-9f89-fcc4249e316d",
   "metadata": {},
   "outputs": [],
   "source": [
    "from glob import glob\n",
    "import pickle\n",
    "from tqdm import tqdm\n",
    "import os"
   ]
  },
  {
   "cell_type": "markdown",
   "id": "c6befae5-856a-447f-83b6-bc6bc85dddc9",
   "metadata": {},
   "source": [
    "## Load all dictionaries"
   ]
  },
  {
   "cell_type": "code",
   "execution_count": 2,
   "id": "ccd026ee-3fe9-4b7f-b520-f4cb4c30358b",
   "metadata": {},
   "outputs": [],
   "source": [
    "tmp_dictionaries = glob(\"../../Data/Metric_creation/*.pkl*\")"
   ]
  },
  {
   "cell_type": "code",
   "execution_count": 3,
   "id": "0a72c91f-ba97-406a-83af-97410803f2df",
   "metadata": {},
   "outputs": [],
   "source": [
    "for x in tmp_dictionaries:\n",
    "    if x.endswith(\"dict_correspondance.pkl\"):\n",
    "        tmp_dictionaries.remove(x)"
   ]
  },
  {
   "cell_type": "code",
   "execution_count": 4,
   "id": "e2265d37-0ea7-4910-997c-dcdaf8905b6e",
   "metadata": {},
   "outputs": [
    {
     "data": {
      "text/plain": [
       "['../../Data/Metric_creation/evaluations_dict.pkl']"
      ]
     },
     "execution_count": 4,
     "metadata": {},
     "output_type": "execute_result"
    }
   ],
   "source": [
    "tmp_dictionaries"
   ]
  },
  {
   "cell_type": "code",
   "execution_count": 5,
   "id": "829d9d43-a40e-4ca6-9df9-0d6992c4efed",
   "metadata": {},
   "outputs": [],
   "source": [
    "dics = []\n",
    "for x in tmp_dictionaries:\n",
    "    with open(x, 'rb') as f:\n",
    "        dics.append(pickle.load(f))"
   ]
  },
  {
   "cell_type": "code",
   "execution_count": 6,
   "id": "731a2d22-a336-4320-a386-675bf8bb99c4",
   "metadata": {},
   "outputs": [
    {
     "name": "stdout",
     "output_type": "stream",
     "text": [
      "474774\n"
     ]
    }
   ],
   "source": [
    "for dic in dics:\n",
    "    print(len(dic))"
   ]
  },
  {
   "cell_type": "markdown",
   "id": "1cdf3667-be03-48f2-b6c7-de12bbf1567e",
   "metadata": {},
   "source": [
    "## Merge dictionaries"
   ]
  },
  {
   "cell_type": "code",
   "execution_count": 7,
   "id": "c5f9edfa-88c3-4fb0-956c-c5a711fdcbc3",
   "metadata": {},
   "outputs": [],
   "source": [
    "merged = dict()"
   ]
  },
  {
   "cell_type": "code",
   "execution_count": 8,
   "id": "84d6cf07-13be-43d4-9531-0700948dcbb0",
   "metadata": {},
   "outputs": [
    {
     "name": "stderr",
     "output_type": "stream",
     "text": [
      "100%|██████████| 1/1 [00:00<00:00,  6.12it/s]\n"
     ]
    }
   ],
   "source": [
    "for i in tqdm(range(len(dics))):\n",
    "    dic = dics[i]\n",
    "    for key in dic.keys():\n",
    "        merged[key] = dic[key]"
   ]
  },
  {
   "cell_type": "code",
   "execution_count": 9,
   "id": "ab8aae07-514e-4c42-81cf-4ea0f0bdb786",
   "metadata": {},
   "outputs": [
    {
     "data": {
      "text/plain": [
       "474774"
      ]
     },
     "execution_count": 9,
     "metadata": {},
     "output_type": "execute_result"
    }
   ],
   "source": [
    "len(merged)"
   ]
  },
  {
   "cell_type": "code",
   "execution_count": 12,
   "id": "4765e1fa-7a21-46c7-b567-bee97a623c19",
   "metadata": {},
   "outputs": [],
   "source": [
    "%run S3.ipynb"
   ]
  },
  {
   "cell_type": "code",
   "execution_count": 13,
   "id": "cc28055d-b4fa-40e4-ac50-751ac4cbb643",
   "metadata": {},
   "outputs": [],
   "source": [
    "save_dict(merged, \"evaluations_dict.pkl\")"
   ]
  },
  {
   "cell_type": "markdown",
   "id": "0d26a0ce-1815-4b00-afee-e718be94cdb0",
   "metadata": {},
   "source": [
    "## Remove temporary dictionaries"
   ]
  },
  {
   "cell_type": "code",
   "execution_count": 12,
   "id": "68a9858c-83ce-49ec-917d-42777622f49d",
   "metadata": {},
   "outputs": [],
   "source": [
    "for tmp_dic in tmp_dictionaries:\n",
    "    if not tmp_dic.endswith(\"evaluations_dict.pkl\"):\n",
    "        os.remove(tmp_dic)"
   ]
  },
  {
   "cell_type": "code",
   "execution_count": null,
   "id": "194b4115-378c-4ca5-8fd0-bb3948f11225",
   "metadata": {},
   "outputs": [],
   "source": []
  }
 ],
 "metadata": {
  "kernelspec": {
   "display_name": "Python 3 (ipykernel)",
   "language": "python",
   "name": "python3"
  },
  "language_info": {
   "codemirror_mode": {
    "name": "ipython",
    "version": 3
   },
   "file_extension": ".py",
   "mimetype": "text/x-python",
   "name": "python",
   "nbconvert_exporter": "python",
   "pygments_lexer": "ipython3",
   "version": "3.11.4"
  }
 },
 "nbformat": 4,
 "nbformat_minor": 5
}
